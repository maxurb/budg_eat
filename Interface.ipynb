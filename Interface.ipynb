{
 "cells": [
  {
   "cell_type": "code",
   "execution_count": 2,
   "metadata": {},
   "outputs": [
    {
     "name": "stdout",
     "output_type": "stream",
     "text": [
      "Collecting PySide2\n",
      "  Downloading PySide2-5.15.2-5.15.2-cp35.cp36.cp37.cp38.cp39-abi3-macosx_10_13_intel.whl (148.5 MB)\n",
      "\u001b[K     |████████████████████████████████| 148.5 MB 26 kB/s  eta 0:00:01     |███████████████████████▎        | 108.1 MB 1.4 MB/s eta 0:00:29\n",
      "\u001b[?25hCollecting shiboken2==5.15.2\n",
      "  Downloading shiboken2-5.15.2-5.15.2-cp35.cp36.cp37.cp38.cp39-abi3-macosx_10_13_intel.whl (940 kB)\n",
      "\u001b[K     |████████████████████████████████| 940 kB 837 kB/s eta 0:00:01\n",
      "\u001b[?25hInstalling collected packages: shiboken2, PySide2\n",
      "Successfully installed PySide2-5.15.2 shiboken2-5.15.2\n",
      "Note: you may need to restart the kernel to use updated packages.\n"
     ]
    }
   ],
   "source": [
    "pip -- install PySide2"
   ]
  },
  {
   "cell_type": "code",
   "execution_count": 54,
   "metadata": {},
   "outputs": [],
   "source": [
    "import sys\n",
    "from PySide2 import QtCore, QtGui, QtWidgets"
   ]
  },
  {
   "cell_type": "markdown",
   "metadata": {},
   "source": [
    "### On s'inspire de programmes déjà existants et trouvables sur : \n",
    "https://courspython.com/boutons.html#gestion-du-bouton\n",
    "\n",
    "https://python.antoinepernot.fr/cours.php?course=chap10\n"
   ]
  },
  {
   "cell_type": "markdown",
   "metadata": {},
   "source": [
    "### A noter qu'on devra créer au préalable une fonction macro qui renvoie pour un ingrédient tous les macros (combine NLP et notre base de donnée)"
   ]
  },
  {
   "cell_type": "markdown",
   "metadata": {},
   "source": [
    "### Création de l'interface "
   ]
  },
  {
   "cell_type": "markdown",
   "metadata": {},
   "source": [
    "#### 1) Pour un seul ingrédient"
   ]
  },
  {
   "cell_type": "code",
   "execution_count": 1,
   "metadata": {},
   "outputs": [
    {
     "name": "stdout",
     "output_type": "stream",
     "text": [
      "clique sur macro\n"
     ]
    },
    {
     "ename": "NameError",
     "evalue": "name 'gram1' is not defined",
     "output_type": "error",
     "traceback": [
      "\u001b[0;31m---------------------------------------------------------------------------\u001b[0m",
      "\u001b[0;31mNameError\u001b[0m                                 Traceback (most recent call last)",
      "\u001b[0;32m<ipython-input-1-dcdc613d650e>\u001b[0m in \u001b[0;36mget\u001b[0;34m(self)\u001b[0m\n\u001b[1;32m     56\u001b[0m         \u001b[0mboolgram1\u001b[0m \u001b[0;34m=\u001b[0m \u001b[0mself\u001b[0m\u001b[0;34m.\u001b[0m\u001b[0m__gram1\u001b[0m\u001b[0;34m.\u001b[0m\u001b[0misChecked\u001b[0m\u001b[0;34m(\u001b[0m\u001b[0;34m)\u001b[0m\u001b[0;34m\u001b[0m\u001b[0;34m\u001b[0m\u001b[0m\n\u001b[1;32m     57\u001b[0m         \u001b[0mboolunit1\u001b[0m \u001b[0;34m=\u001b[0m \u001b[0mself\u001b[0m\u001b[0;34m.\u001b[0m\u001b[0m__unit1\u001b[0m\u001b[0;34m.\u001b[0m\u001b[0misChecked\u001b[0m\u001b[0;34m(\u001b[0m\u001b[0;34m)\u001b[0m\u001b[0;34m\u001b[0m\u001b[0;34m\u001b[0m\u001b[0m\n\u001b[0;32m---> 58\u001b[0;31m         \u001b[0mprint\u001b[0m\u001b[0;34m(\u001b[0m\u001b[0mname1\u001b[0m\u001b[0;34m,\u001b[0m\u001b[0mquant1\u001b[0m\u001b[0;34m,\u001b[0m\u001b[0mgram1\u001b[0m\u001b[0;34m,\u001b[0m\u001b[0munit1\u001b[0m\u001b[0;34m)\u001b[0m\u001b[0;34m\u001b[0m\u001b[0;34m\u001b[0m\u001b[0m\n\u001b[0m\u001b[1;32m     59\u001b[0m         \u001b[0;31m#macro1 = getmacro(name1,quant1,boolgram1,boolunit1) #on utilise la fonction macro qu'on aura créé qui renvoie pour les macros pour un ingrédients\u001b[0m\u001b[0;34m\u001b[0m\u001b[0;34m\u001b[0m\u001b[0;34m\u001b[0m\u001b[0m\n\u001b[1;32m     60\u001b[0m         \u001b[0mself\u001b[0m\u001b[0;34m.\u001b[0m\u001b[0m__reponse\u001b[0m\u001b[0;34m.\u001b[0m\u001b[0msetText\u001b[0m\u001b[0;34m(\u001b[0m\u001b[0;34m\"réponse\"\u001b[0m\u001b[0;34m)\u001b[0m\u001b[0;34m\u001b[0m\u001b[0;34m\u001b[0m\u001b[0m\n",
      "\u001b[0;31mNameError\u001b[0m: name 'gram1' is not defined"
     ]
    },
    {
     "data": {
      "text/plain": [
       "0"
      ]
     },
     "execution_count": 1,
     "metadata": {},
     "output_type": "execute_result"
    }
   ],
   "source": [
    "import sys\n",
    "from PyQt5.QtWidgets import QApplication, QWidget, QLabel, QPushButton, QGridLayout, QVBoxLayout, QDialog, QLineEdit, QCheckBox\n",
    "\n",
    "class Interface(QDialog):\n",
    "    def __init__(self, parent=None):\n",
    "        QDialog.__init__(self,parent)\n",
    "        \n",
    "        #Labels ingrédients\n",
    "        self.__label1 = QLabel(\"Ingrédient 1\")\n",
    "        \n",
    "        #Ingrédients à remplir\n",
    "        self.__ingredient1 = QLineEdit(\"Ingredient\")\n",
    "        \n",
    "        #Quantités à remplir\n",
    "        self.__quant1 = QLineEdit(\"Quantite 1\") #on peut aussi utiliser QSpinBox ou QDoubleSpinBox pour forcer à rentrer des nb entiers ou avec des décimales\n",
    "        \n",
    "        #Unité à remplir\n",
    "        self.__gram1 = QCheckBox(\"En gramme\")\n",
    "        self.__unit1 = QCheckBox(\"En unité\")\n",
    "        \n",
    "        #Boutons\n",
    "        self.__boutonQuit = QPushButton(\"Quitter\")\n",
    "        self.__boutonGet = QPushButton(\"Obtenir les macro-nutriments\")\n",
    "        \n",
    "        #La réponse\n",
    "        self.__label = QLabel(\"Résultat:\")\n",
    "        self.__reponse = QLineEdit(\"\")\n",
    "\n",
    "        #Geometrie de l'interface\n",
    "        layout = QGridLayout()\n",
    "        layout.addWidget(self.__label1,0,0)\n",
    "        layout.addWidget(self.__ingredient1,0,1)\n",
    "        layout.addWidget(self.__quant1,0,2)\n",
    "        layout.addWidget(self.__gram1,0,3)\n",
    "        layout.addWidget(self.__unit1,0,4)\n",
    "        layout.addWidget(self.__boutonQuit,1,1)\n",
    "        layout.addWidget(self.__boutonGet,1,2)\n",
    "        layout.addWidget(self.__label,2,1)\n",
    "        layout.addWidget(self.__reponse,2,2)\n",
    "        \n",
    "        self.setLayout(layout)\n",
    "        self.setWindowTitle(\"Combien de macro-nutriments dans votre recette ?\")\n",
    "        \n",
    "        #Rendre nos actions compréhensibles par l'interface et utilisables dans la fonction 'get'\n",
    "        self.__gram1.setChecked(True)\n",
    "        self.__boutonQuit.clicked.connect(self.quit)\n",
    "        self.__boutonGet.clicked.connect(self.get)\n",
    "        \n",
    "        #On définit les fonctions qui permettent de quitter l'interface ou d'executer notre algo\n",
    "    def quit(self):\n",
    "        self.accept()\n",
    "    def get(self):\n",
    "        print(\"clique sur macro\")\n",
    "        name1 = self.__ingredient1.text()\n",
    "        quant1 = self.__quant1.text()\n",
    "        boolgram1 = self.__gram1.isChecked()\n",
    "        boolunit1 = self.__unit1.isChecked()\n",
    "        print(name1,quant1,gram1,unit1)\n",
    "        #macro1 = getmacro(name1,quant1,boolgram1,boolunit1) #on utilise la fonction macro qu'on aura créé qui renvoie pour les macros pour un ingrédients\n",
    "        self.__reponse.setText(\"réponse\")\n",
    "        \n",
    "app = QApplication.instance() \n",
    "if not app:\n",
    "    app = QApplication(sys.argv)\n",
    "    \n",
    "fen = Interface()\n",
    "fen.show()\n",
    "\n",
    "app.exec_()\n"
   ]
  },
  {
   "cell_type": "markdown",
   "metadata": {},
   "source": [
    "#### Ancien algorithme qui ne fonctionne pas mais que l'on conserve car certaines lignes sont utiles pour copier coller\n",
    "\n"
   ]
  },
  {
   "cell_type": "code",
   "execution_count": null,
   "metadata": {},
   "outputs": [],
   "source": [
    "import sys\n",
    "from PySide2 import QtCore, QtGui, QtWidgets\n",
    "\n",
    "# pour 3 ingrédients \n",
    "class Interface(QtWidgets.QDialog):\n",
    "    def __init__(self, parent=None):\n",
    "        QtWidgets.QDialog.__init__(self,parent)\n",
    "        \n",
    "        #Ingrédients à remplir\n",
    "        self.__ingredient1 = QtWidgets.QLineEdit(\"Ingredient 1\")\n",
    "        self.__ingredient2 = QtWidgets.QLineEdit(\"Ingredient 2\")\n",
    "        self.__ingredient3 = QtWidgets.QLineEdit(\"Ingredient 3\")\n",
    "        \n",
    "        #Quantités à remplir\n",
    "        self.__quant1 = QtWidgets.QLineEdit(\"Quantite 1\") #on peut aussi utiliser QSpinBox ou QDoubleSpinBox pour forcer à rentrer des nb entiers ou avec des décimales\n",
    "        self.__quant2 = QtWidgets.QLineEdit(\"Quantite 2\")\n",
    "        self.__quant3 = QtWidgets.QLineEdit(\"Quantite 3\")\n",
    "        \n",
    "        #Unité à remplir\n",
    "        self.__gram1 = QtWidgets.QCheckBox(\"En gramme\")\n",
    "        self.__gram2 = QtWidgets.QCheckBox(\"En gramme\")\n",
    "        self.__gram3 = QtWidgets.QCheckBox(\"En gramme\")\n",
    "        self.__unit1 = QtWidgets.QCheckBox(\"En unité\")\n",
    "        self.__unit2 = QtWidgets.QCheckBox(\"En unité\")\n",
    "        self.__unit3 = QtWidgets.QCheckBox(\"En unité\")\n",
    "        \n",
    "        #Boutons\n",
    "        self.__boutonQuit = QtWidgets.QPushButton(\"Quitter\")\n",
    "        self.__boutonGet = QtWidgets.QPushButton(\"Obtenir les macro-nutriments\")\n",
    "        \n",
    "        #La réponse\n",
    "        self.__reponse = QtWidgets.QLineEdit(\"\")\n",
    "        \n",
    "        #Répartition des boutons/textes sur l'interface\n",
    "        layout = QtWidgets.QGridLayout()\n",
    "        layout.addWidget(self.__ingredient1, 0, 0)\n",
    "        layout.addWidget(self.__ingredient2, 1, 0)\n",
    "        layout.addWidget(self.__ingredient3, 2, 0)\n",
    "        layout.addWidget(self.__quant1, 0, 1)\n",
    "        layout.addWidget(self.__quant2, 1, 1)\n",
    "        layout.addWidget(self.__quant3, 2, 1)\n",
    "        layout.addWidget(self.__gram1, 0, 2)\n",
    "        layout.addWidget(self.__gram2, 1, 2)\n",
    "        layout.addWidget(self.__gram3, 2, 2)\n",
    "        layout.addWidget(self.__unit1, 0, 3)\n",
    "        layout.addWidget(self.__unit2, 1, 3)\n",
    "        layout.addWidget(self.__unit3, 2, 3)\n",
    "        self.setLayout(layout)\n",
    "        self.setWindowTitle(\"Combien de macro-nutriments dans votre recette ?\")\n",
    "        \n",
    "        #\n",
    "        self.__gram1.setChecked(True)\n",
    "        self.__gram2.setChecked(True)\n",
    "        self.__gram3.setChecked(True)\n",
    "        self.__unit1.setChecked(True)\n",
    "        self.__unit2.setChecked(True)\n",
    "        self.__unit3.setChecked(True)\n",
    "        self.__boutonQuit.clicked.connect(self.quit)\n",
    "        self.__boutonGet.clicked.connect(self.get)\n",
    "\n",
    "    #On définit les fonctions qui permettent de quitter l'interface ou d'executer notre algo\n",
    "    def quitter(self):\n",
    "        self.accept()\n",
    "    def get(self):\n",
    "        name1 = self.__ingredient1.value()\n",
    "        quant1 = self.__quant1.value()\n",
    "        gram1 = self.__gram1.isChecked()\n",
    "        unit1 = self.__unit1.isChecked()\n",
    "        macro1 = macro(name1,quant1,gram1,unit1) #on utilise la fonction macro qu'on aura créé qui renvoie pour les macros pour un ingrédients\n",
    "        name2 = self.__ingredient2.value()\n",
    "        quant2 = self.__quant2.value()\n",
    "        gram2 = self.__gram2.isChecked()\n",
    "        unit2 = self.__unit2.isChecked()\n",
    "        macro2 = macro(name2,quant2,gram2,unit2)\n",
    "        name3 = self.__ingredient3.value()\n",
    "        quant3 = self.__quant3.value()\n",
    "        gram3 = self.__gram3.isChecked()\n",
    "        unit3 = self.__unit3.isChecked()\n",
    "        macro3 = macro(name3,quant3,gram3,unit3)\n",
    "        #résultat final\n",
    "        self.__reponse.setText() #c'est entre les parenthèses qu'il faudra écrire le résultat que l'on souhaite renvoyer à l'utilisateur\n",
    "\n",
    "app = QtWidgets.QApplication.instance()\n",
    "if not app:\n",
    "    app = QtWidgets.QApplication(sys.argv)\n",
    "\n",
    "dialog = Interface()\n",
    "app.exec_()"
   ]
  },
  {
   "cell_type": "code",
   "execution_count": null,
   "metadata": {},
   "outputs": [],
   "source": []
  },
  {
   "cell_type": "code",
   "execution_count": null,
   "metadata": {},
   "outputs": [],
   "source": []
  },
  {
   "cell_type": "code",
   "execution_count": null,
   "metadata": {},
   "outputs": [],
   "source": []
  },
  {
   "cell_type": "code",
   "execution_count": null,
   "metadata": {},
   "outputs": [],
   "source": []
  }
 ],
 "metadata": {
  "kernelspec": {
   "display_name": "Python 3",
   "language": "python",
   "name": "python3"
  },
  "language_info": {
   "codemirror_mode": {
    "name": "ipython",
    "version": 3
   },
   "file_extension": ".py",
   "mimetype": "text/x-python",
   "name": "python",
   "nbconvert_exporter": "python",
   "pygments_lexer": "ipython3",
   "version": "3.8.8"
  }
 },
 "nbformat": 4,
 "nbformat_minor": 2
}
