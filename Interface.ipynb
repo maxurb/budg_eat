{
 "cells": [
  {
   "cell_type": "markdown",
   "metadata": {},
   "source": [
    "## L'objectif de ce notebook est de créer l'interface finale\n",
    "\n",
    "Nous souhaitons que l'utilisateur de notre app ait accès à une interface graphique simple où il pourra rentrer les ingrédients de sa recette, et l'interface lui indiquera les macronutriments de cette recette. \n",
    "\n",
    "### On utilise pour cela PySide2"
   ]
  },
  {
   "cell_type": "code",
   "execution_count": 1,
   "metadata": {},
   "outputs": [
    {
     "name": "stdout",
     "output_type": "stream",
     "text": [
      "Requirement already satisfied: PySide2 in /anaconda3/lib/python3.7/site-packages (5.15.2)\n",
      "Requirement already satisfied: shiboken2==5.15.2 in /anaconda3/lib/python3.7/site-packages (from PySide2) (5.15.2)\n",
      "Note: you may need to restart the kernel to use updated packages.\n"
     ]
    }
   ],
   "source": [
    "pip -- install PySide2"
   ]
  },
  {
   "cell_type": "code",
   "execution_count": 2,
   "metadata": {},
   "outputs": [],
   "source": [
    "import sys\n",
    "from PySide2 import QtCore, QtGui, QtWidgets"
   ]
  },
  {
   "cell_type": "markdown",
   "metadata": {},
   "source": [
    "### Création de l'interface "
   ]
  },
  {
   "cell_type": "markdown",
   "metadata": {},
   "source": [
    "#### 1) Pour un seul ingrédient"
   ]
  },
  {
   "cell_type": "code",
   "execution_count": 1,
   "metadata": {},
   "outputs": [
    {
     "data": {
      "text/plain": [
       "0"
      ]
     },
     "execution_count": 1,
     "metadata": {},
     "output_type": "execute_result"
    }
   ],
   "source": [
    "import sys\n",
    "from PyQt5.QtWidgets import QApplication, QWidget, QLabel, QPushButton, QGridLayout, QVBoxLayout, QDialog, QLineEdit, QCheckBox\n",
    "\n",
    "class Interface(QDialog):\n",
    "    def __init__(self, parent=None):\n",
    "        QDialog.__init__(self,parent)\n",
    "        \n",
    "        #Labels ingrédients\n",
    "        self.__label1 = QLabel(\"Ingrédient 1\")\n",
    "        \n",
    "        #Ingrédients à remplir par l'utilisateur\n",
    "        self.__ingredient1 = QLineEdit(\"Ingredient\")\n",
    "        \n",
    "        #Quantités à remplir par l'utilisateur\n",
    "        self.__quant1 = QLineEdit(\"Quantite 1\") #on peut aussi utiliser QSpinBox ou QDoubleSpinBox pour forcer à rentrer des nb entiers ou avec des décimales\n",
    "        \n",
    "        #Unité à remplir par l'utilisateur\n",
    "        self.__gram1 = QCheckBox(\"En gramme\")\n",
    "        self.__unit1 = QCheckBox(\"En unité\")\n",
    "        \n",
    "        #Boutons pour quitter l'app ou obtenir le résultat\n",
    "        self.__boutonQuit = QPushButton(\"Quitter\")\n",
    "        self.__boutonGet = QPushButton(\"Obtenir les macro-nutriments\")\n",
    "        \n",
    "        #La réponse\n",
    "        self.__label = QLabel(\"Résultat:\")\n",
    "        self.__reponse = QLineEdit(\"\")\n",
    "\n",
    "        #Geometrie de l'interface\n",
    "        layout = QGridLayout()\n",
    "        layout.addWidget(self.__label1,0,0)\n",
    "        layout.addWidget(self.__ingredient1,0,1)\n",
    "        layout.addWidget(self.__quant1,0,2)\n",
    "        layout.addWidget(self.__gram1,0,3)\n",
    "        layout.addWidget(self.__unit1,0,4)\n",
    "        layout.addWidget(self.__boutonQuit,1,1)\n",
    "        layout.addWidget(self.__boutonGet,1,2)\n",
    "        layout.addWidget(self.__label,2,1)\n",
    "        layout.addWidget(self.__reponse,2,2)\n",
    "        \n",
    "        self.setLayout(layout)\n",
    "        self.setWindowTitle(\"Combien de macro-nutriments dans votre recette ?\")\n",
    "        \n",
    "        #Rendre nos actions compréhensibles par l'interface et utilisables dans la fonction 'get'\n",
    "        self.__gram1.setChecked(True)\n",
    "        self.__boutonQuit.clicked.connect(self.quit)\n",
    "        self.__boutonGet.clicked.connect(self.get)\n",
    "        \n",
    "        #On définit les fonctions qui permettent de quitter l'interface ou d'executer notre algo\n",
    "    def quit(self):\n",
    "        self.accept()\n",
    "    def get(self):\n",
    "        print(\"clique sur macro\")\n",
    "        name1 = self.__ingredient1.text()\n",
    "        quant1 = float(self.__quant1.text())\n",
    "        boolgram1 = self.__gram1.isChecked()\n",
    "        boolunit1 = self.__unit1.isChecked()\n",
    "        print(name1,quant1,boolgram1,boolunit1)\n",
    "        macro1 = getmacro(name1,quant1,boolgram1,boolunit1) #on utilise la fonction macro qui renvoie les macros d'un ingrédient\n",
    "        self.__reponse.setText(macro1)\n",
    "        \n",
    "app = QApplication.instance() \n",
    "if not app:\n",
    "    app = QApplication(sys.argv)\n",
    "    \n",
    "fen = Interface()\n",
    "fen.show()\n",
    "\n",
    "app.exec_()\n"
   ]
  }
 ],
 "metadata": {
  "kernelspec": {
   "display_name": "Python 3",
   "language": "python",
   "name": "python3"
  },
  "language_info": {
   "codemirror_mode": {
    "name": "ipython",
    "version": 3
   },
   "file_extension": ".py",
   "mimetype": "text/x-python",
   "name": "python",
   "nbconvert_exporter": "python",
   "pygments_lexer": "ipython3",
   "version": "3.7.3"
  }
 },
 "nbformat": 4,
 "nbformat_minor": 2
}
