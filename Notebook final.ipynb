{
 "cells": [
  {
   "cell_type": "markdown",
   "metadata": {},
   "source": [
    "## Notebook final "
   ]
  },
  {
   "cell_type": "markdown",
   "metadata": {},
   "source": [
    "## Partie 1 : Database Yazio"
   ]
  },
  {
   "cell_type": "code",
   "execution_count": 7,
   "metadata": {},
   "outputs": [],
   "source": [
    "import urllib\n",
    "import bs4\n",
    "import pandas\n",
    "import numpy as np\n",
    "from urllib import request\n",
    "import requests",
    "import re"
   ]
  },
  {
   "cell_type": "code",
   "execution_count": 8,
   "metadata": {},
   "outputs": [],
   "source": [
    "yaziopage = requests.get(\"https://www.yazio.com/fr/aliments\")"
   ]
  },
  {
   "cell_type": "code",
   "execution_count": 9,
   "metadata": {},
   "outputs": [],
   "source": [
    "clean_yazio_page = bs4.BeautifulSoup(yaziopage.content, \"lxml\")"
   ]
  },
  {
   "cell_type": "code",
   "execution_count": 10,
   "metadata": {},
   "outputs": [],
   "source": [
    "# Récupération des liens pour chaque catégorie\n",
    "\n",
    "elem = clean_yazio_page.findAll(\"a\",{\"class\": \"position-relative text-decoration-none\"})"
   ]
  },
  {
   "cell_type": "code",
   "execution_count": 11,
   "metadata": {},
   "outputs": [
    {
     "name": "stdout",
     "output_type": "stream",
     "text": [
      "Le nombre de catégories d'aliments est de 26\n",
      "https://www.yazio.com/fr/aliments/divers\n"
     ]
    }
   ],
   "source": [
    "print(\"Le nombre de catégories d'aliments est de \" + str(len(clean_yazio_page.findAll(\"a\",{\"class\": \"position-relative text-decoration-none\"}))))\n",
    "\n",
    "links = clean_yazio_page.findAll(\"a\",{\"class\": \"position-relative text-decoration-none\"})\n",
    "\n",
    "def get_page(category):\n",
    "    for i in links : \n",
    "        link = i.get(\"title\")\n",
    "        if link.lower() == category:\n",
    "            return i.get(\"href\")\n",
    "        \n",
    "print(get_page(\"divers\"))"
   ]
  },
  {
   "cell_type": "code",
   "execution_count": 12,
   "metadata": {},
   "outputs": [
    {
     "name": "stdout",
     "output_type": "stream",
     "text": [
      "Boissons alcoolisées https://www.yazio.com/fr/aliments/boissons-alcoolisees\n",
      "Boissons non-alcoolisées https://www.yazio.com/fr/aliments/boissons-non-alcoolisees\n",
      "Divers https://www.yazio.com/fr/aliments/divers\n",
      "Fast food https://www.yazio.com/fr/aliments/fast-food\n",
      "Fines herbes et épices https://www.yazio.com/fr/aliments/fines-herbes-epices\n",
      "Friandises https://www.yazio.com/fr/aliments/friandises\n",
      "Fromage https://www.yazio.com/fr/aliments/fromage\n",
      "Fruits https://www.yazio.com/fr/aliments/fruits\n",
      "Gâteaux et tartes https://www.yazio.com/fr/aliments/gateaux-tartes\n",
      "Huiles et matières grasses https://www.yazio.com/fr/aliments/huiles-matieres-grasses\n",
      "Ingrédients pour la pâtisserie https://www.yazio.com/fr/aliments/ingredients-patisserie\n",
      "Lait et produits laitiers https://www.yazio.com/fr/aliments/lait-produits-laitiers\n",
      "Légumes https://www.yazio.com/fr/aliments/legumes\n",
      "Légumineuses https://www.yazio.com/fr/aliments/legumineuses\n",
      "Muesli, flocons d'avoine et céréales https://www.yazio.com/fr/aliments/muesli-flocons-davoine-cereales\n",
      "Noix et graines https://www.yazio.com/fr/aliments/noix-graines\n",
      "Pâte à tartiner et confiture https://www.yazio.com/fr/aliments/pate-tartiner-confiture\n",
      "Pâtes et nouilles https://www.yazio.com/fr/aliments/pates-nouilles\n",
      "Pâtisseries et viennoiseries https://www.yazio.com/fr/aliments/patisseries-viennoiseries\n",
      "Plats https://www.yazio.com/fr/aliments/plats\n",
      "Poisson https://www.yazio.com/fr/aliments/poisson\n",
      "Produits à base de soja https://www.yazio.com/fr/aliments/produits-base-soja\n",
      "Produits céréaliers https://www.yazio.com/fr/aliments/produits-cerealiers\n",
      "Produits de pommes de terre https://www.yazio.com/fr/aliments/produits-pommes-terre\n",
      "Sauces et vinaigrettes https://www.yazio.com/fr/aliments/sauces-vinaigrettes\n",
      "Viande https://www.yazio.com/fr/aliments/viande\n"
     ]
    }
   ],
   "source": [
    "rows = clean_yazio_page.findAll(\"a\",{\"class\": \"position-relative text-decoration-none\"})\n",
    "A = np.zeros((26,2))\n",
    "a = 0\n",
    "for i in links : \n",
    "    print(i.get(\"title\"),i.get(\"href\"))"
   ]
  },
  {
   "cell_type": "code",
   "execution_count": 13,
   "metadata": {},
   "outputs": [],
   "source": [
    "dico_categories = dict()\n",
    "for row in rows : \n",
    "    cols = row.get(\"title\")\n",
    "    if len(cols)>0 : \n",
    "        dico_categories[cols]=row.get(\"href\")"
   ]
  },
  {
   "cell_type": "code",
   "execution_count": 14,
   "metadata": {},
   "outputs": [
    {
     "name": "stdout",
     "output_type": "stream",
     "text": [
      "https://www.yazio.com/fr/aliments/boissons-alcoolisees\n",
      "https://www.yazio.com/fr/aliments/boissons-non-alcoolisees\n",
      "https://www.yazio.com/fr/aliments/divers\n",
      "https://www.yazio.com/fr/aliments/fast-food\n",
      "https://www.yazio.com/fr/aliments/fines-herbes-epices\n",
      "https://www.yazio.com/fr/aliments/friandises\n",
      "https://www.yazio.com/fr/aliments/fromage\n",
      "https://www.yazio.com/fr/aliments/fruits\n",
      "https://www.yazio.com/fr/aliments/gateaux-tartes\n",
      "https://www.yazio.com/fr/aliments/huiles-matieres-grasses\n",
      "https://www.yazio.com/fr/aliments/ingredients-patisserie\n",
      "https://www.yazio.com/fr/aliments/lait-produits-laitiers\n",
      "https://www.yazio.com/fr/aliments/legumes\n",
      "https://www.yazio.com/fr/aliments/legumineuses\n",
      "https://www.yazio.com/fr/aliments/muesli-flocons-davoine-cereales\n",
      "https://www.yazio.com/fr/aliments/noix-graines\n",
      "https://www.yazio.com/fr/aliments/pate-tartiner-confiture\n",
      "https://www.yazio.com/fr/aliments/pates-nouilles\n",
      "https://www.yazio.com/fr/aliments/patisseries-viennoiseries\n",
      "https://www.yazio.com/fr/aliments/plats\n",
      "https://www.yazio.com/fr/aliments/poisson\n",
      "https://www.yazio.com/fr/aliments/produits-base-soja\n",
      "https://www.yazio.com/fr/aliments/produits-cerealiers\n",
      "https://www.yazio.com/fr/aliments/produits-pommes-terre\n",
      "https://www.yazio.com/fr/aliments/sauces-vinaigrettes\n",
      "https://www.yazio.com/fr/aliments/viande\n"
     ]
    }
   ],
   "source": [
    "for link in dico_categories.values():\n",
    "    print(link)"
   ]
  },
  {
   "cell_type": "code",
   "execution_count": 15,
   "metadata": {},
   "outputs": [
    {
     "name": "stdout",
     "output_type": "stream",
     "text": [
      "https://www.yazio.com/fr/aliments/alcools-forts-spiritueux\n",
      "https://www.yazio.com/fr/aliments/biere\n",
      "https://www.yazio.com/fr/aliments/cocktails\n",
      "https://www.yazio.com/fr/aliments/vin\n",
      "https://www.yazio.com/fr/aliments/lait-de-poule.html\n",
      "https://www.yazio.com/fr/aliments/champagne-champagne-brut.html\n",
      "https://www.yazio.com/fr/aliments/champagne-champagne-brut.html\n",
      "https://www.yazio.com/fr/aliments/lait-de-poule.html\n",
      "https://www.yazio.com/fr/aliments/lait-de-poule.html\n",
      "https://www.yazio.com/fr/aliments/champagne-champagne-brut.html\n"
     ]
    }
   ],
   "source": [
    "yazio_sous_cat=requests.get(\"https://www.yazio.com/fr/aliments/boissons-alcoolisees\")\n",
    "clean_yazio_sous_cat = bs4.BeautifulSoup(yazio_sous_cat.content, \"lxml\")\n",
    "rows = clean_yazio_sous_cat.findAll(\"a\",{\"class\": \"link\"})\n",
    "for i in rows : \n",
    "    print(i.get(\"href\"))\n",
    "    \n",
    "#On remarque que certains liens sont en double, on pensera à retraiter plus tard"
   ]
  },
  {
   "cell_type": "code",
   "execution_count": 16,
   "metadata": {},
   "outputs": [],
   "source": [
    "links = clean_yazio_page.findAll(\"a\",{\"class\": \"position-relative text-decoration-none\"})\n",
    "\n",
    "list_sous_cat = []\n",
    "for link in dico_categories.values():\n",
    "    yazio_sous_cat = requests.get(str(link))\n",
    "    clean_yazio_sous_cat = bs4.BeautifulSoup(yazio_sous_cat.content, \"lxml\")\n",
    "    rows = clean_yazio_sous_cat.findAll(\"a\",{\"class\": \"link\"})\n",
    "    for i in rows : \n",
    "        list_sous_cat.append(i.get(\"href\"))"
   ]
  },
  {
   "cell_type": "code",
   "execution_count": 17,
   "metadata": {},
   "outputs": [],
   "source": [
    "list_sc_retraite =[]\n",
    "\n",
    "for element in list_sous_cat:\n",
    "    if element not in list_sc_retraite :\n",
    "        list_sc_retraite.append(element)"
   ]
  },
  {
   "cell_type": "code",
   "execution_count": 18,
   "metadata": {},
   "outputs": [],
   "source": [
    "list_food = []\n",
    "for element in list_sc_retraite: \n",
    "    if element[(len(element)-4):] == 'html':\n",
    "        list_food.append(element)"
   ]
  },
  {
   "cell_type": "code",
   "execution_count": 19,
   "metadata": {},
   "outputs": [],
   "source": [
    "def nutri_link(link_aliment):\n",
    "    tab_indiv = []\n",
    "    website = requests.get(link_aliment)\n",
    "    clean_website = bs4.BeautifulSoup(website.content, \"lxml\")\n",
    "    linksnb = clean_website.findAll(\"span\",{\"class\": \"serving-calculator-numbers-value\"}) #les lignes qui contiennent les valeurs\n",
    "    #linkstitle = clean_website.findAll(\"div\",{\"class\": \"font-body text-left\"}) #les lignes qui contiennent les titres Glucides, Protéines... pour le moment on s'en sert pas\n",
    "    for i in range(4): #on donne les 4 valeurs kcal, glu, prot, lip\n",
    "        tab_indiv.append(linksnb[i].get(\"data-standard-value\")) #data-standard-value donne la version pour 100g\n",
    "    return np.array([tab_indiv])"
   ]
  },
  {
   "cell_type": "code",
   "execution_count": 20,
   "metadata": {},
   "outputs": [
    {
     "ename": "KeyboardInterrupt",
     "evalue": "",
     "output_type": "error",
     "traceback": [
      "\u001b[0;31m---------------------------------------------------------------------------\u001b[0m",
      "\u001b[0;31mTypeError\u001b[0m                                 Traceback (most recent call last)",
      "\u001b[0;32m//anaconda3/lib/python3.7/site-packages/urllib3/connectionpool.py\u001b[0m in \u001b[0;36m_make_request\u001b[0;34m(self, conn, method, url, timeout, chunked, **httplib_request_kw)\u001b[0m\n\u001b[1;32m    376\u001b[0m             \u001b[0;32mtry\u001b[0m\u001b[0;34m:\u001b[0m  \u001b[0;31m# Python 2.7, use buffering of HTTP responses\u001b[0m\u001b[0;34m\u001b[0m\u001b[0;34m\u001b[0m\u001b[0m\n\u001b[0;32m--> 377\u001b[0;31m                 \u001b[0mhttplib_response\u001b[0m \u001b[0;34m=\u001b[0m \u001b[0mconn\u001b[0m\u001b[0;34m.\u001b[0m\u001b[0mgetresponse\u001b[0m\u001b[0;34m(\u001b[0m\u001b[0mbuffering\u001b[0m\u001b[0;34m=\u001b[0m\u001b[0;32mTrue\u001b[0m\u001b[0;34m)\u001b[0m\u001b[0;34m\u001b[0m\u001b[0;34m\u001b[0m\u001b[0m\n\u001b[0m\u001b[1;32m    378\u001b[0m             \u001b[0;32mexcept\u001b[0m \u001b[0mTypeError\u001b[0m\u001b[0;34m:\u001b[0m  \u001b[0;31m# Python 3\u001b[0m\u001b[0;34m\u001b[0m\u001b[0;34m\u001b[0m\u001b[0m\n",
      "\u001b[0;31mTypeError\u001b[0m: getresponse() got an unexpected keyword argument 'buffering'",
      "\nDuring handling of the above exception, another exception occurred:\n",
      "\u001b[0;31mKeyboardInterrupt\u001b[0m                         Traceback (most recent call last)",
      "\u001b[0;32m<ipython-input-20-6611660c59fa>\u001b[0m in \u001b[0;36m<module>\u001b[0;34m\u001b[0m\n\u001b[1;32m      3\u001b[0m     \u001b[0;32mif\u001b[0m \u001b[0mstr\u001b[0m\u001b[0;34m(\u001b[0m\u001b[0mrequests\u001b[0m\u001b[0;34m.\u001b[0m\u001b[0mget\u001b[0m\u001b[0;34m(\u001b[0m\u001b[0mlink\u001b[0m\u001b[0;34m)\u001b[0m\u001b[0;34m)\u001b[0m \u001b[0;34m!=\u001b[0m \u001b[0;34m'<Response [404]>'\u001b[0m\u001b[0;34m:\u001b[0m\u001b[0;34m\u001b[0m\u001b[0;34m\u001b[0m\u001b[0m\n\u001b[1;32m      4\u001b[0m         \u001b[0mstring\u001b[0m \u001b[0;34m=\u001b[0m \u001b[0mre\u001b[0m\u001b[0;34m.\u001b[0m\u001b[0msub\u001b[0m\u001b[0;34m(\u001b[0m\u001b[0;34m\"https://www.yazio.com/fr/aliments/|\\.html\"\u001b[0m\u001b[0;34m,\u001b[0m\u001b[0;34m\"\"\u001b[0m\u001b[0;34m,\u001b[0m\u001b[0mlink\u001b[0m\u001b[0;34m)\u001b[0m \u001b[0;31m#on crée un bon titre\u001b[0m\u001b[0;34m\u001b[0m\u001b[0;34m\u001b[0m\u001b[0m\n\u001b[0;32m----> 5\u001b[0;31m         \u001b[0mdf_nutri\u001b[0m\u001b[0;34m=\u001b[0m \u001b[0mpandas\u001b[0m\u001b[0;34m.\u001b[0m\u001b[0mDataFrame\u001b[0m\u001b[0;34m(\u001b[0m\u001b[0mnutri_link\u001b[0m\u001b[0;34m(\u001b[0m\u001b[0mlink\u001b[0m\u001b[0;34m)\u001b[0m\u001b[0;34m,\u001b[0m\u001b[0mcolumns\u001b[0m \u001b[0;34m=\u001b[0m \u001b[0;34m[\u001b[0m\u001b[0;34m'Kcalories'\u001b[0m\u001b[0;34m,\u001b[0m \u001b[0;34m'Glucides'\u001b[0m\u001b[0;34m,\u001b[0m \u001b[0;34m'Protéines'\u001b[0m\u001b[0;34m,\u001b[0m \u001b[0;34m'Lipides'\u001b[0m\u001b[0;34m]\u001b[0m\u001b[0;34m,\u001b[0m \u001b[0mindex\u001b[0m\u001b[0;34m=\u001b[0m\u001b[0;34m[\u001b[0m\u001b[0mstring\u001b[0m\u001b[0;34m]\u001b[0m\u001b[0;34m)\u001b[0m\u001b[0;34m\u001b[0m\u001b[0;34m\u001b[0m\u001b[0m\n\u001b[0m\u001b[1;32m      6\u001b[0m         \u001b[0mtab_final\u001b[0m \u001b[0;34m=\u001b[0m \u001b[0mtab_final\u001b[0m\u001b[0;34m.\u001b[0m\u001b[0mappend\u001b[0m\u001b[0;34m(\u001b[0m\u001b[0mdf_nutri\u001b[0m\u001b[0;34m)\u001b[0m \u001b[0;31m#on ajoute au dataframe\u001b[0m\u001b[0;34m\u001b[0m\u001b[0;34m\u001b[0m\u001b[0m\n",
      "\u001b[0;32m<ipython-input-19-1fbc15636d17>\u001b[0m in \u001b[0;36mnutri_link\u001b[0;34m(link_aliment)\u001b[0m\n\u001b[1;32m      1\u001b[0m \u001b[0;32mdef\u001b[0m \u001b[0mnutri_link\u001b[0m\u001b[0;34m(\u001b[0m\u001b[0mlink_aliment\u001b[0m\u001b[0;34m)\u001b[0m\u001b[0;34m:\u001b[0m\u001b[0;34m\u001b[0m\u001b[0;34m\u001b[0m\u001b[0m\n\u001b[1;32m      2\u001b[0m     \u001b[0mtab_indiv\u001b[0m \u001b[0;34m=\u001b[0m \u001b[0;34m[\u001b[0m\u001b[0;34m]\u001b[0m\u001b[0;34m\u001b[0m\u001b[0;34m\u001b[0m\u001b[0m\n\u001b[0;32m----> 3\u001b[0;31m     \u001b[0mwebsite\u001b[0m \u001b[0;34m=\u001b[0m \u001b[0mrequests\u001b[0m\u001b[0;34m.\u001b[0m\u001b[0mget\u001b[0m\u001b[0;34m(\u001b[0m\u001b[0mlink_aliment\u001b[0m\u001b[0;34m)\u001b[0m\u001b[0;34m\u001b[0m\u001b[0;34m\u001b[0m\u001b[0m\n\u001b[0m\u001b[1;32m      4\u001b[0m     \u001b[0mclean_website\u001b[0m \u001b[0;34m=\u001b[0m \u001b[0mbs4\u001b[0m\u001b[0;34m.\u001b[0m\u001b[0mBeautifulSoup\u001b[0m\u001b[0;34m(\u001b[0m\u001b[0mwebsite\u001b[0m\u001b[0;34m.\u001b[0m\u001b[0mcontent\u001b[0m\u001b[0;34m,\u001b[0m \u001b[0;34m\"lxml\"\u001b[0m\u001b[0;34m)\u001b[0m\u001b[0;34m\u001b[0m\u001b[0;34m\u001b[0m\u001b[0m\n\u001b[1;32m      5\u001b[0m     \u001b[0mlinksnb\u001b[0m \u001b[0;34m=\u001b[0m \u001b[0mclean_website\u001b[0m\u001b[0;34m.\u001b[0m\u001b[0mfindAll\u001b[0m\u001b[0;34m(\u001b[0m\u001b[0;34m\"span\"\u001b[0m\u001b[0;34m,\u001b[0m\u001b[0;34m{\u001b[0m\u001b[0;34m\"class\"\u001b[0m\u001b[0;34m:\u001b[0m \u001b[0;34m\"serving-calculator-numbers-value\"\u001b[0m\u001b[0;34m}\u001b[0m\u001b[0;34m)\u001b[0m \u001b[0;31m#les lignes qui contiennent les valeurs\u001b[0m\u001b[0;34m\u001b[0m\u001b[0;34m\u001b[0m\u001b[0m\n",
      "\u001b[0;32m//anaconda3/lib/python3.7/site-packages/requests/api.py\u001b[0m in \u001b[0;36mget\u001b[0;34m(url, params, **kwargs)\u001b[0m\n\u001b[1;32m     73\u001b[0m     \"\"\"\n\u001b[1;32m     74\u001b[0m \u001b[0;34m\u001b[0m\u001b[0m\n\u001b[0;32m---> 75\u001b[0;31m     \u001b[0;32mreturn\u001b[0m \u001b[0mrequest\u001b[0m\u001b[0;34m(\u001b[0m\u001b[0;34m'get'\u001b[0m\u001b[0;34m,\u001b[0m \u001b[0murl\u001b[0m\u001b[0;34m,\u001b[0m \u001b[0mparams\u001b[0m\u001b[0;34m=\u001b[0m\u001b[0mparams\u001b[0m\u001b[0;34m,\u001b[0m \u001b[0;34m**\u001b[0m\u001b[0mkwargs\u001b[0m\u001b[0;34m)\u001b[0m\u001b[0;34m\u001b[0m\u001b[0;34m\u001b[0m\u001b[0m\n\u001b[0m\u001b[1;32m     76\u001b[0m \u001b[0;34m\u001b[0m\u001b[0m\n\u001b[1;32m     77\u001b[0m \u001b[0;34m\u001b[0m\u001b[0m\n",
      "\u001b[0;32m//anaconda3/lib/python3.7/site-packages/requests/api.py\u001b[0m in \u001b[0;36mrequest\u001b[0;34m(method, url, **kwargs)\u001b[0m\n\u001b[1;32m     59\u001b[0m     \u001b[0;31m# cases, and look like a memory leak in others.\u001b[0m\u001b[0;34m\u001b[0m\u001b[0;34m\u001b[0m\u001b[0;34m\u001b[0m\u001b[0m\n\u001b[1;32m     60\u001b[0m     \u001b[0;32mwith\u001b[0m \u001b[0msessions\u001b[0m\u001b[0;34m.\u001b[0m\u001b[0mSession\u001b[0m\u001b[0;34m(\u001b[0m\u001b[0;34m)\u001b[0m \u001b[0;32mas\u001b[0m \u001b[0msession\u001b[0m\u001b[0;34m:\u001b[0m\u001b[0;34m\u001b[0m\u001b[0;34m\u001b[0m\u001b[0m\n\u001b[0;32m---> 61\u001b[0;31m         \u001b[0;32mreturn\u001b[0m \u001b[0msession\u001b[0m\u001b[0;34m.\u001b[0m\u001b[0mrequest\u001b[0m\u001b[0;34m(\u001b[0m\u001b[0mmethod\u001b[0m\u001b[0;34m=\u001b[0m\u001b[0mmethod\u001b[0m\u001b[0;34m,\u001b[0m \u001b[0murl\u001b[0m\u001b[0;34m=\u001b[0m\u001b[0murl\u001b[0m\u001b[0;34m,\u001b[0m \u001b[0;34m**\u001b[0m\u001b[0mkwargs\u001b[0m\u001b[0;34m)\u001b[0m\u001b[0;34m\u001b[0m\u001b[0;34m\u001b[0m\u001b[0m\n\u001b[0m\u001b[1;32m     62\u001b[0m \u001b[0;34m\u001b[0m\u001b[0m\n\u001b[1;32m     63\u001b[0m \u001b[0;34m\u001b[0m\u001b[0m\n",
      "\u001b[0;32m//anaconda3/lib/python3.7/site-packages/requests/sessions.py\u001b[0m in \u001b[0;36mrequest\u001b[0;34m(self, method, url, params, data, headers, cookies, files, auth, timeout, allow_redirects, proxies, hooks, stream, verify, cert, json)\u001b[0m\n\u001b[1;32m    540\u001b[0m         }\n\u001b[1;32m    541\u001b[0m         \u001b[0msend_kwargs\u001b[0m\u001b[0;34m.\u001b[0m\u001b[0mupdate\u001b[0m\u001b[0;34m(\u001b[0m\u001b[0msettings\u001b[0m\u001b[0;34m)\u001b[0m\u001b[0;34m\u001b[0m\u001b[0;34m\u001b[0m\u001b[0m\n\u001b[0;32m--> 542\u001b[0;31m         \u001b[0mresp\u001b[0m \u001b[0;34m=\u001b[0m \u001b[0mself\u001b[0m\u001b[0;34m.\u001b[0m\u001b[0msend\u001b[0m\u001b[0;34m(\u001b[0m\u001b[0mprep\u001b[0m\u001b[0;34m,\u001b[0m \u001b[0;34m**\u001b[0m\u001b[0msend_kwargs\u001b[0m\u001b[0;34m)\u001b[0m\u001b[0;34m\u001b[0m\u001b[0;34m\u001b[0m\u001b[0m\n\u001b[0m\u001b[1;32m    543\u001b[0m \u001b[0;34m\u001b[0m\u001b[0m\n\u001b[1;32m    544\u001b[0m         \u001b[0;32mreturn\u001b[0m \u001b[0mresp\u001b[0m\u001b[0;34m\u001b[0m\u001b[0;34m\u001b[0m\u001b[0m\n",
      "\u001b[0;32m//anaconda3/lib/python3.7/site-packages/requests/sessions.py\u001b[0m in \u001b[0;36msend\u001b[0;34m(self, request, **kwargs)\u001b[0m\n\u001b[1;32m    653\u001b[0m \u001b[0;34m\u001b[0m\u001b[0m\n\u001b[1;32m    654\u001b[0m         \u001b[0;31m# Send the request\u001b[0m\u001b[0;34m\u001b[0m\u001b[0;34m\u001b[0m\u001b[0;34m\u001b[0m\u001b[0m\n\u001b[0;32m--> 655\u001b[0;31m         \u001b[0mr\u001b[0m \u001b[0;34m=\u001b[0m \u001b[0madapter\u001b[0m\u001b[0;34m.\u001b[0m\u001b[0msend\u001b[0m\u001b[0;34m(\u001b[0m\u001b[0mrequest\u001b[0m\u001b[0;34m,\u001b[0m \u001b[0;34m**\u001b[0m\u001b[0mkwargs\u001b[0m\u001b[0;34m)\u001b[0m\u001b[0;34m\u001b[0m\u001b[0;34m\u001b[0m\u001b[0m\n\u001b[0m\u001b[1;32m    656\u001b[0m \u001b[0;34m\u001b[0m\u001b[0m\n\u001b[1;32m    657\u001b[0m         \u001b[0;31m# Total elapsed time of the request (approximately)\u001b[0m\u001b[0;34m\u001b[0m\u001b[0;34m\u001b[0m\u001b[0;34m\u001b[0m\u001b[0m\n",
      "\u001b[0;32m//anaconda3/lib/python3.7/site-packages/requests/adapters.py\u001b[0m in \u001b[0;36msend\u001b[0;34m(self, request, stream, timeout, verify, cert, proxies)\u001b[0m\n\u001b[1;32m    447\u001b[0m                     \u001b[0mdecode_content\u001b[0m\u001b[0;34m=\u001b[0m\u001b[0;32mFalse\u001b[0m\u001b[0;34m,\u001b[0m\u001b[0;34m\u001b[0m\u001b[0;34m\u001b[0m\u001b[0m\n\u001b[1;32m    448\u001b[0m                     \u001b[0mretries\u001b[0m\u001b[0;34m=\u001b[0m\u001b[0mself\u001b[0m\u001b[0;34m.\u001b[0m\u001b[0mmax_retries\u001b[0m\u001b[0;34m,\u001b[0m\u001b[0;34m\u001b[0m\u001b[0;34m\u001b[0m\u001b[0m\n\u001b[0;32m--> 449\u001b[0;31m                     \u001b[0mtimeout\u001b[0m\u001b[0;34m=\u001b[0m\u001b[0mtimeout\u001b[0m\u001b[0;34m\u001b[0m\u001b[0;34m\u001b[0m\u001b[0m\n\u001b[0m\u001b[1;32m    450\u001b[0m                 )\n\u001b[1;32m    451\u001b[0m \u001b[0;34m\u001b[0m\u001b[0m\n",
      "\u001b[0;32m//anaconda3/lib/python3.7/site-packages/urllib3/connectionpool.py\u001b[0m in \u001b[0;36murlopen\u001b[0;34m(self, method, url, body, headers, retries, redirect, assert_same_host, timeout, pool_timeout, release_conn, chunked, body_pos, **response_kw)\u001b[0m\n\u001b[1;32m    598\u001b[0m                                                   \u001b[0mtimeout\u001b[0m\u001b[0;34m=\u001b[0m\u001b[0mtimeout_obj\u001b[0m\u001b[0;34m,\u001b[0m\u001b[0;34m\u001b[0m\u001b[0;34m\u001b[0m\u001b[0m\n\u001b[1;32m    599\u001b[0m                                                   \u001b[0mbody\u001b[0m\u001b[0;34m=\u001b[0m\u001b[0mbody\u001b[0m\u001b[0;34m,\u001b[0m \u001b[0mheaders\u001b[0m\u001b[0;34m=\u001b[0m\u001b[0mheaders\u001b[0m\u001b[0;34m,\u001b[0m\u001b[0;34m\u001b[0m\u001b[0;34m\u001b[0m\u001b[0m\n\u001b[0;32m--> 600\u001b[0;31m                                                   chunked=chunked)\n\u001b[0m\u001b[1;32m    601\u001b[0m \u001b[0;34m\u001b[0m\u001b[0m\n\u001b[1;32m    602\u001b[0m             \u001b[0;31m# If we're going to release the connection in ``finally:``, then\u001b[0m\u001b[0;34m\u001b[0m\u001b[0;34m\u001b[0m\u001b[0;34m\u001b[0m\u001b[0m\n",
      "\u001b[0;32m//anaconda3/lib/python3.7/site-packages/urllib3/connectionpool.py\u001b[0m in \u001b[0;36m_make_request\u001b[0;34m(self, conn, method, url, timeout, chunked, **httplib_request_kw)\u001b[0m\n\u001b[1;32m    378\u001b[0m             \u001b[0;32mexcept\u001b[0m \u001b[0mTypeError\u001b[0m\u001b[0;34m:\u001b[0m  \u001b[0;31m# Python 3\u001b[0m\u001b[0;34m\u001b[0m\u001b[0;34m\u001b[0m\u001b[0m\n\u001b[1;32m    379\u001b[0m                 \u001b[0;32mtry\u001b[0m\u001b[0;34m:\u001b[0m\u001b[0;34m\u001b[0m\u001b[0;34m\u001b[0m\u001b[0m\n\u001b[0;32m--> 380\u001b[0;31m                     \u001b[0mhttplib_response\u001b[0m \u001b[0;34m=\u001b[0m \u001b[0mconn\u001b[0m\u001b[0;34m.\u001b[0m\u001b[0mgetresponse\u001b[0m\u001b[0;34m(\u001b[0m\u001b[0;34m)\u001b[0m\u001b[0;34m\u001b[0m\u001b[0;34m\u001b[0m\u001b[0m\n\u001b[0m\u001b[1;32m    381\u001b[0m                 \u001b[0;32mexcept\u001b[0m \u001b[0mException\u001b[0m \u001b[0;32mas\u001b[0m \u001b[0me\u001b[0m\u001b[0;34m:\u001b[0m\u001b[0;34m\u001b[0m\u001b[0;34m\u001b[0m\u001b[0m\n\u001b[1;32m    382\u001b[0m                     \u001b[0;31m# Remove the TypeError from the exception chain in Python 3;\u001b[0m\u001b[0;34m\u001b[0m\u001b[0;34m\u001b[0m\u001b[0;34m\u001b[0m\u001b[0m\n",
      "\u001b[0;32m//anaconda3/lib/python3.7/http/client.py\u001b[0m in \u001b[0;36mgetresponse\u001b[0;34m(self)\u001b[0m\n\u001b[1;32m   1319\u001b[0m         \u001b[0;32mtry\u001b[0m\u001b[0;34m:\u001b[0m\u001b[0;34m\u001b[0m\u001b[0;34m\u001b[0m\u001b[0m\n\u001b[1;32m   1320\u001b[0m             \u001b[0;32mtry\u001b[0m\u001b[0;34m:\u001b[0m\u001b[0;34m\u001b[0m\u001b[0;34m\u001b[0m\u001b[0m\n\u001b[0;32m-> 1321\u001b[0;31m                 \u001b[0mresponse\u001b[0m\u001b[0;34m.\u001b[0m\u001b[0mbegin\u001b[0m\u001b[0;34m(\u001b[0m\u001b[0;34m)\u001b[0m\u001b[0;34m\u001b[0m\u001b[0;34m\u001b[0m\u001b[0m\n\u001b[0m\u001b[1;32m   1322\u001b[0m             \u001b[0;32mexcept\u001b[0m \u001b[0mConnectionError\u001b[0m\u001b[0;34m:\u001b[0m\u001b[0;34m\u001b[0m\u001b[0;34m\u001b[0m\u001b[0m\n\u001b[1;32m   1323\u001b[0m                 \u001b[0mself\u001b[0m\u001b[0;34m.\u001b[0m\u001b[0mclose\u001b[0m\u001b[0;34m(\u001b[0m\u001b[0;34m)\u001b[0m\u001b[0;34m\u001b[0m\u001b[0;34m\u001b[0m\u001b[0m\n",
      "\u001b[0;32m//anaconda3/lib/python3.7/http/client.py\u001b[0m in \u001b[0;36mbegin\u001b[0;34m(self)\u001b[0m\n\u001b[1;32m    294\u001b[0m         \u001b[0;31m# read until we get a non-100 response\u001b[0m\u001b[0;34m\u001b[0m\u001b[0;34m\u001b[0m\u001b[0;34m\u001b[0m\u001b[0m\n\u001b[1;32m    295\u001b[0m         \u001b[0;32mwhile\u001b[0m \u001b[0;32mTrue\u001b[0m\u001b[0;34m:\u001b[0m\u001b[0;34m\u001b[0m\u001b[0;34m\u001b[0m\u001b[0m\n\u001b[0;32m--> 296\u001b[0;31m             \u001b[0mversion\u001b[0m\u001b[0;34m,\u001b[0m \u001b[0mstatus\u001b[0m\u001b[0;34m,\u001b[0m \u001b[0mreason\u001b[0m \u001b[0;34m=\u001b[0m \u001b[0mself\u001b[0m\u001b[0;34m.\u001b[0m\u001b[0m_read_status\u001b[0m\u001b[0;34m(\u001b[0m\u001b[0;34m)\u001b[0m\u001b[0;34m\u001b[0m\u001b[0;34m\u001b[0m\u001b[0m\n\u001b[0m\u001b[1;32m    297\u001b[0m             \u001b[0;32mif\u001b[0m \u001b[0mstatus\u001b[0m \u001b[0;34m!=\u001b[0m \u001b[0mCONTINUE\u001b[0m\u001b[0;34m:\u001b[0m\u001b[0;34m\u001b[0m\u001b[0;34m\u001b[0m\u001b[0m\n\u001b[1;32m    298\u001b[0m                 \u001b[0;32mbreak\u001b[0m\u001b[0;34m\u001b[0m\u001b[0;34m\u001b[0m\u001b[0m\n",
      "\u001b[0;32m//anaconda3/lib/python3.7/http/client.py\u001b[0m in \u001b[0;36m_read_status\u001b[0;34m(self)\u001b[0m\n\u001b[1;32m    255\u001b[0m \u001b[0;34m\u001b[0m\u001b[0m\n\u001b[1;32m    256\u001b[0m     \u001b[0;32mdef\u001b[0m \u001b[0m_read_status\u001b[0m\u001b[0;34m(\u001b[0m\u001b[0mself\u001b[0m\u001b[0;34m)\u001b[0m\u001b[0;34m:\u001b[0m\u001b[0;34m\u001b[0m\u001b[0;34m\u001b[0m\u001b[0m\n\u001b[0;32m--> 257\u001b[0;31m         \u001b[0mline\u001b[0m \u001b[0;34m=\u001b[0m \u001b[0mstr\u001b[0m\u001b[0;34m(\u001b[0m\u001b[0mself\u001b[0m\u001b[0;34m.\u001b[0m\u001b[0mfp\u001b[0m\u001b[0;34m.\u001b[0m\u001b[0mreadline\u001b[0m\u001b[0;34m(\u001b[0m\u001b[0m_MAXLINE\u001b[0m \u001b[0;34m+\u001b[0m \u001b[0;36m1\u001b[0m\u001b[0;34m)\u001b[0m\u001b[0;34m,\u001b[0m \u001b[0;34m\"iso-8859-1\"\u001b[0m\u001b[0;34m)\u001b[0m\u001b[0;34m\u001b[0m\u001b[0;34m\u001b[0m\u001b[0m\n\u001b[0m\u001b[1;32m    258\u001b[0m         \u001b[0;32mif\u001b[0m \u001b[0mlen\u001b[0m\u001b[0;34m(\u001b[0m\u001b[0mline\u001b[0m\u001b[0;34m)\u001b[0m \u001b[0;34m>\u001b[0m \u001b[0m_MAXLINE\u001b[0m\u001b[0;34m:\u001b[0m\u001b[0;34m\u001b[0m\u001b[0;34m\u001b[0m\u001b[0m\n\u001b[1;32m    259\u001b[0m             \u001b[0;32mraise\u001b[0m \u001b[0mLineTooLong\u001b[0m\u001b[0;34m(\u001b[0m\u001b[0;34m\"status line\"\u001b[0m\u001b[0;34m)\u001b[0m\u001b[0;34m\u001b[0m\u001b[0;34m\u001b[0m\u001b[0m\n",
      "\u001b[0;32m//anaconda3/lib/python3.7/socket.py\u001b[0m in \u001b[0;36mreadinto\u001b[0;34m(self, b)\u001b[0m\n\u001b[1;32m    587\u001b[0m         \u001b[0;32mwhile\u001b[0m \u001b[0;32mTrue\u001b[0m\u001b[0;34m:\u001b[0m\u001b[0;34m\u001b[0m\u001b[0;34m\u001b[0m\u001b[0m\n\u001b[1;32m    588\u001b[0m             \u001b[0;32mtry\u001b[0m\u001b[0;34m:\u001b[0m\u001b[0;34m\u001b[0m\u001b[0;34m\u001b[0m\u001b[0m\n\u001b[0;32m--> 589\u001b[0;31m                 \u001b[0;32mreturn\u001b[0m \u001b[0mself\u001b[0m\u001b[0;34m.\u001b[0m\u001b[0m_sock\u001b[0m\u001b[0;34m.\u001b[0m\u001b[0mrecv_into\u001b[0m\u001b[0;34m(\u001b[0m\u001b[0mb\u001b[0m\u001b[0;34m)\u001b[0m\u001b[0;34m\u001b[0m\u001b[0;34m\u001b[0m\u001b[0m\n\u001b[0m\u001b[1;32m    590\u001b[0m             \u001b[0;32mexcept\u001b[0m \u001b[0mtimeout\u001b[0m\u001b[0;34m:\u001b[0m\u001b[0;34m\u001b[0m\u001b[0;34m\u001b[0m\u001b[0m\n\u001b[1;32m    591\u001b[0m                 \u001b[0mself\u001b[0m\u001b[0;34m.\u001b[0m\u001b[0m_timeout_occurred\u001b[0m \u001b[0;34m=\u001b[0m \u001b[0;32mTrue\u001b[0m\u001b[0;34m\u001b[0m\u001b[0;34m\u001b[0m\u001b[0m\n",
      "\u001b[0;32m//anaconda3/lib/python3.7/ssl.py\u001b[0m in \u001b[0;36mrecv_into\u001b[0;34m(self, buffer, nbytes, flags)\u001b[0m\n\u001b[1;32m   1050\u001b[0m                   \u001b[0;34m\"non-zero flags not allowed in calls to recv_into() on %s\"\u001b[0m \u001b[0;34m%\u001b[0m\u001b[0;34m\u001b[0m\u001b[0;34m\u001b[0m\u001b[0m\n\u001b[1;32m   1051\u001b[0m                   self.__class__)\n\u001b[0;32m-> 1052\u001b[0;31m             \u001b[0;32mreturn\u001b[0m \u001b[0mself\u001b[0m\u001b[0;34m.\u001b[0m\u001b[0mread\u001b[0m\u001b[0;34m(\u001b[0m\u001b[0mnbytes\u001b[0m\u001b[0;34m,\u001b[0m \u001b[0mbuffer\u001b[0m\u001b[0;34m)\u001b[0m\u001b[0;34m\u001b[0m\u001b[0;34m\u001b[0m\u001b[0m\n\u001b[0m\u001b[1;32m   1053\u001b[0m         \u001b[0;32melse\u001b[0m\u001b[0;34m:\u001b[0m\u001b[0;34m\u001b[0m\u001b[0;34m\u001b[0m\u001b[0m\n\u001b[1;32m   1054\u001b[0m             \u001b[0;32mreturn\u001b[0m \u001b[0msuper\u001b[0m\u001b[0;34m(\u001b[0m\u001b[0;34m)\u001b[0m\u001b[0;34m.\u001b[0m\u001b[0mrecv_into\u001b[0m\u001b[0;34m(\u001b[0m\u001b[0mbuffer\u001b[0m\u001b[0;34m,\u001b[0m \u001b[0mnbytes\u001b[0m\u001b[0;34m,\u001b[0m \u001b[0mflags\u001b[0m\u001b[0;34m)\u001b[0m\u001b[0;34m\u001b[0m\u001b[0;34m\u001b[0m\u001b[0m\n",
      "\u001b[0;32m//anaconda3/lib/python3.7/ssl.py\u001b[0m in \u001b[0;36mread\u001b[0;34m(self, len, buffer)\u001b[0m\n\u001b[1;32m    909\u001b[0m         \u001b[0;32mtry\u001b[0m\u001b[0;34m:\u001b[0m\u001b[0;34m\u001b[0m\u001b[0;34m\u001b[0m\u001b[0m\n\u001b[1;32m    910\u001b[0m             \u001b[0;32mif\u001b[0m \u001b[0mbuffer\u001b[0m \u001b[0;32mis\u001b[0m \u001b[0;32mnot\u001b[0m \u001b[0;32mNone\u001b[0m\u001b[0;34m:\u001b[0m\u001b[0;34m\u001b[0m\u001b[0;34m\u001b[0m\u001b[0m\n\u001b[0;32m--> 911\u001b[0;31m                 \u001b[0;32mreturn\u001b[0m \u001b[0mself\u001b[0m\u001b[0;34m.\u001b[0m\u001b[0m_sslobj\u001b[0m\u001b[0;34m.\u001b[0m\u001b[0mread\u001b[0m\u001b[0;34m(\u001b[0m\u001b[0mlen\u001b[0m\u001b[0;34m,\u001b[0m \u001b[0mbuffer\u001b[0m\u001b[0;34m)\u001b[0m\u001b[0;34m\u001b[0m\u001b[0;34m\u001b[0m\u001b[0m\n\u001b[0m\u001b[1;32m    912\u001b[0m             \u001b[0;32melse\u001b[0m\u001b[0;34m:\u001b[0m\u001b[0;34m\u001b[0m\u001b[0;34m\u001b[0m\u001b[0m\n\u001b[1;32m    913\u001b[0m                 \u001b[0;32mreturn\u001b[0m \u001b[0mself\u001b[0m\u001b[0;34m.\u001b[0m\u001b[0m_sslobj\u001b[0m\u001b[0;34m.\u001b[0m\u001b[0mread\u001b[0m\u001b[0;34m(\u001b[0m\u001b[0mlen\u001b[0m\u001b[0;34m)\u001b[0m\u001b[0;34m\u001b[0m\u001b[0;34m\u001b[0m\u001b[0m\n",
      "\u001b[0;31mKeyboardInterrupt\u001b[0m: "
     ]
    }
   ],
   "source": [
    "#Attention, cette opération peut prendre 30 minutes environ\n",
    "\n",
    "tab_final = pandas.DataFrame(columns = ['Kcalories', 'Glucides', 'Protéines', 'Lipides']) #On crée un dataframe vide avec uniquement les colonnes\n",
    "for link in list_food : \n",
    "    if str(requests.get(link)) != '<Response [404]>':\n",
    "        string = re.sub(\"https://www.yazio.com/fr/aliments/|\\.html\",\"\",link) #on crée un bon titre\n",
    "        df_nutri= pandas.DataFrame(nutri_link(link),columns = ['Kcalories', 'Glucides', 'Protéines', 'Lipides'], index=[string])\n",
    "        tab_final = tab_final.append(df_nutri) #on ajoute au dataframe"
   ]
  },
  {
   "cell_type": "code",
   "execution_count": 21,
   "metadata": {},
   "outputs": [],
   "source": [
    "#Création du CSV : Nous importerons ensuite un csv nommé tab_final_def déjà dans le github\n",
    "\n",
    "import csv\n",
    "tab_final.to_csv('tab_final.csv')"
   ]
  },
  {
   "cell_type": "markdown",
   "metadata": {},
   "source": [
    "## Partie 2 : Database Conversion"
   ]
  },
  {
   "cell_type": "code",
   "execution_count": 22,
   "metadata": {},
   "outputs": [],
   "source": [
    "import urllib\n",
    "import bs4\n",
    "import pandas\n",
    "import numpy as np\n",
    "from urllib import request\n",
    "import requests"
   ]
  },
  {
   "cell_type": "code",
   "execution_count": 23,
   "metadata": {},
   "outputs": [],
   "source": [
    "convert_page = requests.get(\"https://www.bloc-notes-culinaire.com/2019/09/poids-moyen-des-fruits-et-legumes.html#\")"
   ]
  },
  {
   "cell_type": "code",
   "execution_count": 24,
   "metadata": {},
   "outputs": [],
   "source": [
    "clean_convert_page = bs4.BeautifulSoup(convert_page.content, \"lxml\")"
   ]
  },
  {
   "cell_type": "code",
   "execution_count": 25,
   "metadata": {},
   "outputs": [],
   "source": [
    "elem = clean_convert_page.findAll(\"table\",{\"class\": \"innerTable\"})"
   ]
  },
  {
   "cell_type": "code",
   "execution_count": 26,
   "metadata": {},
   "outputs": [],
   "source": [
    "legumes = []\n",
    "for element in elem[0]: \n",
    "    word_element = \"'%s'\"%element\n",
    "    legumes.append(word_element)\n",
    "legumes\n",
    "#print(legumes, len(legumes))\n",
    "legumes = list(filter((\"'\\n'\").__ne__, legumes))\n",
    "legumes = list(filter((\"'<tr><th>Variété</th><th>Poids moyen (kg)</th></tr>'\").__ne__, legumes))"
   ]
  },
  {
   "cell_type": "code",
   "execution_count": 27,
   "metadata": {},
   "outputs": [
    {
     "data": {
      "text/html": [
       "<div>\n",
       "<style scoped>\n",
       "    .dataframe tbody tr th:only-of-type {\n",
       "        vertical-align: middle;\n",
       "    }\n",
       "\n",
       "    .dataframe tbody tr th {\n",
       "        vertical-align: top;\n",
       "    }\n",
       "\n",
       "    .dataframe thead th {\n",
       "        text-align: right;\n",
       "    }\n",
       "</style>\n",
       "<table border=\"1\" class=\"dataframe\">\n",
       "  <thead>\n",
       "    <tr style=\"text-align: right;\">\n",
       "      <th></th>\n",
       "      <th>Aliment</th>\n",
       "      <th>Poids</th>\n",
       "    </tr>\n",
       "  </thead>\n",
       "  <tbody>\n",
       "    <tr>\n",
       "      <th>0</th>\n",
       "      <td>'Ail tête'</td>\n",
       "      <td>0,080</td>\n",
       "    </tr>\n",
       "    <tr>\n",
       "      <th>0</th>\n",
       "      <td>'Ail gousse'</td>\n",
       "      <td>0,007</td>\n",
       "    </tr>\n",
       "    <tr>\n",
       "      <th>0</th>\n",
       "      <td>'Artichaut Camus'</td>\n",
       "      <td>0,350</td>\n",
       "    </tr>\n",
       "    <tr>\n",
       "      <th>0</th>\n",
       "      <td>'Artichaut Castel'</td>\n",
       "      <td>0,500</td>\n",
       "    </tr>\n",
       "    <tr>\n",
       "      <th>0</th>\n",
       "      <td>'Artichaut Poivrade'</td>\n",
       "      <td>0,060</td>\n",
       "    </tr>\n",
       "  </tbody>\n",
       "</table>\n",
       "</div>"
      ],
      "text/plain": [
       "                Aliment  Poids\n",
       "0            'Ail tête'  0,080\n",
       "0          'Ail gousse'  0,007\n",
       "0     'Artichaut Camus'  0,350\n",
       "0    'Artichaut Castel'  0,500\n",
       "0  'Artichaut Poivrade'  0,060"
      ]
     },
     "metadata": {},
     "output_type": "display_data"
    }
   ],
   "source": [
    "import re\n",
    "data_convert = pandas.DataFrame(columns = ['Aliment','Poids'])\n",
    "for element in legumes: \n",
    "    aliment = re.sub('<tr><td>|</td></tr>|</td><td>|0|1|2|3|4|5|6|7|8|9|,','',element)\n",
    "    gramme = re.sub('[^0123456789,]', '',element)\n",
    "    vect = [aliment,gramme]\n",
    "    df = pandas.DataFrame([vect], columns = ['Aliment','Poids'])\n",
    "    data_convert = data_convert.append(df)\n",
    "\n",
    "display(data_convert.head())"
   ]
  },
  {
   "cell_type": "code",
   "execution_count": 28,
   "metadata": {},
   "outputs": [],
   "source": [
    "vect_oeuf = [\"'Oeuf'\",'0,060']\n",
    "df_oeuf = pandas.DataFrame([vect_oeuf], columns = ['Aliment','Poids'])\n",
    "data_convert = data_convert.append(df_oeuf)"
   ]
  },
  {
   "cell_type": "code",
   "execution_count": 29,
   "metadata": {},
   "outputs": [
    {
     "data": {
      "text/html": [
       "<div>\n",
       "<style scoped>\n",
       "    .dataframe tbody tr th:only-of-type {\n",
       "        vertical-align: middle;\n",
       "    }\n",
       "\n",
       "    .dataframe tbody tr th {\n",
       "        vertical-align: top;\n",
       "    }\n",
       "\n",
       "    .dataframe thead th {\n",
       "        text-align: right;\n",
       "    }\n",
       "</style>\n",
       "<table border=\"1\" class=\"dataframe\">\n",
       "  <thead>\n",
       "    <tr style=\"text-align: right;\">\n",
       "      <th></th>\n",
       "      <th>Aliment</th>\n",
       "      <th>Poids</th>\n",
       "    </tr>\n",
       "  </thead>\n",
       "  <tbody>\n",
       "    <tr>\n",
       "      <th>0</th>\n",
       "      <td>'Pomme de terre M'</td>\n",
       "      <td>0,120</td>\n",
       "    </tr>\n",
       "    <tr>\n",
       "      <th>0</th>\n",
       "      <td>'Pomme de terre P'</td>\n",
       "      <td>0,080</td>\n",
       "    </tr>\n",
       "    <tr>\n",
       "      <th>0</th>\n",
       "      <td>'Tomate G'</td>\n",
       "      <td>0,200</td>\n",
       "    </tr>\n",
       "    <tr>\n",
       "      <th>0</th>\n",
       "      <td>'Tomate P'</td>\n",
       "      <td>0,075</td>\n",
       "    </tr>\n",
       "    <tr>\n",
       "      <th>0</th>\n",
       "      <td>'Oeuf'</td>\n",
       "      <td>0,060</td>\n",
       "    </tr>\n",
       "  </tbody>\n",
       "</table>\n",
       "</div>"
      ],
      "text/plain": [
       "              Aliment  Poids\n",
       "0  'Pomme de terre M'  0,120\n",
       "0  'Pomme de terre P'  0,080\n",
       "0          'Tomate G'  0,200\n",
       "0          'Tomate P'  0,075\n",
       "0              'Oeuf'  0,060"
      ]
     },
     "metadata": {},
     "output_type": "display_data"
    }
   ],
   "source": [
    "display(data_convert.tail())"
   ]
  },
  {
   "cell_type": "code",
   "execution_count": 30,
   "metadata": {},
   "outputs": [],
   "source": [
    "import csv\n",
    "data_convert.to_csv('data_convert.csv')"
   ]
  },
  {
   "cell_type": "markdown",
   "metadata": {},
   "source": [
    "## Partie 3 : NLP\n",
    "\n",
    "#### a) Database Yazio"
   ]
  },
  {
   "cell_type": "code",
   "execution_count": 31,
   "metadata": {},
   "outputs": [],
   "source": [
    "import urllib\n",
    "import bs4\n",
    "import pandas as pd\n",
    "import numpy as np\n",
    "from urllib import request\n",
    "import requests\n",
    "import re\n",
    "import nltk\n",
    "from unidecode import unidecode"
   ]
  },
  {
   "cell_type": "code",
   "execution_count": 32,
   "metadata": {},
   "outputs": [
    {
     "data": {
      "text/html": [
       "<div>\n",
       "<style scoped>\n",
       "    .dataframe tbody tr th:only-of-type {\n",
       "        vertical-align: middle;\n",
       "    }\n",
       "\n",
       "    .dataframe tbody tr th {\n",
       "        vertical-align: top;\n",
       "    }\n",
       "\n",
       "    .dataframe thead th {\n",
       "        text-align: right;\n",
       "    }\n",
       "</style>\n",
       "<table border=\"1\" class=\"dataframe\">\n",
       "  <thead>\n",
       "    <tr style=\"text-align: right;\">\n",
       "      <th></th>\n",
       "      <th>Aliment</th>\n",
       "      <th>Kcalories</th>\n",
       "      <th>Glucides</th>\n",
       "      <th>Protéines</th>\n",
       "      <th>Lipides</th>\n",
       "    </tr>\n",
       "  </thead>\n",
       "  <tbody>\n",
       "    <tr>\n",
       "      <th>0</th>\n",
       "      <td>lait-de-poule</td>\n",
       "      <td>88.0</td>\n",
       "      <td>8.05</td>\n",
       "      <td>4.55</td>\n",
       "      <td>4.19</td>\n",
       "    </tr>\n",
       "    <tr>\n",
       "      <th>1</th>\n",
       "      <td>champagne-champagne-brut</td>\n",
       "      <td>70.0</td>\n",
       "      <td>15.00</td>\n",
       "      <td>0.00</td>\n",
       "      <td>0.00</td>\n",
       "    </tr>\n",
       "    <tr>\n",
       "      <th>2</th>\n",
       "      <td>chocolat-en-poudre</td>\n",
       "      <td>400.0</td>\n",
       "      <td>90.28</td>\n",
       "      <td>4.55</td>\n",
       "      <td>2.27</td>\n",
       "    </tr>\n",
       "    <tr>\n",
       "      <th>3</th>\n",
       "      <td>poudre-de-cacao</td>\n",
       "      <td>398.0</td>\n",
       "      <td>83.73</td>\n",
       "      <td>6.67</td>\n",
       "      <td>4.00</td>\n",
       "    </tr>\n",
       "    <tr>\n",
       "      <th>4</th>\n",
       "      <td>poudre-de-cacao-non-sucree</td>\n",
       "      <td>228.0</td>\n",
       "      <td>57.90</td>\n",
       "      <td>19.60</td>\n",
       "      <td>13.70</td>\n",
       "    </tr>\n",
       "    <tr>\n",
       "      <th>...</th>\n",
       "      <td>...</td>\n",
       "      <td>...</td>\n",
       "      <td>...</td>\n",
       "      <td>...</td>\n",
       "      <td>...</td>\n",
       "    </tr>\n",
       "    <tr>\n",
       "      <th>1410</th>\n",
       "      <td>substitut-de-viande</td>\n",
       "      <td>313.0</td>\n",
       "      <td>38.32</td>\n",
       "      <td>38.11</td>\n",
       "      <td>2.97</td>\n",
       "    </tr>\n",
       "    <tr>\n",
       "      <th>1411</th>\n",
       "      <td>mouton-cuit</td>\n",
       "      <td>234.0</td>\n",
       "      <td>0.08</td>\n",
       "      <td>33.43</td>\n",
       "      <td>11.09</td>\n",
       "    </tr>\n",
       "    <tr>\n",
       "      <th>1412</th>\n",
       "      <td>salade-de-volaille</td>\n",
       "      <td>200.0</td>\n",
       "      <td>7.41</td>\n",
       "      <td>11.64</td>\n",
       "      <td>13.52</td>\n",
       "    </tr>\n",
       "    <tr>\n",
       "      <th>1413</th>\n",
       "      <td>steak-de-saucisse-mcdonalds</td>\n",
       "      <td>405.0</td>\n",
       "      <td>1.40</td>\n",
       "      <td>15.19</td>\n",
       "      <td>39.58</td>\n",
       "    </tr>\n",
       "    <tr>\n",
       "      <th>1414</th>\n",
       "      <td>roti-hache</td>\n",
       "      <td>213.0</td>\n",
       "      <td>14.06</td>\n",
       "      <td>8.06</td>\n",
       "      <td>13.87</td>\n",
       "    </tr>\n",
       "  </tbody>\n",
       "</table>\n",
       "<p>1415 rows × 5 columns</p>\n",
       "</div>"
      ],
      "text/plain": [
       "                          Aliment  Kcalories  Glucides  Protéines  Lipides\n",
       "0                   lait-de-poule       88.0      8.05       4.55     4.19\n",
       "1        champagne-champagne-brut       70.0     15.00       0.00     0.00\n",
       "2              chocolat-en-poudre      400.0     90.28       4.55     2.27\n",
       "3                 poudre-de-cacao      398.0     83.73       6.67     4.00\n",
       "4      poudre-de-cacao-non-sucree      228.0     57.90      19.60    13.70\n",
       "...                           ...        ...       ...        ...      ...\n",
       "1410          substitut-de-viande      313.0     38.32      38.11     2.97\n",
       "1411                  mouton-cuit      234.0      0.08      33.43    11.09\n",
       "1412           salade-de-volaille      200.0      7.41      11.64    13.52\n",
       "1413  steak-de-saucisse-mcdonalds      405.0      1.40      15.19    39.58\n",
       "1414                   roti-hache      213.0     14.06       8.06    13.87\n",
       "\n",
       "[1415 rows x 5 columns]"
      ]
     },
     "metadata": {},
     "output_type": "display_data"
    },
    {
     "name": "stdout",
     "output_type": "stream",
     "text": [
      "champagne-champagne-brut\n"
     ]
    }
   ],
   "source": [
    "my_file = pd.read_csv('tab_final_def.csv')\n",
    "\n",
    "my_file.set_axis(['Aliment', 'Kcalories', 'Glucides','Protéines','Lipides'], \n",
    "                    axis='columns', inplace=True)\n",
    "display(my_file)\n",
    "content_list = my_file.Aliment\n",
    "#print(content_list)\n",
    "print(content_list[1])\n",
    "names=content_list"
   ]
  },
  {
   "cell_type": "code",
   "execution_count": 33,
   "metadata": {},
   "outputs": [],
   "source": [
    "def clean_text(text):\n",
    "    text = text.lower() # mettre les mots en minuscule\n",
    "    text = \" \".join(text.split())\n",
    "    return text"
   ]
  },
  {
   "cell_type": "code",
   "execution_count": 34,
   "metadata": {},
   "outputs": [],
   "source": [
    "dict = []\n",
    "for elem in names:\n",
    "    elem = elem.replace('-', ' ')\n",
    "    elem = nltk.word_tokenize(elem, language='french')\n",
    "        \n",
    "    dict.append(elem)"
   ]
  },
  {
   "cell_type": "code",
   "execution_count": 38,
   "metadata": {},
   "outputs": [],
   "source": [
    "from nltk.stem.snowball import SnowballStemmer\n",
    "stemmer = SnowballStemmer(language='french')"
   ]
  },
  {
   "cell_type": "code",
   "execution_count": 39,
   "metadata": {},
   "outputs": [
    {
     "name": "stdout",
     "output_type": "stream",
     "text": [
      "['la', 'sour', 'mang', 'le', 'chat']\n"
     ]
    }
   ],
   "source": [
    "def lemmatize_ntlk(sentence):\n",
    "    stemmer = SnowballStemmer(language='french')\n",
    "    output=nltk.word_tokenize(sentence, language='french')\n",
    "    vector=[]\n",
    "    for elem in output:\n",
    "        lemma = elem.replace(elem,stemmer.stem(elem))\n",
    "        vector.append(lemma)\n",
    "    return vector\n",
    "        \n",
    "print(lemmatize_ntlk('la souris mange le chat'))"
   ]
  },
  {
   "cell_type": "code",
   "execution_count": 40,
   "metadata": {},
   "outputs": [
    {
     "name": "stdout",
     "output_type": "stream",
     "text": [
      "[['lait', 'de', 'poul'], ['champagn', 'champagn', 'brut'], ['chocolat', 'en', 'poudr'], ['poudr', 'de', 'cacao'], ['poudr', 'de', 'cacao', 'non', 'sucre'], ['lait', 'de', 'coco'], ['eau', 'de', 'coco'], ['boisson', 'malte'], ['jus', 'de', 'fruit', 'legum'], ['boisson', 'de', 'riz'], ['lait', 'dem', 'ecrem', 'marqu', 'reper'], ['boisson', 'wat'], ['gateau', 'aux', 'pepit', 'de', 'chocolat', 'ptit', 'del'], ['biscuit', 'chocolat', 'au', 'lait', 'sondey'], ['compot', 'pomm', 'banan', 'andros'], ['galet', 'de', 'riz', 'au', 'sesam', 'auchan', 'bio'], ['kub', 'or', 'magg'], ['j', 'malbouff'], ['cracker', 'gout', 'emmental', 'carrefour'], ['oeuf', 'au', 'plat', '698874'], ['compot', 'netto'], ['tart', 'maison', 'mar'], ['compot', 'pomm', 'banan', 'vanill', 'charl', 'et', 'alic'], ['jogurt', 'soj', 'chocolat', 'milbon'], ['velout', 'de', 'champignon', 'knorr'], ['pain', 'a', 'hamburg', 'kentucky', 'fried', 'chicken', 'kfc'], ['pain', 'a', 'hamburg', 'grand', 'taill', 'mcdonald'], ['pain', 'a', 'hamburg', 'mcdonald'], ['poitrin', 'de', 'poulet', 'pane', 'kentucky', 'fried', 'chicken', 'kfc'], ['pilon', 'de', 'poulet', 'pan', 'kentucky', 'fried', 'chicken', 'kfc'], ['ail', 'de', 'poulet', 'pane', 'kentucky', 'fried', 'chicken', 'kfc'], ['chicken', 'mcnugget', 'mcdonald'], ['lanier', 'de', 'poulet', 'burg', 'king'], ['lanier', 'de', 'poulet', 'frit', 'kentucky', 'fried', 'chicken', 'kfc'], ['poitrin', 'de', 'poulet', 'frit', 'kentucky', 'fried', 'chicken', 'kfc'], ['pilon', 'de', 'poulet', 'frit', 'kentucky', 'fried', 'chicken', 'kfc'], ['cuiss', 'de', 'poulet', 'frit', 'kentucky', 'fried', 'chicken', 'kfc'], ['ail', 'de', 'poulet', 'frit', 'kentucky', 'fried', 'chicken', 'kfc'], ['egg', 'mcmuffin', 'mcdonald'], ['muffin', 'anglais', 'mcdonald'], ['frit', 'burg', 'king'], ['frit', 'mcdonald'], ['pain', 'perdu', 'frit', 'burg', 'king'], ['crep', 'sauc', 'mcdonald'], ['crep', 'mcdonald'], ['crep', 'au', 'sirop', 'mcdonald'], ['hot', 'dog'], ['hot', 'dog', 'au', 'chil'], ['pogo', 'sauc', 'fume', 'enrobe', 'de', 'pat', 'a', 'frir'], ['mcchicken', 'mcdonald'], ['nachos', 'suprem', 'taco', 'bel'], ['nachos', 'taco', 'bel'], ['rondel', 'doignon', 'burg', 'king'], ['rondel', 'doignon', 'frit'], ['original', 'taco', 'au', 'boeuf', 'fromag', 'salad', 'taco', 'bel'], ['frit', 'mccain'], ['ketchup', 'kentucky', 'fried', 'chicken', 'kfc'], ['frit', 'petit', 'kentucky', 'fried', 'chicken', 'kfc'], ['steak', 'hach', 'de', 'dind', 'frit'], ['oeuf', 'brouill', 'mcdonald'], ['pain', 'a', 'hamburg', 'avec', 'sauc', 'mcdonald'], ['burrito', 'avec', 'sauc', 'mcdonald'], ['sauc', 'mcgriddl', 'mcdonald'], ['sauc', 'mcmuffin', 'mcdonald'], ['quarti', 'de', 'pomm', 'de', 'terr', 'kentucky', 'fried', 'chicken', 'kfc'], ['piment', 'de', 'la', 'jamaiqu', 'moulu'], ['piment', 'ancho', 'sech'], ['basilic', 'sech'], ['basilic', 'frais'], ['feuill', 'de', 'lauri'], ['bourrach'], ['petasit'], ['cardamom'], ['cerfeuil', 'sech'], ['chil', 'en', 'poudr'], ['ciboulet', 'seche'], ['ciboulet', 'fraich'], ['cannel', 'moulu'], ['clous', 'de', 'girofl', 'moulus'], ['coriandr', 'frais'], ['feuill', 'de', 'coriandr', 'seche'], ['grain', 'de', 'coriandr'], ['cresson', 'cuit'], ['cresson', 'frais'], ['curry', 'en', 'poudr'], ['feuill', 'de', 'pissenl', 'cuit'], ['feuill', 'de', 'pissenl', 'fraich'], ['aneth', 'seche'], ['aneth', 'fraich'], ['oseil'], ['fauss', 'ambrois'], ['perideridi', 'oregan'], ['epilob', 'a', 'feuill', 'etroit'], ['ail', 'en', 'poudr'], ['ail'], ['racin', 'de', 'wasab'], ['curcum', 'moulu'], ['thym', 'sech'], ['thym', 'frais'], ['estragon', 'sech'], ['menth', 'vert', 'seche'], ['menth', 'vert', 'fraich'], ['sarriet', 'moulu'], ['sel'], ['safran'], ['saug', 'moulu'], ['romarin', 'sech'], ['romarin', 'frais'], ['epic', 'a', 'volaill'], ['poivr', 'noir'], ['poivr', 'de', 'cayen'], ['poivr', 'blanc'], ['menth', 'poivre'], ['persil', 'frais'], ['piment', 'pasill', 'sech'], ['paprik'], ['persil', 'sech'], ['origan', 'sech'], ['oignon', 'en', 'poudr'], ['noix', 'de', 'muscad', 'moulu'], ['moutard'], ['marjolain', 'seche'], ['mac', 'moulu'], ['gingembr', 'moulu'], ['racin', 'de', 'gingembr'], ['caramel', 'ecoss'], ['caramel', 'avec', 'noix', 'enrob', 'de', 'chocolat'], ['grain', 'de', 'caf', 'enrob', 'de', 'chocolat'], ['barr', 'aux', 'fruit', 'jus', 'de', 'fruit'], ['pain', 'depic'], ['halv'], ['marshmallow', 'enrob', 'de', 'chocolat'], ['marshmallow'], ['cacahuet', 'enrobe', 'de', 'chocolat'], ['raisin', 'enrob', 'de', 'chocolat'], ['nougat', 'aux', 'amand'], ['croqu', 'aux', 'cacahuet'], ['fudg', 'au', 'beurr', 'de', 'cacahuet'], ['pralin'], ['pomm', 'damour'], ['amand', 'enrobe', 'de', 'chocolat'], ['caramel', 'mou'], ['fudg', 'a', 'la', 'vanill'], ['fudg', 'a', 'la', 'vanill', 'et', 'aux', 'noix'], ['ourson', 'guimauv', 'cemoi'], ['michoko', 'la', 'pi', 'qui', 'chant'], ['fromag', 'a', 'hamburg'], ['fromag', 'bleu'], ['substitut', 'de', 'fromag'], ['monterey', 'jack', 'fromag', 'alleg'], ['chest', 'fromag'], ['colby', 'fromag'], ['edam', 'fromag'], ['fontin', 'fromag'], ['monterey', 'jack', 'fromag'], ['cratev', 'religios'], ['pomm', 'golden', 'delicious'], ['pomm'], ['apple', 'dipper', 'mcdonald'], ['compot', 'de', 'pomm'], ['abricot'], ['banan'], ['mur', 'congele'], ['mur', 'cru'], ['mur'], ['fruit', 'a', 'pain'], ['carambol'], ['cherimol'], ['ceris', 'griott'], ['ceris'], ['bai', 'daroni'], ['clementin'], ['pomm', 'sauvag'], ['canneberg'], ['cass', 'noir'], ['cass', 'roug', 'blanc'], ['bai', 'de', 'sureau'], ['feijo', 'gojav', 'du', 'bresil'], ['figu'], ['salad', 'fruit', 'noix', 'mcdonald'], ['chayot', 'cuit'], ['chayot', 'cru'], ['groseil', 'a', 'maquereau'], ['pamplemouss'], ['pamplemouss', 'blanc'], ['compot', 'pomm', 'pech', 'douceur', 'du', 'verg'], ['bleuet', 'bleuet'], ['pastequ'], ['mandarin'], ['frais'], ['bai', 'de', 'sorbi'], ['gratt', 'cul'], ['frambois'], ['frambois', 'sauvag'], ['coing'], ['pure', 'de', 'prun'], ['prun', 'en', 'compot'], ['prun'], ['pouss', 'de', 'raisin', 'damer', 'cru'], ['grenad'], ['prun'], ['prun', 'sauvag'], ['pouss', 'de', 'raisin', 'damer', 'cuit'], ['figu', 'de', 'barbar', 'cru'], ['banan', 'plantain', 'cuit'], ['banan', 'plantain', 'frit'], ['banan', 'plantain', 'cru'], ['banan', 'plantain', 'jaun', 'frit'], ['figu', 'de', 'barbar', 'cuit'], ['anan'], ['kak', 'du', 'japon', 'sech'], ['kak', 'du', 'japon'], ['kak'], ['nash', 'pomm', 'poir'], ['poir'], ['boul', 'de', 'melon'], ['ceris', 'au', 'marasquin'], ['ceris', 'de', 'terr'], ['citron', 'vert'], ['citron'], ['goyav'], ['goyav', 'de', 'chin'], ['jamblon'], ['kiwano', 'melon', 'a', 'corn'], ['kiw', 'dor'], ['kiw', 'vert'], ['kumquat'], ['mangu'], ['melon', 'cantaloup'], ['melon', 'despagn'], ['mur', '16570'], ['nectarin'], ['orang'], ['orang', 'avec', 'peau'], ['pech'], ['poir', 'bon', 'chretien', 'william'], ['raisin'], ['raisin', 'damer'], ['raisin', 'muscat'], ['zest', 'dorang'], ['zest', 'de', 'citron'], ['gateau', 'de', 'ange'], ['tart', 'aux', 'pomm'], ['strudel', 'aux', 'pomm'], ['tart', 'aux', 'pomm', 'cuit', 'au', 'four', 'mcdonald'], ['tart', 'a', 'la', 'crem', 'de', 'banan'], ['tart', 'aux', 'myrtill'], ['quatr', 'quart'], ['gateau', 'au', 'fromag', 'et', 'au', 'caf'], ['cheesecak'], ['tart', 'aux', 'ceris'], ['gateau', 'au', 'chocolat', 'avec', 'glacag', 'au', 'chocolat'], ['gateau', 'au', 'chocolat'], ['tart', 'a', 'la', 'crem', 'au', 'chocolat'], ['gateau', 'au', 'caf', 'a', 'la', 'cannel'], ['gateau', 'de', 'mais'], ['gateau', 'au', 'caf', 'avec', 'glacag', 'au', 'chocolat'], ['patisser', 'danois', 'au', 'fromag'], ['patisser', 'danois', 'a', 'la', 'cannel'], ['patisser', 'danois', 'aux', 'fruit'], ['patisser', 'danois', 'aux', 'noix'], ['crem', 'aux', 'oeuf'], ['chausson', 'aux', 'fruit'], ['gateau', 'au', 'caf', 'aux', 'fruit'], ['gateau', 'aux', 'fruit'], ['tart', 'au', 'citron', 'meringue'], ['minc', 'pi', 'tartelet', 'sucre'], ['tart', 'aux', 'pech'], ['tart', 'aux', 'noix', 'de', 'pecan'], ['pat', 'a', 'tart', 'au', 'chocolat'], ['pat', 'a', 'tart', 'aux', 'graham', 'cracker'], ['biscuit', 'chocolat', 'lead', 'pric'], ['gach', 'au', 'sucr', 'la', 'fourne', 'dore'], ['tart', 'aux', 'pomm', 'pasqui'], ['amaret', 'du', 'matti', 'artisanal'], ['speculoos', 'tradit', 'auchan'], ['crep', 'caramel', 'beurr', 'sal', 'paysan', 'breton'], ['biscuit', 'lu', 'granol', 'l', 'original'], ['gateau', 'poir', 'choco', 'kap'], ['choco', 'magnesium', 'gerbl'], ['kakor', 'chokladflarn', 'ike'], ['cigaret', 'russ', 'delacr'], ['le', 'pet', 'beurr', 'tablet', 'fourrag', 'au', 'lait', 'carrefour'], ['madelein', 'saint', 'michel'], ['madelein', 'stmichel'], ['gateau', 'dor', 'avec', 'glacag', 'a', 'la', 'vanill'], ['gateau', 'dor'], ['gateau', 'dor', 'avec', 'glacag', 'au', 'chocolat'], ['gateau', 'blanc', 'avec', 'glacag', 'a', 'la', 'noix', 'de', 'coco'], ['gateau', 'blanc'], ['tart', 'a', 'la', 'crem', 'a', 'la', 'vanill'], ['genois', 'fourre'], ['pet', 'gateau', 'au', 'chocolat'], ['petit', 'genois', 'fourre'], ['shortcak'], ['tart', 'a', 'la', 'citrouill'], ['quatr', 'quart', '16998'], ['gateau', 'au', 'pop', 'corn'], ['gateau', 'a', 'lanan'], ['pat', 'a', 'tart'], ['tart', 'danois', 'aux', 'pomm'], ['pat', 'a', 'tart', 'aux', 'gaufret', 'a', 'la', 'vanill'], ['beurr', 'damand'], ['huil', 'de', 'foi', 'de', 'moru'], ['huil', 'de', 'coton'], ['huil', 'de', 'cupuacu'], ['huil', 'de', 'noiset'], ['saindoux'], ['saindoux', 'huil', 'vegetal'], ['margarin', 'a', 'tartin'], ['margarin', 'sale'], ['margarin'], ['margarin', 'avec', 'yaourt'], ['huil', 'dalos', 'tyran'], ['huil', 'de', 'noix', 'de', 'muscad'], ['huil', 'de', 'saumon'], ['huil', 'de', 'sardin'], ['beurr', 'de', 'sesam'], ['matier', 'grass'], ['beurr', 'de', 'grain', 'de', 'tournesol'], ['beurr', 'ducuub'], ['margarin', 'au', 'soj'], ['huil', 'vegetal', 'a', 'tartin'], ['huil', 'vegetal', 'a', 'tartin', '0'], ['beurr', 'beurr', 'envi'], ['pat', 'damand'], ['chocolat', 'patissi'], ['levur', 'chimiqu'], ['bicarbonat', 'de', 'soud'], ['glacag', 'au', 'chocolat'], ['crem', 'de', 'tartr'], ['substitut', 'doeuf'], ['substitut', 'doeuf', 'en', 'poudr'], ['blanc', 'doeuf', 'deshydrat'], ['blanc', 'doeuf', 'cru'], ['oeuf', 'au', 'plat'], ['oeuf', 'a', 'la', 'coqu'], ['oeuf', 'deshydrat'], ['oeuf', 'cru'], ['jaun', 'doeuf', 'deshydrat'], ['jaun', 'doeuf', 'cru'], ['fond'], ['gelatin', 'en', 'poudr'], ['garnitur', 'a', 'lanan'], ['melang', 'pour', 'popov'], ['garnitur', 'a', 'la', 'frais'], ['sucr', 'de', 'cann'], ['sucr', 'roux'], ['sucr', 'cristallis'], ['sucr', 'derabl'], ['sucr', 'blanc'], ['sirop', 'dagav'], ['edulcor', 'a', 'laspartam'], ['fructos'], ['edulcor', 'a', 'la', 'saccharin'], ['sucr', 'de', 'coco', 'comptoir', 'et', 'compagn'], ['cacao', 'van', 'houten'], ['sucr', 'discunt'], ['levur', 'boulanger'], ['levur', 'boulanger', 'sech'], ['glac', 'royal', 'en', 'poudr'], ['extrait', 'de', 'vanill'], ['glacag', 'a', 'la', 'vanill'], ['perl', 'de', 'tapioc'], ['edulcor', 'splend'], ['beurr', 'leg'], ['huil', 'de', 'beurr'], ['beurr'], ['crem'], ['crem', '0'], ['crem', 'fouette'], ['lait', 'en', 'poudr', 'alleg'], ['lait', 'en', 'poudr'], ['lait', 'alleg', 'en', 'matier', 'grass', '17085'], ['lait', 'de', 'breb'], ['crem', 'sur'], ['crem', 'sur', '0'], ['crem', 'sur', 'leger'], ['crem', 'sur', 'allege', 'en', 'matier', 'grass'], ['pet', 'lait', 'en', 'poudr'], ['pet', 'lait', 'liquid'], ['babeurr', 'doux', 'en', 'poudr'], ['babeurr', 'doux', 'liquid'], ['lait', 'de', 'chevr'], ['yaourt', 'velout', 'natur', 'danon'], ['lait', 'dem', 'ecrem', 'lead', 'pric'], ['lait', 'dem', 'ecrem', 'de', 'montagn', 'carrefour'], ['crem', 'leger', 'sem', 'epaiss', '12', 'milsan', 'aldi'], ['lait', 'soj', 'noiset', 'alpro'], ['lait', 'de', 'soj', 'au', 'calcium', 'bio', 'villag'], ['lait', 'ecrem', 'auchan'], ['yaourt', 'a', 'boir', 'actimel', 'gout', 'myrtill'], ['lait', 'ecrem', 'monoprix'], ['lait', 'u', 'bio', 'burg', 'king'], ['lait', 'everyday', 'a', 'la', 'frais', 'everyday'], ['feuill', 'damar'], ['mar'], ['arrow', 'root'], ['artichaut', 'cuit'], ['artichaut', 'cru'], ['asperg', 'cuit'], ['asperg', 'cru'], ['avocat'], ['min', 'carott'], ['pouss', 'de', 'bambou', 'cuit'], ['pouss', 'de', 'bambou', 'cru'], ['piment', 'banan'], ['feuill', 'de', 'betterav', 'cuit'], ['feuill', 'de', 'betterav', 'cru'], ['betterav', 'cuit'], ['betterav', 'cru'], ['brocol', 'rav', 'cuit'], ['brocol', 'rav', 'cru'], ['brocol', 'cuit'], ['brocol', 'cru'], ['choux', 'de', 'bruxel', 'cuit'], ['choux', 'de', 'bruxel', 'crus'], ['racin', 'de', 'bardan', 'cuit'], ['racin', 'de', 'bardan', 'cru'], ['chou', 'cuit'], ['chou', 'japon'], ['chou', 'moutard'], ['chou', 'nap', 'cuit'], ['chou', 'cru'], ['chou', 'roug', 'cuit'], ['macedoin', 'de', 'legum', 'franprix'], ['legum', 'haricot', 'beurr', 'sup', 'u'], ['soup', 'lign', 'knorr'], ['courget', 'en', 'rondel', 'carrefour'], ['v8', 'low', 'sodium', 'campbel'], ['pet', 'pois', 'carott', 'leclerc'], ['min', 'courget'], ['courget', 'cuit'], ['courget', 'cru'], ['patat', 'douc', 'cuit'], ['patat', 'douc', 'cru', '17731'], ['pois', 'patat'], ['chou', 'caraib'], ['chicore', 'witloof'], ['cresson'], ['macedoin', 'de', 'legum', 'cuit'], ['fan', 'de', 'navet', 'cru'], ['navet', 'cuit'], ['navet', 'crus'], ['fan', 'de', 'navet', 'cuit'], ['fouger', 'arborescent', 'cuit'], ['compote', 'de', 'tomat'], ['tomat', 'cuit'], ['tomat', 'seche'], ['tomat', 'jaun'], ['tomat', 'vert'], ['tomat', 'orang'], ['tomatill'], ['taro', 'cuit'], ['feuill', 'de', 'taro', 'cuit'], ['agar', 'agar'], ['algu', 'nor'], ['algu', 'seche'], ['aubergin', 'cru'], ['aubergin', 'cuit'], ['bet', 'cru'], ['bet', 'cuit'], ['cactus', 'nopal', 'cru'], ['cactus', 'nopal', 'cuit'], ['cardon', 'cru'], ['cardon', 'cuit'], ['carott', 'cru'], ['carott', 'cuit'], ['celer', 'rav', 'cru'], ['celer', 'rav', 'cuit'], ['celer', 'cru'], ['celer', 'cuit'], ['chenopod', 'blanc', 'cru'], ['chenopod', 'blanc', 'cuit'], ['chou', 'cavali', 'cru'], ['chou', 'cavali', 'cuit'], ['chou', 'de', 'savoi', 'cru'], ['chou', 'de', 'savoi', 'cuit'], ['chou', 'fris', 'decoss', 'cru'], ['chou', 'fris', 'decoss', 'cuit'], ['chou', 'fris', 'cru'], ['chou', 'fris', 'cuit'], ['chou', 'pak', 'choi', 'cuit'], ['chou', 'pak', 'hoi', 'cru'], ['chou', 'pe', 'tsai', 'cru'], ['chou', 'pe', 'tsai', 'cuit'], ['chou', 'romanesco', 'cru'], ['chou', 'romanesco', 'cuit'], ['chou', 'roug', 'cru'], ['chou', 'fleur', 'cru'], ['chou', 'fleur', 'cuit'], ['chou', 'pu'], ['chou', 'rav', 'cru'], ['chou', 'rav', 'cuit'], ['chrysanthem', 'cru'], ['chrysanthem', 'cuit'], ['citronnel'], ['citrouill', 'cru'], ['citrouill', 'cuit'], ['concombr'], ['concombr', 'pel'], ['cornichon', 'aigr'], ['cornichon', 'chow', 'chow'], ['cornichon', 'doux'], ['cornichon', 'marin', 'a', 'laneth'], ['courg', 'butternut', 'cru'], ['courg', 'butternut', 'cuit'], ['courg', 'crookneck', 'cru'], ['courg', 'crookneck', 'cuit'], ['courg', 'det', 'cru'], ['courg', 'det', 'cuit'], ['courg', 'dhiv', 'cru'], ['courg', 'dhiv', 'cuit'], ['courg', 'hubbard', 'cru'], ['courg', 'hubbard', 'cuit'], ['courg', 'musque', 'cuit'], ['courg', 'poivre', 'cru'], ['courg', 'poivre', 'cuit'], ['courg', 'spaghet', 'cru'], ['courg', 'spaghet', 'cuit'], ['echalot', 'cru'], ['echalot', 'seche'], ['endiv'], ['epinard', 'cru'], ['epinard', 'cuit'], ['epinard', 'de', 'nouvel', 'zeland', 'crus'], ['epinard', 'de', 'nouvel', 'zeland', 'cuit'], ['fenouil'], ['feuill', 'de', 'chicore'], ['feuill', 'de', 'citrouill', 'cru'], ['feuill', 'de', 'citrouill', 'cuit'], ['feuill', 'de', 'moring', 'cuit'], ['feuill', 'de', 'moring', 'fraich'], ['feuill', 'de', 'patat', 'douc', 'cru'], ['feuill', 'de', 'patat', 'douc', 'cuit'], ['feuill', 'de', 'taro', 'cru'], ['feuill', 'de', 'vign'], ['fleur', 'de', 'sesbani', 'cru'], ['fleur', 'de', 'sesbani', 'cuit'], ['fleur', 'de', 'citrouill', 'cru'], ['fleur', 'de', 'citrouill', 'cuit'], ['germ', 'de', 'haricot', 'blanc', 'cru'], ['gombo'], ['gombo', 'cuit'], ['gourd', 'cru'], ['gourd', 'cuit'], ['grain', 'de', 'moutard', 'cru'], ['grain', 'de', 'moutard', 'cuit'], ['grain', 'de', 'rad', 'germe'], ['grand', 'orti'], ['ignam', 'de', 'chin', 'cru'], ['ignam', 'de', 'chin', 'cuit'], ['jut', 'cru'], ['jut', 'cuit'], ['kanpy', 'sech'], ['laitu', 'romain', '15937'], ['laitu', 'roug'], ['lentill', 'germe'], ['lis', 'deau'], ['mais', 'blanc', 'cru'], ['mais', 'blanc', 'cuit'], ['mais', 'doux', 'blanc'], ['mais', 'doux', 'jaun'], ['mais', 'jaun', 'cru'], ['mais', 'cru'], ['mais', 'cuit'], ['mais', 'sech'], ['manioc'], ['mouss', 'dirland'], ['moutard', 'epinard', 'cru'], ['moutard', 'epinard', 'cuit'], ['navet', 'de', 'prair', 'bouill'], ['navet', 'de', 'prair', 'crus'], ['oignon', 'cebet'], ['oignon', 'doux'], ['oignon', 'cru'], ['oignon', 'cuit'], ['oliv'], ['oliv', 'vert', 'marine'], ['oseil', 'de', 'guine'], ['pan', 'crus'], ['pan', 'cuit'], ['patat', 'douc', 'cru'], ['patat', 'douc', 'cuit', 'au', 'four'], ['patisson', 'cru'], ['patisson', 'cuit'], ['petit', 'pois', 'carott', 'cuit'], ['petit', 'pois', 'oignon', 'cuit'], ['petit', 'pois', 'cass', 'crus'], ['petit', 'pois', 'cass', 'cuit'], ['petit', 'pois', 'crus'], ['petit', 'pois', 'cuit'], ['piment', 'fort', 'sech'], ['piment', 'hongrois'], ['piment', 'jalapeno'], ['piment', 'serrano'], ['piment', 'vert'], ['piment', 'roug'], ['poi'], ['poireau', 'crus'], ['poireau', 'cuit'], ['poireau', 'sech'], ['poivron', 'jaun'], ['poivron', 'roug', 'crus'], ['poivron', 'roug', 'cuit'], ['poivron', 'vert', 'crus'], ['poivron', 'vert', 'cuit'], ['pourpi', 'cru'], ['pourpi', 'cuit'], ['pouss', 'de', 'haricot', 'mungo', 'cru'], ['pouss', 'de', 'haricot', 'mungo', 'cuit'], ['pupus', 'aux', 'haricot', 'roug'], ['racin', 'de', 'chicore'], ['racin', 'de', 'lotus', 'cru'], ['racin', 'de', 'lotus', 'cuit'], ['racin', 'de', 'taro', 'cru'], ['racin', 'de', 'taro', 'cuit'], ['rad', 'dhiv'], ['rad', 'oriental', 'crus'], ['rad', 'oriental', 'cuit'], ['rad', 'oriental', 'sech'], ['rad', 'crus'], ['rad', 'marin'], ['rhubarb', 'cru'], ['rhubarb', 'cuit'], ['rutabag', 'cru'], ['rutabag', 'cuit'], ['salad', 'vert'], ['salsif', 'cru'], ['salsif', 'cuit'], ['spirulin', 'seche'], ['taro', 'de', 'tahit', 'cru'], ['taro', 'de', 'tahit', 'cuit'], ['taro', 'cru'], ['tig', 'de', 'moring', 'cru'], ['tig', 'de', 'moring', 'cuit'], ['topinambour'], ['trevis'], ['varech'], ['wakam'], ['haricot', 'roug', 'du', 'japon', 'cuit'], ['haricot', 'roug', 'du', 'japon', 'crus'], ['ykan'], ['haricot', 'blanc', 'cuit'], ['haricot', 'blanc', 'a', 'la', 'sauc', 'tomat', 'en', 'conserv'], ['haricot', 'blanc', 'en', 'conserv'], ['haricot', 'blanc', 'crus'], ['haricot', 'blanc', 'cuit', '15511'], ['haricot', 'beurr', 'cuit'], ['haricot', 'beurr', 'crus'], ['haricot', 'noir', 'cuit'], ['haricot', 'noir', 'crus'], ['haricot', 'tortu', 'cuit'], ['haricot', 'tortu', 'crus'], ['fev', 'en', 'conserv'], ['fev', 'cuit'], ['fev', 'cru'], ['caroub'], ['pois', 'chich', 'en', 'conserv'], ['pois', 'chich', 'crus'], ['pois', 'chich', 'cuit'], ['haricot', 'cornill', 'cuit'], ['haricot', 'cornill', 'crus'], ['doliqu', 'monguet', 'cuit'], ['doliqu', 'monguet', 'cru'], ['haricot', 'en', 'conserv'], ['nieb', 'cuit'], ['nieb', 'cru'], ['haricot', 'canneberg', 'en', 'conserv'], ['haricot', 'canneberg', 'cuit'], ['haricot', 'blanc', 'saint', 'eloi'], ['flageolet', 'carrefour'], ['soup', 'poulet', 'thai', 'covent', 'garden'], ['doliqu', 'asperg', 'cuit'], ['doliqu', 'asperg', 'cru'], ['pois', 'carr', 'cuit'], ['pois', 'carr', 'crus'], ['tamarin'], ['haricot', 'mang', 'tout', 'beurr', 'cuit'], ['haricot', 'mang', 'tout', 'beurr', 'crus'], ['haricot', 'mang', 'tout', 'en', 'conserv'], ['haricot', 'mang', 'tout', 'cuit'], ['haricot', 'mang', 'tout', 'crus'], ['haricot', 'mang', 'tout', 'beurr', 'en', 'conserv'], ['haricot', 'arriv', 'a', 'maturit', 'en', 'conserv'], ['haricot', 'pinto', 'crus'], ['haricot', 'ros', 'cuit'], ['haricot', 'ros', 'crus'], ['haricot', 'pinto', 'en', 'conserv'], ['haricot', 'pinto', 'cuit'], ['pois', 'dangol', 'cuit'], ['pois', 'dangol', 'crus'], ['petit', 'haricot', 'blanc', 'cuit'], ['petit', 'haricot', 'blanc', 'crus'], ['petit', 'haricot', 'blanc', 'en', 'conserv'], ['haricot', 'mungo', 'cuit'], ['haricot', 'mungo', 'cuit', '16577'], ['haricot', 'mungo', 'crus'], ['haricot', 'mat', 'cuit'], ['haricot', 'mat', 'crus'], ['doliqu', 'pourpr', 'cru'], ['doliqu', 'pourpr', 'cuit'], ['fev', 'edamam', 'cuit'], ['haricot', 'canneberg', 'crus'], ['haricot', 'de', 'lim', 'crus'], ['haricot', 'de', 'lim', 'cuit'], ['haricot', 'de', 'lim', 'en', 'conserv'], ['haricot', 'vert', 'crus'], ['haricot', 'vert', 'cuit'], ['lentill', 'corail', 'cuit'], ['lentill', 'cru'], ['lentill', 'cuit'], ['cereal', 'au', 'son', 'de', 'ble'], ['cereal', 'a', 'lamar'], ['corn', 'flak'], ['semoul', 'de', 'mais', 'cuit'], ['semoul', 'de', 'mais', 'cru'], ['cereal', 'aux', 'noix'], ['granol'], ['muesl', 'aux', 'fruit', 'et', 'aux', 'noix'], ['special', 'muesl', '30', 'fruit', 'et', 'noix', 'jordan'], ['flocon', 'd', 'avoin', 'auchan'], ['flocon', 'davoin', 'quak'], ['muesl', 'de', 'lux', 'jordan'], ['flocon', 'davoin', 'complet', 'bio', 'terr', 'et', 'cereal'], ['croust', 'avoin', 'chocolat', 'bio', 'bjorg'], ['flak', 'terr', 'et', 'ceraal', 'bio'], ['muesl', 'seigl', 'et', 'pralin', 'terr', 'et', 'cereal'], ['gland', 'sech'], ['gland', 'cru'], ['grain', 'de', 'luzern'], ['amand', 'cru'], ['amand', 'grille'], ['grain', 'dan'], ['fain', 'seche'], ['noix', 'du', 'bresil', 'seche'], ['grain', 'de', 'fruit', 'a', 'pain'], ['noix', 'seche'], ['grain', 'de', 'carv'], ['noix', 'de', 'cajou', 'grille'], ['grain', 'de', 'celer'], ['chataign', 'deau', 'grille'], ['chataign', 'cuit'], ['chataign', 'cru'], ['chataign', 'grille'], ['chataign', 'japonais', 'grille'], ['grain', 'de', 'chi', 'seche'], ['grain', 'de', 'cumin'], ['grain', 'daneth'], ['grain', 'de', 'fenouil'], ['grain', 'de', 'fenugrec'], ['noix', 'de', 'ginkgo', 'en', 'conserv'], ['noix', 'de', 'ginkgo', 'seche'], ['noix', 'de', 'ginkgo', 'cru'], ['noiset', 'cru'], ['noiset', 'blanch'], ['noiset', 'grille'], ['noix', 'de', 'cari', 'seche'], ['barr', 'gener', 'amand', 'grille', 'et', 'chocolat', 'extra'], ['grain', 'de', 'nenuphar', 'seche'], ['chataign', 'deau', 'en', 'conserv'], ['grain', 'de', 'pastequ', 'seche'], ['chataign', 'deau', 'cru'], ['noix', 'de', 'noi', 'noir', 'seche'], ['noix'], ['grain', 'de', 'tournesol', 'seche'], ['grain', 'de', 'tournesol', 'grille', 'a', 'sec'], ['grain', 'de', 'tournesol', 'grille'], ['grain', 'de', 'sysimbr'], ['grain', 'de', 'sesam', 'seche'], ['grain', 'de', 'sesam', 'grille'], ['grain', 'de', 'noix', 'pain', 'seche'], ['grain', 'de', 'noix', 'pain', 'cru'], ['grain', 'de', 'lin'], ['grain', 'de', 'cartham', 'seche'], ['grain', 'de', 'citrouill', 'de', 'courg', 'seche'], ['grain', 'de', 'citrouill', 'de', 'courg', 'grille'], ['grain', 'de', 'pavot'], ['pistach', 'grille'], ['pistach', 'cru'], ['pignon', 'sech', '16826'], ['noix', 'de', 'pecan', 'cru'], ['noix', 'de', 'pecan', 'grille'], ['pectin'], ['cacahuet', 'de', 'virgin', 'cru'], ['cacahuet', 'cru'], ['arachid', 'grille'], ['arachid'], ['arachid', 'de', 'valenc', 'grille'], ['cacahuet', 'de', 'valenc', 'cru'], ['cacahuet', 'de', 'virgin', 'grille'], ['cacahuet', 'cuit'], ['cacahuet', 'grille'], ['grain', 'de', 'lotus', 'cru'], ['grain', 'de', 'lotus', 'seche'], ['grain', 'de', 'moutard', 'moulu'], ['lupin', 'crus'], ['lupin', 'cuit'], ['melang', 'de', 'noix', 'grille'], ['noix', 'de', 'cajou', 'cru'], ['noix', 'de', 'macadami', 'cru'], ['noix', 'de', 'macadami', 'grille'], ['noix', 'de', 'pil', 'seche'], ['pignon', 'sech'], ['nappag', 'a', 'la', 'cacahuet', 'mcdonald'], ['fromag', 'fondu', 'americain'], ['beurr', 'de', 'pomm'], ['fromag', 'a', 'tartin'], ['poulet', 'a', 'tartin'], ['pat', 'a', 'tartin', 'chocolat', 'noiset'], ['fromag', 'a', 'tartin', 'avec', 'jambon'], ['miel'], ['confitur', 'dabricot'], ['confitur', 'aux', 'fruit'], ['marmelad', 'dorang'], ['beurr', 'de', 'cacahuet'], ['beurr', 'de', 'cacahuet', 'avec', 'morceau'], ['beurr', 'darachid'], ['beurr', 'de', 'sesam', '17246'], ['marmelad', 'orang', 'amer', 'bon', 'maman'], ['pat', 'a', 'tartin', 'noiset', 'monoprix'], ['beurr', 'de', 'cacahuet', 'crunchy', 'myprotein'], ['macaron', 'cuit'], ['macaron', 'crus'], ['macaron', 'vegetarien', 'cuit'], ['macaron', 'vegetarien', 'sech'], ['macaron', 'au', 'ble', 'enti', 'cuit'], ['macaron', 'au', 'ble', 'enti', 'sech'], ['nouill', 'chinois'], ['nouill', 'chow', 'mein'], ['nouill', 'aux', 'oeuf', 'cuit'], ['nouill', 'aux', 'oeuf', 'seche'], ['nouill', 'aux', 'oeuf', 'avec', 'epinard', 'seche'], ['nouill', 'sob', 'a', 'la', 'japonais', 'cuit'], ['nouill', 'sob', 'a', 'la', 'japonais', 'seche'], ['nouill', 'smen', 'a', 'la', 'japonais', 'cuit'], ['nouill', 'smen', 'a', 'la', 'japonais', 'seche'], ['pat', 'au', 'mais', 'seche'], ['pat', 'cuit'], ['nouill', 'au', 'riz', 'cuit'], ['nouill', 'au', 'riz', 'seche'], ['spaghet', 'cuit'], ['spaghet', 'sech'], ['spaghet', 'aux', 'epinard', 'cuit'], ['spaghet', 'au', 'ble', 'complet', 'cuit'], ['spaghet', 'au', 'ble', 'complet', 'sech'], ['triangol', 'aux', 'legum', 'auchan'], ['noodl', 'oriental', 'saveur', 'poulet', 'lead', 'pric'], ['nouill', 'asiat', 'poulet', 'legum', 'lead', 'pric'], ['chapelur'], ['gaufr', 'au', 'babeurr'], ['crouton'], ['crouton', 'assaison'], ['beignet', 'au', 'chocolat'], ['beignet', 'enrob', 'de', 'chocolat'], ['beignet'], ['beignet', 'de', 'pat', 'a', 'choux'], ['beignet', 'napp'], ['beignet', 'fourr', 'a', 'la', 'crem'], ['beignet', 'fourr', 'a', 'la', 'confitur'], ['eclair'], ['cupcak'], ['muffin', 'aux', 'myrtill'], ['muffin', 'au', 'mais'], ['muffin', 'au', 'son', 'davoin'], ['muffin'], ['crep'], ['crep', 'au', 'ble', 'complet'], ['pat', 'feuillete'], ['rouleau', 'au', 'fromag', 'a', 'la', 'crem'], ['rouleau', 'a', 'la', 'cannel'], ['tortill', 'pour', 'tacos'], ['chausson', 'aux', 'fruit', 'a', 'toast'], ['chausson', 'a', 'la', 'cannel', 'a', 'toast'], ['tortill'], ['tortill', 'de', 'mais'], ['tortill', 'de', 'ble'], ['gaufr'], ['gaufr', 'toaste'], ['gaufr', 'aux', 'oeuf', 'frais', 'eco'], ['clafout', 'aux', 'ceris', 'monoprix'], ['english', 'muffin', 'm'], ['madelein', 'st', 'michel'], ['pepito', 'pepit', 'lu'], ['biscott'], ['brioch', 'chaud', 'a', 'la', 'cannel', 'mcdonald'], ['arroz', 'con', 'abichuel', 'riz', 'haricot'], ['arroz', 'con', 'frijol', 'riz', 'aux', 'haricot', 'noir'], ['arroz', 'con', 'gandul', 'riz', 'pois', 'dangol'], ['bagel', 'jambon', 'oeuf', 'et', 'fromag'], ['haricot', 'blanc', 'a', 'la', 'sauc', 'tomat'], ['hach', 'de', 'corned', 'beef', 'avec', 'pomm', 'de', 'terr'], ['pain', 'brioch', 'avec', 'oeuf'], ['pain', 'brioch', 'avec', 'oeuf', 'sauc'], ['pain', 'hamburg', 'avec', 'oeuf', 'steak', 'hach'], ['pain', 'hamburg', 'avec', 'oeuf', 'bacon'], ['pain', 'hamburg', 'avec', 'oeuf', 'jambon'], ['pain', 'hamburg', 'avec', 'oeuf', 'fromag', 'bacon'], ['pain', 'hamburg', 'avec', 'jambon'], ['pain', 'hamburg', 'avec', 'sauc'], ['burrito', 'avec', 'haricot'], ['burrito', 'avec', 'haricot', 'boeuf'], ['burrito', 'avec', 'haricot', 'fromag'], ['burrito', 'avec', 'haricot', 'fromag', 'boeuf'], ['burrito', 'avec', 'boeuf'], ['chow', 'mein', 'au', 'poulet'], ['sandwich', 'au', 'poulet'], ['sandwich', 'au', 'poulet', 'et', 'au', 'fromag'], ['tourt', 'au', 'poulet'], ['poulet', 'sauc', 'aigr', 'douc'], ['chimichang', 'au', 'boeuf'], ['chimichang', 'boeuf', 'fromag'], ['riz', 'au', 'mais'], ['epi', 'de', 'mais', 'au', 'beurr'], ['tamal', 'papillot', 'a', 'la', 'pat', 'de', 'farin', 'de', 'mais'], ['cak', 'au', 'crab'], ['salad', 'de', 'boulgour', 'au', 'poulet', 'et', 'houmous', 'carrefour'], ['salad', 'pat', 'au', 'thon', 'san', 'sauc', 'daunat'], ['salad', 'mexico', 'sodebo'], ['salmon', 'and', 'prawn', 'curry', 'maison'], ['tourt', 'aux', 'champignon', 'et', 'jambon', 'marqu', 'reper'], ['bouche', 'a', 'la', 'rein'], ['rot', 'de', 'porc', 'sauc', 'moutard', 'bofrost'], ['tagliatel', 'au', 'poulet', 'champignon', 'et', 'crem', 'weight', 'watchet'], ['galet', 'epeautr', 'et', 'boulghour', 'aux', 'petit', 'legum', 'cereal', 'bio'], ['grill', 'vegetal', 'sojabl', 'cereal'], ['chil', 'con', 'carn'], ['pat', 'won', 'ton'], ['filet', 'vegetal'], ['tourt', 'a', 'la', 'dind'], ['dind', 'en', 'sauc'], ['tostad', 'avec', 'haricot', 'fromag'], ['tostad', 'avec', 'boeuf', 'fromag'], ['tostad', 'avec', 'guacamol'], ['salad', 'taco', 'avec', 'chil', 'con', 'carn'], ['taco', 'avec', 'boeuf', 'fromag', 'laitu'], ['taco', 'avec', 'poulet', 'fromag', 'laitu'], ['tamal', 'navajo'], ['salad', 'taco'], ['succotash'], ['ragout', 'de', 'legum'], ['souffl', 'aux', 'epinard'], ['quesadill', 'au', 'poulet'], ['pupus', 'con', 'queso', 'tortill', 'fourre', 'au', 'fromag'], ['tortill', 'au', 'porc'], ['eminc', 'de', 'porc', 'sauc', 'barbecu'], ['biscuit', 'a', 'la', 'cuiller'], ['crep', 'au', 'babeurr'], ['crep', 'aux', 'myrtill'], ['crep', 'avec', 'beurr', 'sirop'], ['croiss', 'au', 'beurr'], ['croiss', 'au', 'fromag'], ['croiss', 'aux', 'pomm'], ['croiss', 'avec', 'oeuf', 'fromag'], ['empanad', 'au', 'boeuf'], ['enchilad', 'au', 'fromag'], ['enchilad', 'au', 'fromag', 'boeuf'], ['enchirito', 'au', 'fromag', 'boeuf', 'haricot'], ['falafel'], ['frijol', 'au', 'fromag', 'haricot', 'frit'], ['frit', '16980'], ['gefilt', 'fish', 'boulet', 'de', 'poisson'], ['gratin', 'de', 'pomm', 'de', 'terr'], ['haricot', 'roug', 'frit'], ['houmous'], ['hushpupp', 'beignet', 'a', 'la', 'farin', 'de', 'mais'], ['melang', 'aux', 'oeuf'], ['muffin', 'anglais', 'au', 'beurr'], ['muffin', 'anglais', 'avec', 'fromag', 'sauc'], ['muffin', 'anglais', 'avec', 'oeuf', 'fromag', 'sauc'], ['nachos', 'au', 'fromag'], ['nachos', 'au', 'fromag', 'piment', 'jalapeno'], ['nachos', 'au', 'sucr', 'et', 'a', 'la', 'cannel'], ['oeuf', 'poch'], ['oeuf', 'brouill'], ['omelet'], ['pain', 'perdu', 'au', 'beurr'], ['pain', 'piqu', 'niqu'], ['pat', 'imperial', 'nem'], ['pat', 'imperial', 'au', 'porc', 'nem'], ['pat', 'imperial', 'au', 'poulet', 'nem'], ['pat', 'imperial', 'aux', 'legum', 'nem'], ['pet', 'pain', 'aux', 'oeuf'], ['pomm', 'de', 'terr', 'au', 'four', 'a', 'la', 'crem', 'fraich'], ['pomm', 'de', 'terr', 'au', 'four', 'avec', 'sauc', 'au', 'fromag'], ['pomm', 'de', 'terr', 'au', 'four', 'avec', 'sauc', 'au', 'fromag', 'bacon'], ['porc', 'sauc', 'aigr', 'douc'], ['poulet', 'au', 'citron'], ['poulet', 'du', 'general', 'tao'], ['poulet', 'kung', 'pao'], ['riz', 'canton'], ['roul', 'jambon', 'fromag'], ['sandwich', 'au', 'poulet', 'croustill'], ['sandwich', 'jambon', 'fromag'], ['sandwich', 'jambon', 'fromag', 'oeuf'], ['sandwich', 'oeuf', 'fromag'], ['steak', 'a', 'la', 'mozzarel', 'pan'], ['tamal', 'au', 'porc'], ['anchois', 'cru'], ['bar', 'cru'], ['bar', 'cuit'], ['tassergal', 'cuit'], ['tassergal', 'cru'], ['barbott', 'cuit'], ['barbott', 'cru'], ['stromate', 'cuit'], ['stromate', 'cru'], ['carp', 'cuit'], ['carp', 'cru'], ['poisson', 'chat', 'frit'], ['poisson', 'chat', 'cuit'], ['poisson', 'chat', 'cru'], ['caviar'], ['cisco', 'cru'], ['cabillaud', 'cuit'], ['cabillaud', 'cru'], ['langoustin', 'cuit'], ['langoustin', 'cru'], ['tambour', 'bresilien', 'frit'], ['tambour', 'bresilien', 'cru'], ['lott', 'de', 'rivier', 'cuit'], ['lott', 'de', 'rivier', 'cru'], ['seich', 'cuit'], ['seich', 'cru'], ['viand', 'de', 'dauphin', 'cuit'], ['viand', 'de', 'dauphin', 'cru'], ['malachigan', 'cuit'], ['malachigan', 'cru'], ['caviar', 'de', 'courget', 'maayan'], ['nugget', 'colin', 'iglo'], ['yakitor', 'saumon', 'japon'], ['seriol', 'cuit'], ['seriol', 'cru'], ['poisson', 'loup', 'cuit'], ['poisson', 'loup', 'cru'], ['merlan', 'cuit'], ['merlan', 'cru'], ['poisson', 'a', 'chair', 'blanch', 'cuit'], ['poisson', 'a', 'chair', 'blanch', 'cru'], ['thon', 'albacor', 'cuit'], ['turbot', 'cuit'], ['turbot', 'cru'], ['salad', 'de', 'thon', 'roug', 'cru'], ['thon', 'albacor', 'cru'], ['bonit', 'raye', 'thon', 'cuit'], ['truit', 'cru'], ['truit', 'arc', 'en', 'ciel', 'cuit'], ['truit', 'arc', 'en', 'ciel', 'cru'], ['salad', 'de', 'thon'], ['salad', 'de', 'thon', 'roug', 'cuit'], ['truit', 'cuit'], ['tilapi', 'cru'], ['dor', 'de', 'mer', 'cuit'], ['dor', 'de', 'mer', 'cru'], ['tilapi', 'cuit'], ['espadon', 'cuit'], ['espadon', 'cru'], ['surim'], ['aiglefin', 'cru'], ['aiglefin', 'cuit'], ['alos', 'damer', 'cru'], ['alos', 'damer', 'cuit'], ['anguill', 'cru'], ['anguill', 'cuit'], ['bar', 'commun', 'cru'], ['bar', 'commun', 'cuit'], ['batonnet', 'de', 'poisson'], ['brochet', 'cru'], ['brochet', 'cuit'], ['carangu', 'pompano', 'cru'], ['carangu', 'pompano', 'cuit'], ['charbonni', 'cru'], ['charbonni', 'cuit'], ['colin', 'cru'], ['colin', 'cuit'], ['crapet', 'soleil', 'cru'], ['crapet', 'soleil', 'cuit'], ['dor', 'jaun', 'cru'], ['dor', 'jaun', 'cuit'], ['eperlan', 'arc', 'en', 'ciel', 'cru'], ['eperlan', 'arc', 'en', 'ciel', 'cuit'], ['esturgeon', 'cru'], ['esturgeon', 'cuit'], ['filet', 'de', 'poisson', 'frit'], ['flet', 'cru'], ['flet', 'cuit'], ['fletan', 'du', 'groenland', 'cru'], ['fletan', 'du', 'groenland', 'cuit'], ['fletan', 'cru'], ['fletan', 'cuit'], ['hareng', 'cru'], ['hareng', 'cuit'], ['hareng', 'fum'], ['hoplosteth', 'orang', 'cru'], ['hoplosteth', 'orang', 'cuit'], ['julien', 'cru'], ['julien', 'cuit'], ['loquet', 'damer', 'cru'], ['loquet', 'damer', 'cuit'], ['lott', 'cru'], ['lott', 'cuit'], ['loup', 'de', 'mer', 'cru'], ['loup', 'de', 'mer', 'cuit'], ['maquereau', 'sal'], ['maquereau', 'cru'], ['maquereau', 'cuit'], ['medus', 'seche'], ['merou', 'cru'], ['merou', 'cuit'], ['moru', 'lingu', 'cru'], ['moru', 'lingu', 'cuit'], ['mulet', 'cru'], ['mulet', 'cuit'], ['nugget', 'de', 'saumon'], ['oeuf', 'de', 'poisson', 'crus'], ['oeuf', 'de', 'poisson', 'cuit'], ['poisson', 'lait', 'chanos', 'cru'], ['poisson', 'lait', 'chanos', 'cuit'], ['remor', 'cru'], ['remor', 'cuit'], ['requin', 'cru'], ['requin', 'cuit'], ['rondeau', 'mouton', 'cru'], ['rondeau', 'mouton', 'cuit'], ['sandwich', 'au', 'poisson'], ['sandwich', 'au', 'poisson', 'et', 'fromag'], ['saumon', 'argent', 'cru'], ['saumon', 'argent', 'cuit'], ['saumon', 'ket', 'cru'], ['saumon', 'ket', 'cuit'], ['saumon', 'ros', 'cru'], ['saumon', 'ros', 'cuit'], ['saumon', 'roug', 'cru'], ['saumon', 'roug', 'cuit'], ['saumon', 'royal', 'cru'], ['saumon', 'royal', 'cuit'], ['saumon', 'cru'], ['saumon', 'cuit'], ['sebast', 'du', 'pacif', 'cru'], ['sebast', 'du', 'pacif', 'cuit'], ['sebast', 'cru'], ['sebast', 'cuit'], ['spar', 'cru'], ['spar', 'cuit'], ['tambour', 'croc', 'cru'], ['tambour', 'croc', 'cuit'], ['truit', 'de', 'mer', 'cru'], ['truit', 'de', 'mer', 'cuit'], ['vivaneau', 'cru'], ['vivaneau', 'cuit'], ['tofu', 'azumai', 'vitasoy'], ['bacon', 'vegetarien'], ['poulet', 'vegetarien'], ['poulet', 'vegetarien', 'frit'], ['boulet', 'vegetarien'], ['pain', 'de', 'viand', 'vegetarien'], ['miso'], ['natt'], ['okar'], ['chip', 'de', 'soj'], ['farin', 'de', 'soj'], ['farin', 'de', 'soj', 'grille'], ['farin', 'de', 'soj', 'pauvr', 'en', 'matier', 'grass'], ['farin', 'de', 'soj', 'cru'], ['huil', 'de', 'soj'], ['concentr', 'de', 'protein', 'de', 'soj'], ['isolat', 'de', 'protein', 'de', 'soj'], ['sauc', 'soj'], ['lecithin', 'de', 'soj'], ['margarin', 'de', 'soj'], ['huil', 'de', 'soj', '17325'], ['fromag', 'de', 'soj'], ['grain', 'de', 'soj', 'vert', 'cuit'], ['grain', 'de', 'soj', 'vert', 'cru'], ['soj', 'cuit'], ['soj', 'grill', 'a', 'sec'], ['soj', 'cru'], ['germ', 'de', 'soj', 'cuit'], ['germ', 'de', 'soj', 'cru'], ['lait', 'de', 'soj'], ['tofu', 'lacto', 'ferment', 'bai', 'ros', 'sojam'], ['croc', 'tofou', 'aux', 'algu', 'soy'], ['sojasun', 'amand', 'noiset', 'sojasun'], ['yaourt', 'soj', 'natur', 'sojasun'], ['steak', 'de', 'soj', 'sojasun'], ['lait', 'de', 'soj', 'au', 'chocolat'], ['lait', 'de', 'soj', 'a', 'la', 'vanill'], ['vermicel', 'de', 'soj'], ['yaourt', 'au', 'tofu'], ['koyadofu'], ['tofu', 'frit'], ['tofu', 'cru'], ['tempeh'], ['tempeh', 'cuit'], ['lait', 'de', 'soj', 'pauvr', 'en', 'matier', 'grass'], ['lait', 'de', 'soj', 'san', 'matier', 'grass'], ['lait', 'de', 'soj', 'au', 'chocolat', 'san', 'matier', 'grass'], ['lait', 'de', 'soj', 'a', 'la', 'vanill', 'leg'], ['amar', 'cuit'], ['amar', 'cru'], ['orge', 'cuit'], ['orge', 'cru'], ['sarrasin', 'cru'], ['sarrasin', 'cuit'], ['boulgour', 'cuit'], ['boulgour', 'sec'], ['masset', 'quenouill'], ['riz', 'brun', 'souffl'], ['grain', 'de', 'coton', 'grille'], ['couscous', 'cuit'], ['couscous', 'sec'], ['kamut', 'cuit'], ['kamut', 'cru'], ['millet', 'cuit'], ['millet', 'souffl'], ['millet', 'cru'], ['son', 'davoin', 'cuit'], ['son', 'davoin', 'cru'], ['avoin'], ['mais', 'souffl'], ['pop', 'corn', 'au', 'caramel'], ['pop', 'corn', 'au', 'fromag'], ['pop', 'corn', 'au', 'micro', 'onde'], ['pop', 'corn', 'a', 'lhuil'], ['mais', 'a', 'eclat'], ['quino', 'cuit'], ['quino', 'sec'], ['son', 'de', 'riz'], ['pain', 'san', 'gluten', 'natur', 'ci'], ['cracott', 'rustiqu', 'was'], ['quinol', 'tomat', 'oliv', 'bjorg'], ['melang', '3', 'quino', 'carrefour'], ['galet', 'roquefort', 'seigl', 'noix', 'cerealp'], ['pain', 'de', 'mi', 'complet', 'san', 'crout', 'harry'], ['pan', 'vegetarien', 'tartex'], ['tartin', 'craqu', 'au', 'quino', 'le', 'pain', 'de', 'fleur'], ['coquillet', 'complet', 'bio', 'primeal'], ['belvit', 'le', 'moelleux', 'natur', 'lu'], ['pain', 'grill', 'au', 'froment', 'u'], ['craquott', 'craquott'], ['cereal', 'mediterranneen', 'tipiak'], ['biscuit', 'aux', 'raisin', 'gerbl'], ['special', 'k', 'chocolat', 'au', 'lait', 'kellogg'], ['ble', 'cuit', 'ebly'], ['cereal', 'fourr', 'au', 'chocolat', 'au', 'lait', 'crunch'], ['special', 'k', 'kellogg'], ['ble', 'complet', 'cuit'], ['ble', 'complet', 'sec'], ['germ', 'de', 'ble'], ['germ', 'de', 'ble', 'grill'], ['ble', 'dur'], ['ble', 'blanc'], ['ble', 'souffl'], ['ble', 'en', 'copeau'], ['ble', 'germ'], ['son', 'de', 'ble'], ['tritical'], ['teff', 'cru'], ['epeautr', 'cru'], ['epeautr', 'cuit'], ['seigl'], ['semoul'], ['sorgho'], ['teff', 'cuit'], ['frit'], ['pomm', 'de', 'terr', 'saute'], ['pomm', 'de', 'terr', 'allumet'], ['soup', 'epaiss', 'pomm', 'de', 'terr', 'jambon'], ['galet', 'de', 'pomm', 'de', 'terr'], ['bouche', 'aux', 'pomm', 'de', 'terr'], ['allumet', 'de', 'pomm', 'de', 'terr'], ['patat', 'au', 'four'], ['pomm', 'de', 'terr', 'cru'], ['pomm', 'de', 'terr', 'en', 'conserv'], ['pure', 'de', 'pomm', 'de', 'terr'], ['pomm', 'de', 'terr', 'cuit'], ['pomm', 'de', 'terr', 'saute', 'et', 'emince'], ['pure', 'de', 'pomm', 'de', 'terr', 'avec', 'lait', 'beurr'], ['peau', 'de', 'pomm', 'de', 'terr', 'cru'], ['pomm', 'de', 'terr', 'a', 'peau', 'roug', 'cuit'], ['pomm', 'de', 'terr', 'a', 'peau', 'roug', 'cru'], ['pomm', 'de', 'terr', 'russet', 'cuit'], ['pomm', 'de', 'terr', 'russet', 'cru'], ['pomm', 'de', 'terr', 'en', 'gratin'], ['adobo', 'fresco'], ['sauc', 'barbecu'], ['sauc', 'barbecu', 'bull', 'eye'], ['sauc', 'barbecu', 'kraft'], ['sauc', 'barbecu', 'mcdonald'], ['sauc', 'au', 'boeuf'], ['sauc', 'au', 'bleu', 'leger'], ['sauc', 'au', 'bleu'], ['ketchup'], ['sauc', 'au', 'fromag'], ['sauc', 'aux', 'piment', 'vert'], ['sauc', 'cocktail'], ['sirop', 'de', 'mais', 'fonc'], ['sirop', 'de', 'mais', 'leg'], ['sirop', 'de', 'canneberg', 'sucr'], ['sauc', 'a', 'lorang', 'aux', 'canneberg'], ['sauc', 'ranch', 'sauc', 'cremeux', 'mcdonald'], ['sauc', 'aigr', 'douc'], ['sauc', 'au', 'poisson'], ['vinaigret', '0'], ['vinaigret', 'allege'], ['vinaigret'], ['jus', 'de', 'viand'], ['sauc', 'brun', 'instantane'], ['sauc', 'brun', 'en', 'poudr'], ['sauc', 'au', 'boeuf', 'instantane'], ['sauc', 'a', 'la', 'dind', 'instantane'], ['sauc', 'en', 'poudr'], ['sauc', 'a', 'la', 'goyav', 'cuit'], ['sauc', 'hoisin'], ['ketchup', 'alleg', 'en', 'sucr', 'rustic'], ['sauc', 'a', 'salad', 'thomy'], ['sauc', 'brasil', 'la', 'william'], ['mayonnais', 'allege', 'carrefour'], ['sauc', 'hollandais', 'la', 'ptit', 'sauc'], ['pesto', 'rosso', 'barilll'], ['sauc', 'au', 'poivr'], ['sauc', 'worcestershir'], ['vinaigr'], ['vinaigr', 'de', 'vin', 'roug'], ['vinaigr', 'balsam'], ['vinaigr', 'de', 'cidr'], ['sauc', 'pour', 'dind', 'en', 'poudr'], ['sauc', 'tomat', 'herb', 'aromat', 'fromag'], ['sauc', 'tomat', 'aux', 'champignon'], ['sauc', 'tomat', 'aux', 'oignon'], ['sauc', 'chil', 'a', 'la', 'tomat'], ['sauc', 'tomat'], ['sauc', 'tomat', 'a', 'lespagnol'], ['sauc', 'teriyak'], ['sauc', 'tartar'], ['sirop', 'derabl'], ['sirop', 'de', 'sorgho'], ['sirop', 'derabl', 'canadien'], ['grenadin'], ['sirop', 'dorg', 'malt'], ['sauc', 'aigr', 'douc', '17430'], ['sauc', 'aigr', 'douc', 'mcdonald'], ['sauc', 'au', 'steak'], ['vinaigret', 'en', 'spray'], ['assaison', 'au', 'lait', 'ferment'], ['assaison', 'au', 'roquefort'], ['assaison', 'bacon', 'tomat'], ['assaison', 'sucr', 'sal'], ['conf', 'de', 'cornichon'], ['fauss', 'mayonnais', '0'], ['mayonnais', 'leger'], ['mel'], ['raifort'], ['sals', 'con', 'queso'], ['sals', 'verd', 'sauc', 'vert'], ['sauc', 'a', 'pizz'], ['sauc', 'au', 'poivr', 'de', 'cayen'], ['sauc', 'au', 'porc', 'en', 'poudr'], ['sauc', 'au', 'tabasco'], ['sauc', 'au', 'vinaigr', 'a', 'lhuil'], ['sauc', 'aux', 'champignon'], ['sauc', 'aux', 'huitr'], ['sauc', 'aux', 'oignon', 'en', 'poudr'], ['sauc', 'aux', 'piment', 'roug'], ['sauc', 'aux', 'prun'], ['sauc', 'blanch'], ['sauc', 'green', 'goddess'], ['sauc', 'marinar'], ['sauc', 'mayonnais'], ['sauc', 'sals'], ['sirop', 'de', 'nanc'], ['sirop', 'pour', 'pancak'], ['sofreg'], ['vinaigret', 'a', 'la', 'crem', 'sur'], ['vinaigret', 'au', 'miel', 'et', 'a', 'la', 'moutard'], ['vinaigret', 'au', 'miel', 'et', 'a', 'la', 'moutard', '0'], ['vinaigret', 'aux', 'grain', 'de', 'pavot'], ['vinaigret', 'cesar'], ['vinaigret', 'cesar', 'bass', 'calor'], ['vinaigret', 'italien'], ['vinaigret', 'italien', '0'], ['vinaigret', 'pour', 'chou', 'en', 'salad'], ['vinaigret', 'pour', 'salad', 'de', 'choux', 'cru', 'allege'], ['vinaigret', 'ranch'], ['vinaigret', 'ranch', 'allege'], ['vinaigret', 'ranch', 'san', 'matier', 'grass'], ['tournedos'], ['bacon'], ['pain', 'de', 'viand', 'sauc', 'barbecu'], ['chicken', 'nugget'], ['steak', 'de', 'poulet', 'pour', 'hamburg'], ['salad', 'de', 'jambon'], ['sour', 'dagneau', 'cuit'], ['sour', 'dagneau', 'cru'], ['viand', 'dagneau', 'cuit'], ['viand', 'dagneau', 'cru'], ['viand', 'dagneau', 'rot'], ['jarret', 'dagneau', 'cru'], ['surlong', 'dagneau', 'cuit'], ['surlong', 'dagneau', 'cru'], ['gigot', 'dagneau', 'cuit'], ['gigot', 'dagneau', 'cru'], ['long', 'dagneau', 'cuit'], ['long', 'dagneau', 'cru'], ['cot', 'dagneau', 'cuit'], ['cot', 'dagneau', 'cru'], ['epaul', 'dagneau', 'cuit'], ['epaul', 'dagneau', 'cru'], ['viand', 'dagneau', 'hache', 'cuit'], ['viand', 'dagneau', 'hache', 'cru'], ['substitut', 'de', 'viand'], ['mouton', 'cuit'], ['salad', 'de', 'volaill'], ['steak', 'de', 'sauc', 'mcdonald'], ['rot', 'hach']]\n"
     ]
    }
   ],
   "source": [
    "liste_racines=[]\n",
    "for elem in dict:\n",
    "    racines=[]\n",
    "    liste_racines.append(racines)\n",
    "    for word in elem:\n",
    "        toadd=word.replace(word,stemmer.stem(word))\n",
    "        racines.append(toadd)\n",
    "\n",
    "print(liste_racines)"
   ]
  },
  {
   "cell_type": "code",
   "execution_count": 41,
   "metadata": {},
   "outputs": [],
   "source": [
    "def match_outcome_with_list(ingredient):\n",
    "    sentence=clean_text(ingredient)\n",
    "    output=lemmatize_ntlk(sentence)\n",
    "    count=0\n",
    "    closest_match=[]\n",
    "    for elem in liste_racines:\n",
    "        increment=0\n",
    "        for token in elem:\n",
    "            if token in output:\n",
    "                #intégrer le token si la distance est inférieure à 1 et le ratio supérieur à ...%\n",
    "                increment+=1\n",
    "                if count<=increment:\n",
    "                    count=increment\n",
    "                    closest_match=elem\n",
    "    if count == 0:\n",
    "        return ['ingredient non trouve']\n",
    "    #return dict[liste_racines.index(closest_match)]\n",
    "    return my_file.loc[liste_racines.index(closest_match)].Aliment"
   ]
  },
  {
   "cell_type": "code",
   "execution_count": 43,
   "metadata": {},
   "outputs": [
    {
     "data": {
      "text/plain": [
       "'artichaut-cru'"
      ]
     },
     "metadata": {},
     "output_type": "display_data"
    }
   ],
   "source": [
    "display(match_outcome_with_list('artichaut'))"
   ]
  },
  {
   "cell_type": "markdown",
   "metadata": {},
   "source": [
    "#### b) Database conversion"
   ]
  },
  {
   "cell_type": "code",
   "execution_count": 46,
   "metadata": {},
   "outputs": [
    {
     "data": {
      "text/html": [
       "<div>\n",
       "<style scoped>\n",
       "    .dataframe tbody tr th:only-of-type {\n",
       "        vertical-align: middle;\n",
       "    }\n",
       "\n",
       "    .dataframe tbody tr th {\n",
       "        vertical-align: top;\n",
       "    }\n",
       "\n",
       "    .dataframe thead th {\n",
       "        text-align: right;\n",
       "    }\n",
       "</style>\n",
       "<table border=\"1\" class=\"dataframe\">\n",
       "  <thead>\n",
       "    <tr style=\"text-align: right;\">\n",
       "      <th></th>\n",
       "      <th>Unnamed: 0</th>\n",
       "      <th>Aliment</th>\n",
       "      <th>Poids</th>\n",
       "    </tr>\n",
       "  </thead>\n",
       "  <tbody>\n",
       "    <tr>\n",
       "      <th>0</th>\n",
       "      <td>0</td>\n",
       "      <td>'Ail tête'</td>\n",
       "      <td>0,080</td>\n",
       "    </tr>\n",
       "    <tr>\n",
       "      <th>1</th>\n",
       "      <td>0</td>\n",
       "      <td>'Ail gousse'</td>\n",
       "      <td>0,007</td>\n",
       "    </tr>\n",
       "    <tr>\n",
       "      <th>2</th>\n",
       "      <td>0</td>\n",
       "      <td>'Artichaut Camus'</td>\n",
       "      <td>0,350</td>\n",
       "    </tr>\n",
       "    <tr>\n",
       "      <th>3</th>\n",
       "      <td>0</td>\n",
       "      <td>'Artichaut Castel'</td>\n",
       "      <td>0,500</td>\n",
       "    </tr>\n",
       "    <tr>\n",
       "      <th>4</th>\n",
       "      <td>0</td>\n",
       "      <td>'Artichaut Poivrade'</td>\n",
       "      <td>0,060</td>\n",
       "    </tr>\n",
       "  </tbody>\n",
       "</table>\n",
       "</div>"
      ],
      "text/plain": [
       "   Unnamed: 0               Aliment  Poids\n",
       "0           0            'Ail tête'  0,080\n",
       "1           0          'Ail gousse'  0,007\n",
       "2           0     'Artichaut Camus'  0,350\n",
       "3           0    'Artichaut Castel'  0,500\n",
       "4           0  'Artichaut Poivrade'  0,060"
      ]
     },
     "metadata": {},
     "output_type": "display_data"
    }
   ],
   "source": [
    "data_convert= pd.read_csv('data_convert.csv')\n",
    "display(data_convert.head())"
   ]
  },
  {
   "cell_type": "code",
   "execution_count": 47,
   "metadata": {},
   "outputs": [],
   "source": [
    "def supp_vide(x):\n",
    "    final = []\n",
    "    for elem in x:\n",
    "        if elem:\n",
    "            final.append(elem)\n",
    "    return final\n",
    "\n",
    "def supp_vec(x):\n",
    "    if x[-1] in ['p','t','g']:\n",
    "        return True\n",
    "    else:\n",
    "        return False      \n",
    "\n",
    "def supp_m(x):\n",
    "    if x[-1] == 'm':\n",
    "        return x[:-1]\n",
    "    else:\n",
    "        return x\n",
    "\n",
    "def suppr_accent(x):\n",
    "    output=[]\n",
    "    for token in x:\n",
    "        new=unidecode(token)\n",
    "        output.append(new)\n",
    "    return output"
   ]
  },
  {
   "cell_type": "code",
   "execution_count": 48,
   "metadata": {},
   "outputs": [
    {
     "name": "stdout",
     "output_type": "stream",
     "text": [
      "[['ail', 'tet'], ['ail', 'gouss'], ['artichaut', 'camus'], ['artichaut', 'castel'], ['artichaut', 'poivrad'], ['artichaut', 'violet'], ['asperg'], ['aubergin', 'p'], ['aubergin', 'm'], ['aubergin', 'g+'], ['carott'], ['celeri-rav'], ['chou-fleur'], ['chou', 'vert'], ['concombr'], ['courget', 'p'], ['courget', 'm', '.'], ['courget', 'g', '.'], ['cresson', '(', 'bott', ')'], ['echalot', 'p'], ['echalot', 'm'], ['laitu'], ['navet', 'long'], ['navet', 'rond', 'p'], ['navet', 'rond', 'm'], ['navet', 'rond', 'g'], ['navet', 'rond', 't'], ['oignon', 'm'], ['oignon', 'g'], ['oignon', 't'], ['poireau'], ['poivron', 'p'], ['poivron', 'm'], ['poivron', 'g'], ['poivron', 't'], ['pomm', 'de', 'terr', 'g'], ['pomm', 'de', 'terr', 'm'], ['pomm', 'de', 'terr', 'p'], ['tomat', 'g'], ['tomat', 'p'], ['oeuf']]\n"
     ]
    }
   ],
   "source": [
    "simplify_data= []\n",
    "for token in data_convert.Aliment:\n",
    "    lo=clean_text(token)\n",
    "    bo=lo.replace(\"'\",\" \")\n",
    "    rt=lemmatize_ntlk(bo)\n",
    "    rp=suppr_accent(rt)\n",
    "    simplify_data.append(rp)\n",
    "\n",
    "print(simplify_data)"
   ]
  },
  {
   "cell_type": "code",
   "execution_count": 49,
   "metadata": {},
   "outputs": [
    {
     "name": "stdout",
     "output_type": "stream",
     "text": [
      "0,350\n"
     ]
    }
   ],
   "source": [
    "def find_weight_in_df(aliment):\n",
    "    aliment = clean_text(aliment)\n",
    "    count=0\n",
    "    closest_match=[]\n",
    "    for elem in simplify_data:\n",
    "        increment=0\n",
    "        for token in elem:\n",
    "            if token in aliment:\n",
    "                increment+=1\n",
    "                if count<increment and elem[-1] not in ['p','t','g']:\n",
    "                    count=increment\n",
    "                    closest_match=elem\n",
    "    if count==0:\n",
    "        return ['ingredient non trouve']\n",
    "    return data_convert.Poids[simplify_data.index(closest_match)]\n",
    "\n",
    "print(find_weight_in_df('Artichaut'))"
   ]
  },
  {
   "cell_type": "markdown",
   "metadata": {},
   "source": [
    "## 4) Fonction finale"
   ]
  },
  {
   "cell_type": "code",
   "execution_count": 50,
   "metadata": {},
   "outputs": [
    {
     "name": "stdout",
     "output_type": "stream",
     "text": [
      "0.35\n"
     ]
    }
   ],
   "source": [
    "def float_weight(caracter):\n",
    "    return float(find_weight_in_df(caracter)[:1])+float(find_weight_in_df(caracter)[2:])/1000\n",
    "\n",
    "print(float_weight('Artichaut'))"
   ]
  },
  {
   "cell_type": "code",
   "execution_count": 51,
   "metadata": {},
   "outputs": [],
   "source": [
    "tab_final = my_file"
   ]
  },
  {
   "cell_type": "code",
   "execution_count": 52,
   "metadata": {},
   "outputs": [],
   "source": [
    "def getmacro(name_entered,quant,boolgram,boolunit):  #les 4 paramètres rentrés pour chaque ingrédient dans l'interface\n",
    "    if match_outcome_with_list(name_entered) != ['ingredient non trouve']:\n",
    "        name_yazio = match_outcome_with_list(name_entered)\n",
    "        if boolgram == True :\n",
    "            x = quant/100\n",
    "        \n",
    "        elif boolunit == True :\n",
    "            if find_weight_in_df(name_entered) != ['ingredient non trouve']:\n",
    "                quantgram = float_weight(name_entered)*quant\n",
    "                x = quantgram/100\n",
    "            else :\n",
    "                return \"poids de l'aliment inconnu\"   \n",
    "        kcalo = float(tab_final.Kcalories[tab_final.Aliment == name_yazio])\n",
    "        glucid = float(tab_final.Glucides[tab_final.Aliment == name_yazio])\n",
    "        prot = float(tab_final.Protéines[tab_final.Aliment == name_yazio])\n",
    "        lip = float(tab_final.Lipides[tab_final.Aliment == name_yazio])\n",
    "        macro = [x*kcalo,x*glucid, x*prot, x*lip]\n",
    "        \n",
    "        return 'Kcalories = ' + str(round(macro[0],2)) + ', Glucides = ' + str(round(macro[1],2)) + ', Protéines = ' + str(round(macro[2],2)) + ', Lipides =' + str(round(macro[3],2)) \n",
    "\n",
    "    else : \n",
    "        return 'ingrédient non répértorié dans la base'"
   ]
  },
  {
   "cell_type": "code",
   "execution_count": 53,
   "metadata": {},
   "outputs": [
    {
     "name": "stdout",
     "output_type": "stream",
     "text": [
      "Kcalories = 2.02, Glucides = 0.21, Protéines = 0.01, Lipides =0.12\n",
      "poids de l'aliment inconnu\n",
      "ingrédient non répértorié dans la base\n"
     ]
    }
   ],
   "source": [
    "print(getmacro('Lait',1,True,False))\n",
    "print(getmacro('Lait',1,False,True))\n",
    "print(getmacro('Dzdoijzid',1,False,True))"
   ]
  },
  {
   "cell_type": "markdown",
   "metadata": {},
   "source": [
    "## 5) Interface "
   ]
  },
  {
   "cell_type": "code",
   "execution_count": 55,
   "metadata": {},
   "outputs": [
    {
     "data": {
      "text/plain": [
       "0"
      ]
     },
     "execution_count": 55,
     "metadata": {},
     "output_type": "execute_result"
    }
   ],
   "source": [
    "#Une fois la cellule lancée, l'interface s'ouvre sur votre Bureau (en tout cas pour les Macbooks)\n",
    "\n",
    "import sys\n",
    "from PyQt5.QtWidgets import QApplication, QWidget, QLabel, QPushButton, QGridLayout, QVBoxLayout, QDialog, QLineEdit, QCheckBox\n",
    "\n",
    "class Interface(QDialog):\n",
    "    def __init__(self, parent=None):\n",
    "        QDialog.__init__(self,parent)\n",
    "        \n",
    "        #Labels ingrédients\n",
    "        self.__label1 = QLabel(\"Ingrédient 1\")\n",
    "        \n",
    "        #Ingrédients à remplir\n",
    "        self.__ingredient1 = QLineEdit(\"Ingredient\")\n",
    "        \n",
    "        #Quantités à remplir\n",
    "        self.__quant1 = QLineEdit(\"Quantite 1\") #on peut aussi utiliser QSpinBox ou QDoubleSpinBox pour forcer à rentrer des nb entiers ou avec des décimales\n",
    "        \n",
    "        #Unité à remplir\n",
    "        self.__gram1 = QCheckBox(\"En gramme\")\n",
    "        self.__unit1 = QCheckBox(\"En unité\")\n",
    "        \n",
    "        #Boutons\n",
    "        self.__boutonQuit = QPushButton(\"Quitter\")\n",
    "        self.__boutonGet = QPushButton(\"Obtenir les macro-nutriments\")\n",
    "        \n",
    "        #La réponse\n",
    "        self.__label = QLabel(\"Résultat:\")\n",
    "        self.__reponse = QLineEdit(\"\")\n",
    "\n",
    "        #Geometrie de l'interface\n",
    "        layout = QGridLayout()\n",
    "        layout.addWidget(self.__label1,0,0)\n",
    "        layout.addWidget(self.__ingredient1,0,1)\n",
    "        layout.addWidget(self.__quant1,0,2)\n",
    "        layout.addWidget(self.__gram1,0,3)\n",
    "        layout.addWidget(self.__unit1,0,4)\n",
    "        layout.addWidget(self.__boutonQuit,1,1)\n",
    "        layout.addWidget(self.__boutonGet,1,2)\n",
    "        layout.addWidget(self.__label,2,1)\n",
    "        layout.addWidget(self.__reponse,2,2)\n",
    "        \n",
    "        self.setLayout(layout)\n",
    "        self.setWindowTitle(\"Combien de macro-nutriments dans votre recette ?\")\n",
    "        \n",
    "        #Rendre nos actions compréhensibles par l'interface et utilisables dans la fonction 'get'\n",
    "        self.__gram1.setChecked(True)\n",
    "        self.__boutonQuit.clicked.connect(self.quit)\n",
    "        self.__boutonGet.clicked.connect(self.get)\n",
    "        \n",
    "        #On définit les fonctions qui permettent de quitter l'interface ou d'executer notre algo\n",
    "    def quit(self):\n",
    "        self.accept()\n",
    "    def get(self):\n",
    "        print(\"clique sur macro\")\n",
    "        name1 = self.__ingredient1.text()\n",
    "        quant1 = float(self.__quant1.text())\n",
    "        boolgram1 = self.__gram1.isChecked()\n",
    "        boolunit1 = self.__unit1.isChecked()\n",
    "        print(name1,quant1,boolgram1,boolunit1)\n",
    "        macro1 = getmacro(name1,quant1,boolgram1,boolunit1) #on utilise la fonction macro qu'on aura créé qui renvoie pour les macros pour un ingrédients\n",
    "        self.__reponse.setText(macro1)\n",
    "        \n",
    "app = QApplication.instance() \n",
    "if not app:\n",
    "    app = QApplication(sys.argv)\n",
    "    \n",
    "fen = Interface()\n",
    "fen.show()\n",
    "\n",
    "app.exec_()"
   ]
  },
  {
   "cell_type": "code",
   "execution_count": null,
   "metadata": {},
   "outputs": [],
   "source": []
  },
  {
   "cell_type": "code",
   "execution_count": null,
   "metadata": {},
   "outputs": [],
   "source": []
  }
 ],
 "metadata": {
  "kernelspec": {
   "display_name": "Python 3",
   "language": "python",
   "name": "python3"
  },
  "language_info": {
   "codemirror_mode": {
    "name": "ipython",
    "version": 3
   },
   "file_extension": ".py",
   "mimetype": "text/x-python",
   "name": "python",
   "nbconvert_exporter": "python",
   "pygments_lexer": "ipython3",
   "version": "3.7.3"
  }
 },
 "nbformat": 4,
 "nbformat_minor": 2
}
