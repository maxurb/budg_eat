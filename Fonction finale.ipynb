{
 "cells": [
  {
   "cell_type": "markdown",
   "metadata": {},
   "source": [
    "## Création de la fonction finale\n",
    "\n",
    "Cette fonction finale que l'on cherche ici est la fonction qui va prendre en entrée les paramètres de l'aliment et renvoyer les macronutriments. \n",
    "\n",
    "Les paramètres que nous prenons en compte sont : \n",
    "- Nom de l'aliment (non formaté comme dans notre base de donnée)\n",
    "- Poids\n",
    "- Unité"
   ]
  },
  {
   "cell_type": "markdown",
   "metadata": {},
   "source": [
    "On commence par rédiger une fonction qui va être nécessaire pour utiliser la base de donnée de conversion créée auparavant. \n",
    "\n",
    "Dans la partie NLP, on a créé la fonction find_weight_in_df qui renvoie le poids d'un aliment si celui-ci est répértorié dans notre base de conversion. \n",
    "Mais les poids sont répértoriés comme des mots (ex : '3,45') et nous souhaitons des nombres (ex : 3.45). D'où l'utilité de cette fonction float_weight. "
   ]
  },
  {
   "cell_type": "code",
   "execution_count": null,
   "metadata": {},
   "outputs": [],
   "source": [
    "def float_weight(caracter):\n",
    "    return float(find_weight_in_df(caracter)[:1])+float(find_weight_in_df(caracter)[2:])/1000\n",
    "\n",
    "print(float_weight('Artichaut'))"
   ]
  },
  {
   "cell_type": "markdown",
   "metadata": {},
   "source": [
    "Nous pouvons enfin rédiger notre fonction finale. \n",
    "\n",
    "Description : \n",
    "- on commence par observer si le nom de l'aliment correspond bien à un ingrédient dans notre base de donnée Yazio grâce à un traitement NLP\n",
    "- on observe si la quantité d'ingrédient a été exprimée en gramme ou en unité:\n",
    "    - si c'est en gramme alors on divise par 100 car notre base de donnée renvoie les macronutriments pour 100g\n",
    "    - si c'est en unité alors il faut le convertir en gramme. \n",
    "        - on regarde si l'ingrédient est bien dans notre base de donnée de conversion\n",
    "        - on récupère le poids normé de l'ingrédient\n",
    "        - on calcule le poids en gramme en fonction du nombre d'unités\n",
    "        - on divise par 100 pour la même raison que précédemment. \n",
    "    - on obtient dans tous les cas la variable x \n",
    "- on recherche dans notre base de données Yazio les macronutriments de cet aliment\n",
    "- on crée un vecteur macro contenant les macronutriments de l'ingrédient en fonction de son poids\n",
    "- on renvoie une phrase de conclusion\n"
   ]
  },
  {
   "cell_type": "code",
   "execution_count": null,
   "metadata": {},
   "outputs": [],
   "source": [
    "tab_final = my_file\n",
    "\n",
    "def getmacro(name_entered,quant,boolgram,boolunit):  #les 4 paramètres rentrés pour chaque ingrédient dans l'interface\n",
    "    if match_outcome_with_list(name_entered) != ['ingredient non trouve']:\n",
    "        name_yazio = match_outcome_with_list(name_entered)\n",
    "        if boolgram == True :\n",
    "            x = quant/100\n",
    "        \n",
    "        elif boolunit == True :\n",
    "            if find_weight_in_df(name_entered) != ['ingredient non trouve']:\n",
    "                quantgram = float_weight(name_entered)*quant\n",
    "                x = quantgram/100\n",
    "            else :\n",
    "                return \"poids de l'aliment inconnu\"   \n",
    "        kcalo = float(tab_final.Kcalories[tab_final.Aliment == name_yazio])\n",
    "        glucid = float(tab_final.Glucides[tab_final.Aliment == name_yazio])\n",
    "        prot = float(tab_final.Protéines[tab_final.Aliment == name_yazio])\n",
    "        lip = float(tab_final.Lipides[tab_final.Aliment == name_yazio])\n",
    "        macro = [x*kcalo,x*glucid, x*prot, x*lip]\n",
    "        \n",
    "        return 'Kcalories = ' + str(round(macro[0],2)) + ', Glucides = ' + str(round(macro[1],2)) + ', Protéines = ' + str(round(macro[2],2)) + ', Lipides =' + str(round(macro[3],2)) \n",
    "\n",
    "    else : \n",
    "        return 'ingrédient non répértorié dans la base'"
   ]
  }
 ],
 "metadata": {
  "kernelspec": {
   "display_name": "Python 3",
   "language": "python",
   "name": "python3"
  },
  "language_info": {
   "codemirror_mode": {
    "name": "ipython",
    "version": 3
   },
   "file_extension": ".py",
   "mimetype": "text/x-python",
   "name": "python",
   "nbconvert_exporter": "python",
   "pygments_lexer": "ipython3",
   "version": "3.7.3"
  }
 },
 "nbformat": 4,
 "nbformat_minor": 2
}
