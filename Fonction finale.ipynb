{
 "cells": [
  {
   "cell_type": "markdown",
   "metadata": {},
   "source": [
    "### Création d'une fonction finale qui permet de relier les infos données par l'utilisateur avec notre database "
   ]
  },
  {
   "cell_type": "code",
   "execution_count": 2,
   "metadata": {},
   "outputs": [],
   "source": [
    "def getmacro(name,quant,boolgram,boolunit):  #les 4 paramètres rentrés pour chaque ingrédient dans l'interface\n",
    "    if boolgram == True :\n",
    "        x = quant/100\n",
    "        macro = [x*float(tab_final.Kcalories[name]),x*float(tab_final.Glucides[name]),x*float(tab_final.Protéines[name]),x*float(tab_final.Lipides[name])]\n",
    "    elif boolunit == True : \n",
    "        quantgram = data_convert.gramme(name)*quant #on s'appuie sur un dataframe dfconvert\n",
    "        x = quantgram/100\n",
    "    macro = [x*float(tab_final.Kcalories[name]),x*float(tab_final.Glucides[name]),x*float(tab_final.Protéines[name]),x*float(tab_final.Lipides[name])]    \n",
    "    return macro"
   ]
  },
  {
   "cell_type": "code",
   "execution_count": null,
   "metadata": {},
   "outputs": [],
   "source": []
  }
 ],
 "metadata": {
  "kernelspec": {
   "display_name": "Python 3",
   "language": "python",
   "name": "python3"
  },
  "language_info": {
   "codemirror_mode": {
    "name": "ipython",
    "version": 3
   },
   "file_extension": ".py",
   "mimetype": "text/x-python",
   "name": "python",
   "nbconvert_exporter": "python",
   "pygments_lexer": "ipython3",
   "version": "3.8.8"
  }
 },
 "nbformat": 4,
 "nbformat_minor": 2
}
