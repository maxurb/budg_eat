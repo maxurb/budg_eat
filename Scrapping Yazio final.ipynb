{
 "cells": [
  {
   "cell_type": "code",
   "execution_count": 1,
   "metadata": {},
   "outputs": [],
   "source": [
    "import urllib\n",
    "import bs4\n",
    "import pandas\n",
    "import numpy as np\n",
    "from urllib import request\n",
    "import requests"
   ]
  },
  {
   "cell_type": "markdown",
   "metadata": {},
   "source": [
    "### Scrapping de la page Yazio \n",
    "\n",
    "On commence notre travail de scrapping de la page yazio qui est en open data. \n",
    "On utilise pour cela l'outil BeautifulSoup qui rend le contenu html lisible. \n",
    "La page que nous scrappons est une interface présentant plusieurs catégories d'aliments (boissons, boissons alcoolisées, fruits...). \n",
    "Dès qu'on clique sur une catégorie, on a accès à des sous-catégories. \n",
    "Dès qu'on clique sur une sous-catégorie, on a accès à de nombreux aliments. \n",
    "Lorsqu'on clique sur ces aliments, on obtient ses macro-nutriments. \n",
    "Ce sont ces macro-nutriments que nous souhaitons récolter in fine sur une database. "
   ]
  },
  {
   "cell_type": "code",
   "execution_count": 34,
   "metadata": {},
   "outputs": [],
   "source": [
    "yaziopage = requests.get(\"https://www.yazio.com/fr/aliments\")"
   ]
  },
  {
   "cell_type": "code",
   "execution_count": 35,
   "metadata": {},
   "outputs": [],
   "source": [
    "clean_yazio_page = bs4.BeautifulSoup(yaziopage.content, \"lxml\")"
   ]
  },
  {
   "cell_type": "markdown",
   "metadata": {},
   "source": [
    "On observe comment l'écriture du site est réalisé, afin de voir comment récupérer les liens vers lesquels nous sommes redirigés lorsqu'on clique sur une catégorie d'aliment. "
   ]
  },
  {
   "cell_type": "code",
   "execution_count": 40,
   "metadata": {},
   "outputs": [
    {
     "name": "stdout",
     "output_type": "stream",
     "text": [
      "<a class=\"position-relative text-decoration-none\" href=\"https://www.yazio.com/fr/aliments/boissons-alcoolisees\" title=\"Boissons alcoolisées\">\n",
      "<picture data-alt=\"Boissons alcoolisées\" data-default-src=\"https://images.yazio.com/drinksalcoholic.jpg?w=156&amp;h=88&amp;cf\">\n",
      "<source srcset=\"https://images.yazio.com/drinksalcoholic.jpg?w=156&amp;h=88&amp;cf,\n",
      "                                https://images.yazio.com/drinksalcoholic.jpg?w=312&amp;h=176&amp;cf 2x\">\n",
      "<img alt=\"Boissons alcoolisées\" class=\"br-12\" src=\"https://images.yazio.com/drinksalcoholic.jpg?w=312&amp;h=176&amp;cf\" title=\"Boissons alcoolisées\"/>\n",
      "</source></picture>\n",
      "<div class=\"mt-8 text-left\">\n",
      "<span class=\"textlink light\">Boissons alcoolisées</span>\n",
      "</div>\n",
      "</a>\n",
      "<a class=\"position-relative text-decoration-none\" href=\"https://www.yazio.com/fr/aliments/boissons-non-alcoolisees\" title=\"Boissons non-alcoolisées\">\n",
      "<picture data-alt=\"Boissons non-alcoolisées\" data-default-src=\"https://images.yazio.com/drinksnonalcoholic.jpg?w=156&amp;h=88&amp;cf\">\n",
      "<source srcset=\"https://images.yazio.com/drinksnonalcoholic.jpg?w=156&amp;h=88&amp;cf,\n",
      "                                https://images.yazio.com/drinksnonalcoholic.jpg?w=312&amp;h=176&amp;cf 2x\">\n",
      "<img alt=\"Boissons non-alcoolisées\" class=\"br-12\" src=\"https://images.yazio.com/drinksnonalcoholic.jpg?w=312&amp;h=176&amp;cf\" title=\"Boissons non-alcoolisées\"/>\n",
      "</source></picture>\n",
      "<div class=\"mt-8 text-left\">\n",
      "<span class=\"textlink light\">Boissons non-alcoolisées</span>\n",
      "</div>\n",
      "</a>\n"
     ]
    }
   ],
   "source": [
    "# Récupération des liens pour chaque catégorie\n",
    "\n",
    "elem = clean_yazio_page.findAll(\"a\",{\"class\": \"position-relative text-decoration-none\"})\n",
    "\n",
    "for element in range(2):\n",
    "    print(elem[element])"
   ]
  },
  {
   "cell_type": "markdown",
   "metadata": {},
   "source": [
    "Par exemple ici, lorsqu'on clique sur la catégorie 'Boissons alcoolisées', on est redirigé vers le lien https://images.yazio.com/drinksalcoholic.jpg?w=312&amp;h=176&amp;cf . \n",
    "On souhaite récupérer ce lien. "
   ]
  },
  {
   "cell_type": "markdown",
   "metadata": {},
   "source": [
    "On s'interroge sur le nombre de catégories sur l'interface: "
   ]
  },
  {
   "cell_type": "code",
   "execution_count": 48,
   "metadata": {},
   "outputs": [
    {
     "name": "stdout",
     "output_type": "stream",
     "text": [
      "Le nombre de catégories d'aliments est de 26\n"
     ]
    }
   ],
   "source": [
    "print(\"Le nombre de catégories d'aliments est de \" + str(len(clean_yazio_page.findAll(\"a\",{\"class\": \"position-relative text-decoration-none\"}))))\n"
   ]
  },
  {
   "cell_type": "markdown",
   "metadata": {},
   "source": [
    "On crée une fonction qui nous renvoie les liens pour une certaine catégorie en input."
   ]
  },
  {
   "cell_type": "code",
   "execution_count": 50,
   "metadata": {},
   "outputs": [],
   "source": [
    "links = clean_yazio_page.findAll(\"a\",{\"class\": \"position-relative text-decoration-none\"})\n",
    "\n",
    "def get_page(category):\n",
    "    for i in links : \n",
    "        link = i.get(\"title\")\n",
    "        if link.lower() == category:\n",
    "            return i.get(\"href\")"
   ]
  },
  {
   "cell_type": "markdown",
   "metadata": {},
   "source": [
    "Test de la fonction avec la catégorie \"Divers\""
   ]
  },
  {
   "cell_type": "code",
   "execution_count": 51,
   "metadata": {},
   "outputs": [
    {
     "name": "stdout",
     "output_type": "stream",
     "text": [
      "https://www.yazio.com/fr/aliments/divers\n"
     ]
    }
   ],
   "source": [
    "print(get_page(\"divers\"))"
   ]
  },
  {
   "cell_type": "markdown",
   "metadata": {},
   "source": [
    "On veut maintenant avancer d'un niveau dans le site, et récupérer les liens des sous-catégories (en tout il y a 3 niveaux dans le site et donc 3 types de liens). "
   ]
  },
  {
   "cell_type": "code",
   "execution_count": 54,
   "metadata": {},
   "outputs": [
    {
     "name": "stdout",
     "output_type": "stream",
     "text": [
      "Boissons alcoolisées https://www.yazio.com/fr/aliments/boissons-alcoolisees\n",
      "Boissons non-alcoolisées https://www.yazio.com/fr/aliments/boissons-non-alcoolisees\n",
      "Divers https://www.yazio.com/fr/aliments/divers\n",
      "Fast food https://www.yazio.com/fr/aliments/fast-food\n",
      "Fines herbes et épices https://www.yazio.com/fr/aliments/fines-herbes-epices\n",
      "Friandises https://www.yazio.com/fr/aliments/friandises\n",
      "Fromage https://www.yazio.com/fr/aliments/fromage\n",
      "Fruits https://www.yazio.com/fr/aliments/fruits\n",
      "Gâteaux et tartes https://www.yazio.com/fr/aliments/gateaux-tartes\n",
      "Huiles et matières grasses https://www.yazio.com/fr/aliments/huiles-matieres-grasses\n",
      "Ingrédients pour la pâtisserie https://www.yazio.com/fr/aliments/ingredients-patisserie\n",
      "Lait et produits laitiers https://www.yazio.com/fr/aliments/lait-produits-laitiers\n",
      "Légumes https://www.yazio.com/fr/aliments/legumes\n",
      "Légumineuses https://www.yazio.com/fr/aliments/legumineuses\n",
      "Muesli, flocons d'avoine et céréales https://www.yazio.com/fr/aliments/muesli-flocons-davoine-cereales\n",
      "Noix et graines https://www.yazio.com/fr/aliments/noix-graines\n",
      "Pâte à tartiner et confiture https://www.yazio.com/fr/aliments/pate-tartiner-confiture\n",
      "Pâtes et nouilles https://www.yazio.com/fr/aliments/pates-nouilles\n",
      "Pâtisseries et viennoiseries https://www.yazio.com/fr/aliments/patisseries-viennoiseries\n",
      "Plats https://www.yazio.com/fr/aliments/plats\n",
      "Poisson https://www.yazio.com/fr/aliments/poisson\n",
      "Produits à base de soja https://www.yazio.com/fr/aliments/produits-base-soja\n",
      "Produits céréaliers https://www.yazio.com/fr/aliments/produits-cerealiers\n",
      "Produits de pommes de terre https://www.yazio.com/fr/aliments/produits-pommes-terre\n",
      "Sauces et vinaigrettes https://www.yazio.com/fr/aliments/sauces-vinaigrettes\n",
      "Viande https://www.yazio.com/fr/aliments/viande\n"
     ]
    }
   ],
   "source": [
    "rows = clean_yazio_page.findAll(\"a\",{\"class\": \"position-relative text-decoration-none\"})\n",
    "A = np.zeros((26,2))\n",
    "a = 0\n",
    "for i in links : \n",
    "    print(i.get(\"title\"),i.get(\"href\"))"
   ]
  },
  {
   "cell_type": "markdown",
   "metadata": {},
   "source": [
    "On crée un dictionnaire pour réunir les catégories et leurs URL."
   ]
  },
  {
   "cell_type": "code",
   "execution_count": 58,
   "metadata": {
    "scrolled": true
   },
   "outputs": [],
   "source": [
    "\n",
    "dico_categories = dict()\n",
    "for row in rows : \n",
    "    cols = row.get(\"title\")\n",
    "    if len(cols)>0 : \n",
    "        dico_categories[cols]=row.get(\"href\")"
   ]
  },
  {
   "cell_type": "markdown",
   "metadata": {},
   "source": [
    "On observe le contenu du dictionnaire. "
   ]
  },
  {
   "cell_type": "code",
   "execution_count": 59,
   "metadata": {},
   "outputs": [
    {
     "name": "stdout",
     "output_type": "stream",
     "text": [
      "https://www.yazio.com/fr/aliments/boissons-alcoolisees\n",
      "https://www.yazio.com/fr/aliments/boissons-non-alcoolisees\n",
      "https://www.yazio.com/fr/aliments/divers\n",
      "https://www.yazio.com/fr/aliments/fast-food\n",
      "https://www.yazio.com/fr/aliments/fines-herbes-epices\n",
      "https://www.yazio.com/fr/aliments/friandises\n",
      "https://www.yazio.com/fr/aliments/fromage\n",
      "https://www.yazio.com/fr/aliments/fruits\n",
      "https://www.yazio.com/fr/aliments/gateaux-tartes\n",
      "https://www.yazio.com/fr/aliments/huiles-matieres-grasses\n",
      "https://www.yazio.com/fr/aliments/ingredients-patisserie\n",
      "https://www.yazio.com/fr/aliments/lait-produits-laitiers\n",
      "https://www.yazio.com/fr/aliments/legumes\n",
      "https://www.yazio.com/fr/aliments/legumineuses\n",
      "https://www.yazio.com/fr/aliments/muesli-flocons-davoine-cereales\n",
      "https://www.yazio.com/fr/aliments/noix-graines\n",
      "https://www.yazio.com/fr/aliments/pate-tartiner-confiture\n",
      "https://www.yazio.com/fr/aliments/pates-nouilles\n",
      "https://www.yazio.com/fr/aliments/patisseries-viennoiseries\n",
      "https://www.yazio.com/fr/aliments/plats\n",
      "https://www.yazio.com/fr/aliments/poisson\n",
      "https://www.yazio.com/fr/aliments/produits-base-soja\n",
      "https://www.yazio.com/fr/aliments/produits-cerealiers\n",
      "https://www.yazio.com/fr/aliments/produits-pommes-terre\n",
      "https://www.yazio.com/fr/aliments/sauces-vinaigrettes\n",
      "https://www.yazio.com/fr/aliments/viande\n"
     ]
    }
   ],
   "source": [
    "for link in dico_categories.values():\n",
    "    print(link)"
   ]
  },
  {
   "cell_type": "markdown",
   "metadata": {},
   "source": [
    "On observe les URL des sous-catégories présentes sur une page vers laquelle l'URL des Boissons alcoolisées nous dirige. "
   ]
  },
  {
   "cell_type": "code",
   "execution_count": 60,
   "metadata": {},
   "outputs": [
    {
     "name": "stdout",
     "output_type": "stream",
     "text": [
      "https://www.yazio.com/fr/aliments/alcools-forts-spiritueux\n",
      "https://www.yazio.com/fr/aliments/biere\n",
      "https://www.yazio.com/fr/aliments/cocktails\n",
      "https://www.yazio.com/fr/aliments/vin\n",
      "https://www.yazio.com/fr/aliments/lait-de-poule.html\n",
      "https://www.yazio.com/fr/aliments/champagne-champagne-brut.html\n",
      "https://www.yazio.com/fr/aliments/champagne-champagne-brut.html\n",
      "https://www.yazio.com/fr/aliments/lait-de-poule.html\n",
      "https://www.yazio.com/fr/aliments/lait-de-poule.html\n",
      "https://www.yazio.com/fr/aliments/champagne-champagne-brut.html\n"
     ]
    }
   ],
   "source": [
    "\n",
    "yazio_sous_cat=requests.get(\"https://www.yazio.com/fr/aliments/boissons-alcoolisees\")\n",
    "clean_yazio_sous_cat = bs4.BeautifulSoup(yazio_sous_cat.content, \"lxml\")\n",
    "rows = clean_yazio_sous_cat.findAll(\"a\",{\"class\": \"link\"})\n",
    "for i in rows : \n",
    "    print(i.get(\"href\"))\n",
    "    \n",
    "#On remarque que certains liens sont en double, on pensera à retraiter plus tard"
   ]
  },
  {
   "cell_type": "markdown",
   "metadata": {},
   "source": [
    "On généralise pour toutes les sous-catégories de toutes les pages et on forme une liste\n",
    "\n"
   ]
  },
  {
   "cell_type": "code",
   "execution_count": 61,
   "metadata": {},
   "outputs": [],
   "source": [
    "links = clean_yazio_page.findAll(\"a\",{\"class\": \"position-relative text-decoration-none\"})\n",
    "\n",
    "list_sous_cat = []\n",
    "for link in dico_categories.values():\n",
    "    yazio_sous_cat = requests.get(str(link))\n",
    "    clean_yazio_sous_cat = bs4.BeautifulSoup(yazio_sous_cat.content, \"lxml\")\n",
    "    rows = clean_yazio_sous_cat.findAll(\"a\",{\"class\": \"link\"})\n",
    "    for i in rows : \n",
    "        list_sous_cat.append(i.get(\"href\"))\n",
    "        \n"
   ]
  },
  {
   "cell_type": "markdown",
   "metadata": {},
   "source": [
    "On observe la liste"
   ]
  },
  {
   "cell_type": "code",
   "execution_count": 62,
   "metadata": {},
   "outputs": [
    {
     "name": "stdout",
     "output_type": "stream",
     "text": [
      "https://www.yazio.com/fr/aliments/alcools-forts-spiritueux\n",
      "https://www.yazio.com/fr/aliments/biere\n",
      "https://www.yazio.com/fr/aliments/cocktails\n",
      "https://www.yazio.com/fr/aliments/vin\n",
      "https://www.yazio.com/fr/aliments/lait-de-poule.html\n"
     ]
    }
   ],
   "source": [
    "for i in range(5):\n",
    "    print(list_sous_cat[i])"
   ]
  },
  {
   "cell_type": "markdown",
   "metadata": {},
   "source": [
    "On retraite la liste en enlevant les doublons: "
   ]
  },
  {
   "cell_type": "code",
   "execution_count": 63,
   "metadata": {},
   "outputs": [
    {
     "name": "stdout",
     "output_type": "stream",
     "text": [
      "https://www.yazio.com/fr/aliments/alcools-forts-spiritueux\n",
      "https://www.yazio.com/fr/aliments/biere\n",
      "https://www.yazio.com/fr/aliments/cocktails\n",
      "https://www.yazio.com/fr/aliments/vin\n",
      "https://www.yazio.com/fr/aliments/lait-de-poule.html\n"
     ]
    }
   ],
   "source": [
    "list_sc_retraite =[]\n",
    "\n",
    "for element in list_sous_cat:\n",
    "    if element not in list_sc_retraite :\n",
    "        list_sc_retraite.append(element) \n",
    "\n",
    "\n",
    "for i in range(5):\n",
    "    print(list_sc_retraite[i])"
   ]
  },
  {
   "cell_type": "markdown",
   "metadata": {},
   "source": [
    "On remarque que la liste contient les sous-catégories mais aussi les aliments eux-même, on va donc supprimer les sous-catégories pour n'avoir que les aliments. \n",
    "Ces sous-catégories sont les seules à ne pas présenter le suffixe 'html' à la fin de leur lien. "
   ]
  },
  {
   "cell_type": "code",
   "execution_count": 65,
   "metadata": {},
   "outputs": [
    {
     "name": "stdout",
     "output_type": "stream",
     "text": [
      "https://www.yazio.com/fr/aliments/lait-de-poule.html\n",
      "https://www.yazio.com/fr/aliments/champagne-champagne-brut.html\n",
      "https://www.yazio.com/fr/aliments/chocolat-en-poudre.html\n",
      "https://www.yazio.com/fr/aliments/poudre-de-cacao.html\n",
      "https://www.yazio.com/fr/aliments/poudre-de-cacao-non-sucree.html\n"
     ]
    }
   ],
   "source": [
    "list_food = []\n",
    "for element in list_sc_retraite: \n",
    "    if element[(len(element)-4):] == 'html':\n",
    "        list_food.append(element)\n",
    "\n",
    "for i in range(5):\n",
    "    print(list_food[i])"
   ]
  },
  {
   "cell_type": "markdown",
   "metadata": {},
   "source": [
    "On crée une fonction qui renvoie une liste contenant les 4 nutriments pour un lien donné\n",
    "\n"
   ]
  },
  {
   "cell_type": "code",
   "execution_count": 67,
   "metadata": {},
   "outputs": [],
   "source": [
    "\n",
    "def nutri_link(link_aliment):\n",
    "    tab_indiv = []\n",
    "    website = requests.get(link_aliment)\n",
    "    clean_website = bs4.BeautifulSoup(website.content, \"lxml\")\n",
    "    linksnb = clean_website.findAll(\"span\",{\"class\": \"serving-calculator-numbers-value\"}) #les lignes qui contiennent les valeurs\n",
    "    #linkstitle = clean_website.findAll(\"div\",{\"class\": \"font-body text-left\"}) #les lignes qui contiennent les titres Glucides, Protéines... pour le moment on s'en sert pas\n",
    "    for i in range(4): #on donne les 4 valeurs kcal, glu, prot, lip\n",
    "        tab_indiv.append(linksnb[i].get(\"data-standard-value\")) #data-standard-value donne la version pour 100g\n",
    "    return np.array([tab_indiv])\n"
   ]
  },
  {
   "cell_type": "markdown",
   "metadata": {},
   "source": [
    "On essaie et on voit que ça fonctionne\n",
    "\n"
   ]
  },
  {
   "cell_type": "code",
   "execution_count": 68,
   "metadata": {},
   "outputs": [
    {
     "name": "stdout",
     "output_type": "stream",
     "text": [
      "[['400' '90.28' '4.55' '2.27']]\n"
     ]
    }
   ],
   "source": [
    "chocopoudre = nutri_link('https://www.yazio.com/fr/aliments/chocolat-en-poudre.html')\n",
    "print(chocopoudre)\n"
   ]
  },
  {
   "cell_type": "markdown",
   "metadata": {},
   "source": [
    "### Création du dataframe"
   ]
  },
  {
   "cell_type": "markdown",
   "metadata": {},
   "source": [
    "On va maintenant créer un data frame pour concaténer toutes nos données\n",
    "\n"
   ]
  },
  {
   "cell_type": "code",
   "execution_count": 70,
   "metadata": {},
   "outputs": [
    {
     "data": {
      "text/html": [
       "<div>\n",
       "<style scoped>\n",
       "    .dataframe tbody tr th:only-of-type {\n",
       "        vertical-align: middle;\n",
       "    }\n",
       "\n",
       "    .dataframe tbody tr th {\n",
       "        vertical-align: top;\n",
       "    }\n",
       "\n",
       "    .dataframe thead th {\n",
       "        text-align: right;\n",
       "    }\n",
       "</style>\n",
       "<table border=\"1\" class=\"dataframe\">\n",
       "  <thead>\n",
       "    <tr style=\"text-align: right;\">\n",
       "      <th></th>\n",
       "      <th>Kcalories</th>\n",
       "      <th>Glucides</th>\n",
       "      <th>Protéines</th>\n",
       "      <th>Lipides</th>\n",
       "    </tr>\n",
       "  </thead>\n",
       "  <tbody>\n",
       "    <tr>\n",
       "      <th>https://www.yazio.com/fr/aliments/chocolat-en-poudre.html</th>\n",
       "      <td>400</td>\n",
       "      <td>90.28</td>\n",
       "      <td>4.55</td>\n",
       "      <td>2.27</td>\n",
       "    </tr>\n",
       "  </tbody>\n",
       "</table>\n",
       "</div>"
      ],
      "text/plain": [
       "                                                   Kcalories Glucides  \\\n",
       "https://www.yazio.com/fr/aliments/chocolat-en-p...       400    90.28   \n",
       "\n",
       "                                                   Protéines Lipides  \n",
       "https://www.yazio.com/fr/aliments/chocolat-en-p...      4.55    2.27  "
      ]
     },
     "execution_count": 70,
     "metadata": {},
     "output_type": "execute_result"
    }
   ],
   "source": [
    "df = pandas.DataFrame(chocopoudre, index = ['https://www.yazio.com/fr/aliments/chocolat-en-poudre.html'], columns = ['Kcalories', 'Glucides', 'Protéines', 'Lipides'])\n",
    "df"
   ]
  },
  {
   "cell_type": "markdown",
   "metadata": {},
   "source": [
    "On trouve un moyen de réécrire le lien avec uniquement le nom de l'aliment"
   ]
  },
  {
   "cell_type": "code",
   "execution_count": 23,
   "metadata": {},
   "outputs": [
    {
     "name": "stdout",
     "output_type": "stream",
     "text": [
      "chocolat-en-poudre\n"
     ]
    }
   ],
   "source": [
    "import re\n",
    "string = re.sub(\"https://www.yazio.com/fr/aliments/|\\.html\",\"\",'https://www.yazio.com/fr/aliments/chocolat-en-poudre.html')\n",
    "print(string)"
   ]
  },
  {
   "cell_type": "markdown",
   "metadata": {},
   "source": [
    "On récapitule tout et on réécrit une ligne de code pour avoir un dataframe meilleur\n",
    "\n"
   ]
  },
  {
   "cell_type": "code",
   "execution_count": 24,
   "metadata": {},
   "outputs": [
    {
     "data": {
      "text/html": [
       "<div>\n",
       "<style scoped>\n",
       "    .dataframe tbody tr th:only-of-type {\n",
       "        vertical-align: middle;\n",
       "    }\n",
       "\n",
       "    .dataframe tbody tr th {\n",
       "        vertical-align: top;\n",
       "    }\n",
       "\n",
       "    .dataframe thead th {\n",
       "        text-align: right;\n",
       "    }\n",
       "</style>\n",
       "<table border=\"1\" class=\"dataframe\">\n",
       "  <thead>\n",
       "    <tr style=\"text-align: right;\">\n",
       "      <th></th>\n",
       "      <th>Kcalories</th>\n",
       "      <th>Glucides</th>\n",
       "      <th>Protéines</th>\n",
       "      <th>Lipides</th>\n",
       "    </tr>\n",
       "  </thead>\n",
       "  <tbody>\n",
       "    <tr>\n",
       "      <th>chocolat-en-poudre</th>\n",
       "      <td>400</td>\n",
       "      <td>90.28</td>\n",
       "      <td>4.55</td>\n",
       "      <td>2.27</td>\n",
       "    </tr>\n",
       "  </tbody>\n",
       "</table>\n",
       "</div>"
      ],
      "text/plain": [
       "                   Kcalories Glucides Protéines Lipides\n",
       "chocolat-en-poudre       400    90.28      4.55    2.27"
      ]
     },
     "execution_count": 24,
     "metadata": {},
     "output_type": "execute_result"
    }
   ],
   "source": [
    "string = re.sub(\"https://www.yazio.com/fr/aliments/|\\.html\",\"\",'https://www.yazio.com/fr/aliments/chocolat-en-poudre.html')\n",
    "chocopoudre = nutri_link('https://www.yazio.com/fr/aliments/chocolat-en-poudre.html')\n",
    "df = pandas.DataFrame(chocopoudre, index = [string], columns = ['Kcalories', 'Glucides', 'Protéines', 'Lipides'])\n",
    "df\n"
   ]
  },
  {
   "cell_type": "markdown",
   "metadata": {},
   "source": [
    "#### On crée notre tableau final avec tous les aliments\n",
    "\n",
    "Attention c'est très long"
   ]
  },
  {
   "cell_type": "code",
   "execution_count": 73,
   "metadata": {},
   "outputs": [
    {
     "ename": "KeyboardInterrupt",
     "evalue": "",
     "output_type": "error",
     "traceback": [
      "\u001b[0;31m---------------------------------------------------------------------------\u001b[0m",
      "\u001b[0;31mTypeError\u001b[0m                                 Traceback (most recent call last)",
      "\u001b[0;32m//anaconda3/lib/python3.7/site-packages/urllib3/connectionpool.py\u001b[0m in \u001b[0;36m_make_request\u001b[0;34m(self, conn, method, url, timeout, chunked, **httplib_request_kw)\u001b[0m\n\u001b[1;32m    376\u001b[0m             \u001b[0;32mtry\u001b[0m\u001b[0;34m:\u001b[0m  \u001b[0;31m# Python 2.7, use buffering of HTTP responses\u001b[0m\u001b[0;34m\u001b[0m\u001b[0;34m\u001b[0m\u001b[0m\n\u001b[0;32m--> 377\u001b[0;31m                 \u001b[0mhttplib_response\u001b[0m \u001b[0;34m=\u001b[0m \u001b[0mconn\u001b[0m\u001b[0;34m.\u001b[0m\u001b[0mgetresponse\u001b[0m\u001b[0;34m(\u001b[0m\u001b[0mbuffering\u001b[0m\u001b[0;34m=\u001b[0m\u001b[0;32mTrue\u001b[0m\u001b[0;34m)\u001b[0m\u001b[0;34m\u001b[0m\u001b[0;34m\u001b[0m\u001b[0m\n\u001b[0m\u001b[1;32m    378\u001b[0m             \u001b[0;32mexcept\u001b[0m \u001b[0mTypeError\u001b[0m\u001b[0;34m:\u001b[0m  \u001b[0;31m# Python 3\u001b[0m\u001b[0;34m\u001b[0m\u001b[0;34m\u001b[0m\u001b[0m\n",
      "\u001b[0;31mTypeError\u001b[0m: getresponse() got an unexpected keyword argument 'buffering'",
      "\nDuring handling of the above exception, another exception occurred:\n",
      "\u001b[0;31mKeyboardInterrupt\u001b[0m                         Traceback (most recent call last)",
      "\u001b[0;32m<ipython-input-73-7bebe4f52cee>\u001b[0m in \u001b[0;36m<module>\u001b[0;34m\u001b[0m\n\u001b[1;32m      3\u001b[0m     \u001b[0;32mif\u001b[0m \u001b[0mstr\u001b[0m\u001b[0;34m(\u001b[0m\u001b[0mrequests\u001b[0m\u001b[0;34m.\u001b[0m\u001b[0mget\u001b[0m\u001b[0;34m(\u001b[0m\u001b[0mlink\u001b[0m\u001b[0;34m)\u001b[0m\u001b[0;34m)\u001b[0m \u001b[0;34m!=\u001b[0m \u001b[0;34m'<Response [404]>'\u001b[0m\u001b[0;34m:\u001b[0m\u001b[0;34m\u001b[0m\u001b[0;34m\u001b[0m\u001b[0m\n\u001b[1;32m      4\u001b[0m         \u001b[0mstring\u001b[0m \u001b[0;34m=\u001b[0m \u001b[0mre\u001b[0m\u001b[0;34m.\u001b[0m\u001b[0msub\u001b[0m\u001b[0;34m(\u001b[0m\u001b[0;34m\"https://www.yazio.com/fr/aliments/|\\.html\"\u001b[0m\u001b[0;34m,\u001b[0m\u001b[0;34m\"\"\u001b[0m\u001b[0;34m,\u001b[0m\u001b[0mlink\u001b[0m\u001b[0;34m)\u001b[0m \u001b[0;31m#on crée un bon titre\u001b[0m\u001b[0;34m\u001b[0m\u001b[0;34m\u001b[0m\u001b[0m\n\u001b[0;32m----> 5\u001b[0;31m         \u001b[0mdf_nutri\u001b[0m\u001b[0;34m=\u001b[0m \u001b[0mpandas\u001b[0m\u001b[0;34m.\u001b[0m\u001b[0mDataFrame\u001b[0m\u001b[0;34m(\u001b[0m\u001b[0mnutri_link\u001b[0m\u001b[0;34m(\u001b[0m\u001b[0mlink\u001b[0m\u001b[0;34m)\u001b[0m\u001b[0;34m,\u001b[0m\u001b[0mcolumns\u001b[0m \u001b[0;34m=\u001b[0m \u001b[0;34m[\u001b[0m\u001b[0;34m'Kcalories'\u001b[0m\u001b[0;34m,\u001b[0m \u001b[0;34m'Glucides'\u001b[0m\u001b[0;34m,\u001b[0m \u001b[0;34m'Protéines'\u001b[0m\u001b[0;34m,\u001b[0m \u001b[0;34m'Lipides'\u001b[0m\u001b[0;34m]\u001b[0m\u001b[0;34m,\u001b[0m \u001b[0mindex\u001b[0m\u001b[0;34m=\u001b[0m\u001b[0;34m[\u001b[0m\u001b[0mstring\u001b[0m\u001b[0;34m]\u001b[0m\u001b[0;34m)\u001b[0m\u001b[0;34m\u001b[0m\u001b[0;34m\u001b[0m\u001b[0m\n\u001b[0m\u001b[1;32m      6\u001b[0m         \u001b[0mtab_final\u001b[0m \u001b[0;34m=\u001b[0m \u001b[0mtab_final\u001b[0m\u001b[0;34m.\u001b[0m\u001b[0mappend\u001b[0m\u001b[0;34m(\u001b[0m\u001b[0mdf_nutri\u001b[0m\u001b[0;34m)\u001b[0m \u001b[0;31m#on ajoute au dataframe\u001b[0m\u001b[0;34m\u001b[0m\u001b[0;34m\u001b[0m\u001b[0m\n\u001b[1;32m      7\u001b[0m \u001b[0;34m\u001b[0m\u001b[0m\n",
      "\u001b[0;32m<ipython-input-67-1fbc15636d17>\u001b[0m in \u001b[0;36mnutri_link\u001b[0;34m(link_aliment)\u001b[0m\n\u001b[1;32m      1\u001b[0m \u001b[0;32mdef\u001b[0m \u001b[0mnutri_link\u001b[0m\u001b[0;34m(\u001b[0m\u001b[0mlink_aliment\u001b[0m\u001b[0;34m)\u001b[0m\u001b[0;34m:\u001b[0m\u001b[0;34m\u001b[0m\u001b[0;34m\u001b[0m\u001b[0m\n\u001b[1;32m      2\u001b[0m     \u001b[0mtab_indiv\u001b[0m \u001b[0;34m=\u001b[0m \u001b[0;34m[\u001b[0m\u001b[0;34m]\u001b[0m\u001b[0;34m\u001b[0m\u001b[0;34m\u001b[0m\u001b[0m\n\u001b[0;32m----> 3\u001b[0;31m     \u001b[0mwebsite\u001b[0m \u001b[0;34m=\u001b[0m \u001b[0mrequests\u001b[0m\u001b[0;34m.\u001b[0m\u001b[0mget\u001b[0m\u001b[0;34m(\u001b[0m\u001b[0mlink_aliment\u001b[0m\u001b[0;34m)\u001b[0m\u001b[0;34m\u001b[0m\u001b[0;34m\u001b[0m\u001b[0m\n\u001b[0m\u001b[1;32m      4\u001b[0m     \u001b[0mclean_website\u001b[0m \u001b[0;34m=\u001b[0m \u001b[0mbs4\u001b[0m\u001b[0;34m.\u001b[0m\u001b[0mBeautifulSoup\u001b[0m\u001b[0;34m(\u001b[0m\u001b[0mwebsite\u001b[0m\u001b[0;34m.\u001b[0m\u001b[0mcontent\u001b[0m\u001b[0;34m,\u001b[0m \u001b[0;34m\"lxml\"\u001b[0m\u001b[0;34m)\u001b[0m\u001b[0;34m\u001b[0m\u001b[0;34m\u001b[0m\u001b[0m\n\u001b[1;32m      5\u001b[0m     \u001b[0mlinksnb\u001b[0m \u001b[0;34m=\u001b[0m \u001b[0mclean_website\u001b[0m\u001b[0;34m.\u001b[0m\u001b[0mfindAll\u001b[0m\u001b[0;34m(\u001b[0m\u001b[0;34m\"span\"\u001b[0m\u001b[0;34m,\u001b[0m\u001b[0;34m{\u001b[0m\u001b[0;34m\"class\"\u001b[0m\u001b[0;34m:\u001b[0m \u001b[0;34m\"serving-calculator-numbers-value\"\u001b[0m\u001b[0;34m}\u001b[0m\u001b[0;34m)\u001b[0m \u001b[0;31m#les lignes qui contiennent les valeurs\u001b[0m\u001b[0;34m\u001b[0m\u001b[0;34m\u001b[0m\u001b[0m\n",
      "\u001b[0;32m//anaconda3/lib/python3.7/site-packages/requests/api.py\u001b[0m in \u001b[0;36mget\u001b[0;34m(url, params, **kwargs)\u001b[0m\n\u001b[1;32m     73\u001b[0m     \"\"\"\n\u001b[1;32m     74\u001b[0m \u001b[0;34m\u001b[0m\u001b[0m\n\u001b[0;32m---> 75\u001b[0;31m     \u001b[0;32mreturn\u001b[0m \u001b[0mrequest\u001b[0m\u001b[0;34m(\u001b[0m\u001b[0;34m'get'\u001b[0m\u001b[0;34m,\u001b[0m \u001b[0murl\u001b[0m\u001b[0;34m,\u001b[0m \u001b[0mparams\u001b[0m\u001b[0;34m=\u001b[0m\u001b[0mparams\u001b[0m\u001b[0;34m,\u001b[0m \u001b[0;34m**\u001b[0m\u001b[0mkwargs\u001b[0m\u001b[0;34m)\u001b[0m\u001b[0;34m\u001b[0m\u001b[0;34m\u001b[0m\u001b[0m\n\u001b[0m\u001b[1;32m     76\u001b[0m \u001b[0;34m\u001b[0m\u001b[0m\n\u001b[1;32m     77\u001b[0m \u001b[0;34m\u001b[0m\u001b[0m\n",
      "\u001b[0;32m//anaconda3/lib/python3.7/site-packages/requests/api.py\u001b[0m in \u001b[0;36mrequest\u001b[0;34m(method, url, **kwargs)\u001b[0m\n\u001b[1;32m     59\u001b[0m     \u001b[0;31m# cases, and look like a memory leak in others.\u001b[0m\u001b[0;34m\u001b[0m\u001b[0;34m\u001b[0m\u001b[0;34m\u001b[0m\u001b[0m\n\u001b[1;32m     60\u001b[0m     \u001b[0;32mwith\u001b[0m \u001b[0msessions\u001b[0m\u001b[0;34m.\u001b[0m\u001b[0mSession\u001b[0m\u001b[0;34m(\u001b[0m\u001b[0;34m)\u001b[0m \u001b[0;32mas\u001b[0m \u001b[0msession\u001b[0m\u001b[0;34m:\u001b[0m\u001b[0;34m\u001b[0m\u001b[0;34m\u001b[0m\u001b[0m\n\u001b[0;32m---> 61\u001b[0;31m         \u001b[0;32mreturn\u001b[0m \u001b[0msession\u001b[0m\u001b[0;34m.\u001b[0m\u001b[0mrequest\u001b[0m\u001b[0;34m(\u001b[0m\u001b[0mmethod\u001b[0m\u001b[0;34m=\u001b[0m\u001b[0mmethod\u001b[0m\u001b[0;34m,\u001b[0m \u001b[0murl\u001b[0m\u001b[0;34m=\u001b[0m\u001b[0murl\u001b[0m\u001b[0;34m,\u001b[0m \u001b[0;34m**\u001b[0m\u001b[0mkwargs\u001b[0m\u001b[0;34m)\u001b[0m\u001b[0;34m\u001b[0m\u001b[0;34m\u001b[0m\u001b[0m\n\u001b[0m\u001b[1;32m     62\u001b[0m \u001b[0;34m\u001b[0m\u001b[0m\n\u001b[1;32m     63\u001b[0m \u001b[0;34m\u001b[0m\u001b[0m\n",
      "\u001b[0;32m//anaconda3/lib/python3.7/site-packages/requests/sessions.py\u001b[0m in \u001b[0;36mrequest\u001b[0;34m(self, method, url, params, data, headers, cookies, files, auth, timeout, allow_redirects, proxies, hooks, stream, verify, cert, json)\u001b[0m\n\u001b[1;32m    540\u001b[0m         }\n\u001b[1;32m    541\u001b[0m         \u001b[0msend_kwargs\u001b[0m\u001b[0;34m.\u001b[0m\u001b[0mupdate\u001b[0m\u001b[0;34m(\u001b[0m\u001b[0msettings\u001b[0m\u001b[0;34m)\u001b[0m\u001b[0;34m\u001b[0m\u001b[0;34m\u001b[0m\u001b[0m\n\u001b[0;32m--> 542\u001b[0;31m         \u001b[0mresp\u001b[0m \u001b[0;34m=\u001b[0m \u001b[0mself\u001b[0m\u001b[0;34m.\u001b[0m\u001b[0msend\u001b[0m\u001b[0;34m(\u001b[0m\u001b[0mprep\u001b[0m\u001b[0;34m,\u001b[0m \u001b[0;34m**\u001b[0m\u001b[0msend_kwargs\u001b[0m\u001b[0;34m)\u001b[0m\u001b[0;34m\u001b[0m\u001b[0;34m\u001b[0m\u001b[0m\n\u001b[0m\u001b[1;32m    543\u001b[0m \u001b[0;34m\u001b[0m\u001b[0m\n\u001b[1;32m    544\u001b[0m         \u001b[0;32mreturn\u001b[0m \u001b[0mresp\u001b[0m\u001b[0;34m\u001b[0m\u001b[0;34m\u001b[0m\u001b[0m\n",
      "\u001b[0;32m//anaconda3/lib/python3.7/site-packages/requests/sessions.py\u001b[0m in \u001b[0;36msend\u001b[0;34m(self, request, **kwargs)\u001b[0m\n\u001b[1;32m    653\u001b[0m \u001b[0;34m\u001b[0m\u001b[0m\n\u001b[1;32m    654\u001b[0m         \u001b[0;31m# Send the request\u001b[0m\u001b[0;34m\u001b[0m\u001b[0;34m\u001b[0m\u001b[0;34m\u001b[0m\u001b[0m\n\u001b[0;32m--> 655\u001b[0;31m         \u001b[0mr\u001b[0m \u001b[0;34m=\u001b[0m \u001b[0madapter\u001b[0m\u001b[0;34m.\u001b[0m\u001b[0msend\u001b[0m\u001b[0;34m(\u001b[0m\u001b[0mrequest\u001b[0m\u001b[0;34m,\u001b[0m \u001b[0;34m**\u001b[0m\u001b[0mkwargs\u001b[0m\u001b[0;34m)\u001b[0m\u001b[0;34m\u001b[0m\u001b[0;34m\u001b[0m\u001b[0m\n\u001b[0m\u001b[1;32m    656\u001b[0m \u001b[0;34m\u001b[0m\u001b[0m\n\u001b[1;32m    657\u001b[0m         \u001b[0;31m# Total elapsed time of the request (approximately)\u001b[0m\u001b[0;34m\u001b[0m\u001b[0;34m\u001b[0m\u001b[0;34m\u001b[0m\u001b[0m\n",
      "\u001b[0;32m//anaconda3/lib/python3.7/site-packages/requests/adapters.py\u001b[0m in \u001b[0;36msend\u001b[0;34m(self, request, stream, timeout, verify, cert, proxies)\u001b[0m\n\u001b[1;32m    447\u001b[0m                     \u001b[0mdecode_content\u001b[0m\u001b[0;34m=\u001b[0m\u001b[0;32mFalse\u001b[0m\u001b[0;34m,\u001b[0m\u001b[0;34m\u001b[0m\u001b[0;34m\u001b[0m\u001b[0m\n\u001b[1;32m    448\u001b[0m                     \u001b[0mretries\u001b[0m\u001b[0;34m=\u001b[0m\u001b[0mself\u001b[0m\u001b[0;34m.\u001b[0m\u001b[0mmax_retries\u001b[0m\u001b[0;34m,\u001b[0m\u001b[0;34m\u001b[0m\u001b[0;34m\u001b[0m\u001b[0m\n\u001b[0;32m--> 449\u001b[0;31m                     \u001b[0mtimeout\u001b[0m\u001b[0;34m=\u001b[0m\u001b[0mtimeout\u001b[0m\u001b[0;34m\u001b[0m\u001b[0;34m\u001b[0m\u001b[0m\n\u001b[0m\u001b[1;32m    450\u001b[0m                 )\n\u001b[1;32m    451\u001b[0m \u001b[0;34m\u001b[0m\u001b[0m\n",
      "\u001b[0;32m//anaconda3/lib/python3.7/site-packages/urllib3/connectionpool.py\u001b[0m in \u001b[0;36murlopen\u001b[0;34m(self, method, url, body, headers, retries, redirect, assert_same_host, timeout, pool_timeout, release_conn, chunked, body_pos, **response_kw)\u001b[0m\n\u001b[1;32m    598\u001b[0m                                                   \u001b[0mtimeout\u001b[0m\u001b[0;34m=\u001b[0m\u001b[0mtimeout_obj\u001b[0m\u001b[0;34m,\u001b[0m\u001b[0;34m\u001b[0m\u001b[0;34m\u001b[0m\u001b[0m\n\u001b[1;32m    599\u001b[0m                                                   \u001b[0mbody\u001b[0m\u001b[0;34m=\u001b[0m\u001b[0mbody\u001b[0m\u001b[0;34m,\u001b[0m \u001b[0mheaders\u001b[0m\u001b[0;34m=\u001b[0m\u001b[0mheaders\u001b[0m\u001b[0;34m,\u001b[0m\u001b[0;34m\u001b[0m\u001b[0;34m\u001b[0m\u001b[0m\n\u001b[0;32m--> 600\u001b[0;31m                                                   chunked=chunked)\n\u001b[0m\u001b[1;32m    601\u001b[0m \u001b[0;34m\u001b[0m\u001b[0m\n\u001b[1;32m    602\u001b[0m             \u001b[0;31m# If we're going to release the connection in ``finally:``, then\u001b[0m\u001b[0;34m\u001b[0m\u001b[0;34m\u001b[0m\u001b[0;34m\u001b[0m\u001b[0m\n",
      "\u001b[0;32m//anaconda3/lib/python3.7/site-packages/urllib3/connectionpool.py\u001b[0m in \u001b[0;36m_make_request\u001b[0;34m(self, conn, method, url, timeout, chunked, **httplib_request_kw)\u001b[0m\n\u001b[1;32m    378\u001b[0m             \u001b[0;32mexcept\u001b[0m \u001b[0mTypeError\u001b[0m\u001b[0;34m:\u001b[0m  \u001b[0;31m# Python 3\u001b[0m\u001b[0;34m\u001b[0m\u001b[0;34m\u001b[0m\u001b[0m\n\u001b[1;32m    379\u001b[0m                 \u001b[0;32mtry\u001b[0m\u001b[0;34m:\u001b[0m\u001b[0;34m\u001b[0m\u001b[0;34m\u001b[0m\u001b[0m\n\u001b[0;32m--> 380\u001b[0;31m                     \u001b[0mhttplib_response\u001b[0m \u001b[0;34m=\u001b[0m \u001b[0mconn\u001b[0m\u001b[0;34m.\u001b[0m\u001b[0mgetresponse\u001b[0m\u001b[0;34m(\u001b[0m\u001b[0;34m)\u001b[0m\u001b[0;34m\u001b[0m\u001b[0;34m\u001b[0m\u001b[0m\n\u001b[0m\u001b[1;32m    381\u001b[0m                 \u001b[0;32mexcept\u001b[0m \u001b[0mException\u001b[0m \u001b[0;32mas\u001b[0m \u001b[0me\u001b[0m\u001b[0;34m:\u001b[0m\u001b[0;34m\u001b[0m\u001b[0;34m\u001b[0m\u001b[0m\n\u001b[1;32m    382\u001b[0m                     \u001b[0;31m# Remove the TypeError from the exception chain in Python 3;\u001b[0m\u001b[0;34m\u001b[0m\u001b[0;34m\u001b[0m\u001b[0;34m\u001b[0m\u001b[0m\n",
      "\u001b[0;32m//anaconda3/lib/python3.7/http/client.py\u001b[0m in \u001b[0;36mgetresponse\u001b[0;34m(self)\u001b[0m\n\u001b[1;32m   1319\u001b[0m         \u001b[0;32mtry\u001b[0m\u001b[0;34m:\u001b[0m\u001b[0;34m\u001b[0m\u001b[0;34m\u001b[0m\u001b[0m\n\u001b[1;32m   1320\u001b[0m             \u001b[0;32mtry\u001b[0m\u001b[0;34m:\u001b[0m\u001b[0;34m\u001b[0m\u001b[0;34m\u001b[0m\u001b[0m\n\u001b[0;32m-> 1321\u001b[0;31m                 \u001b[0mresponse\u001b[0m\u001b[0;34m.\u001b[0m\u001b[0mbegin\u001b[0m\u001b[0;34m(\u001b[0m\u001b[0;34m)\u001b[0m\u001b[0;34m\u001b[0m\u001b[0;34m\u001b[0m\u001b[0m\n\u001b[0m\u001b[1;32m   1322\u001b[0m             \u001b[0;32mexcept\u001b[0m \u001b[0mConnectionError\u001b[0m\u001b[0;34m:\u001b[0m\u001b[0;34m\u001b[0m\u001b[0;34m\u001b[0m\u001b[0m\n\u001b[1;32m   1323\u001b[0m                 \u001b[0mself\u001b[0m\u001b[0;34m.\u001b[0m\u001b[0mclose\u001b[0m\u001b[0;34m(\u001b[0m\u001b[0;34m)\u001b[0m\u001b[0;34m\u001b[0m\u001b[0;34m\u001b[0m\u001b[0m\n",
      "\u001b[0;32m//anaconda3/lib/python3.7/http/client.py\u001b[0m in \u001b[0;36mbegin\u001b[0;34m(self)\u001b[0m\n\u001b[1;32m    294\u001b[0m         \u001b[0;31m# read until we get a non-100 response\u001b[0m\u001b[0;34m\u001b[0m\u001b[0;34m\u001b[0m\u001b[0;34m\u001b[0m\u001b[0m\n\u001b[1;32m    295\u001b[0m         \u001b[0;32mwhile\u001b[0m \u001b[0;32mTrue\u001b[0m\u001b[0;34m:\u001b[0m\u001b[0;34m\u001b[0m\u001b[0;34m\u001b[0m\u001b[0m\n\u001b[0;32m--> 296\u001b[0;31m             \u001b[0mversion\u001b[0m\u001b[0;34m,\u001b[0m \u001b[0mstatus\u001b[0m\u001b[0;34m,\u001b[0m \u001b[0mreason\u001b[0m \u001b[0;34m=\u001b[0m \u001b[0mself\u001b[0m\u001b[0;34m.\u001b[0m\u001b[0m_read_status\u001b[0m\u001b[0;34m(\u001b[0m\u001b[0;34m)\u001b[0m\u001b[0;34m\u001b[0m\u001b[0;34m\u001b[0m\u001b[0m\n\u001b[0m\u001b[1;32m    297\u001b[0m             \u001b[0;32mif\u001b[0m \u001b[0mstatus\u001b[0m \u001b[0;34m!=\u001b[0m \u001b[0mCONTINUE\u001b[0m\u001b[0;34m:\u001b[0m\u001b[0;34m\u001b[0m\u001b[0;34m\u001b[0m\u001b[0m\n\u001b[1;32m    298\u001b[0m                 \u001b[0;32mbreak\u001b[0m\u001b[0;34m\u001b[0m\u001b[0;34m\u001b[0m\u001b[0m\n",
      "\u001b[0;32m//anaconda3/lib/python3.7/http/client.py\u001b[0m in \u001b[0;36m_read_status\u001b[0;34m(self)\u001b[0m\n\u001b[1;32m    255\u001b[0m \u001b[0;34m\u001b[0m\u001b[0m\n\u001b[1;32m    256\u001b[0m     \u001b[0;32mdef\u001b[0m \u001b[0m_read_status\u001b[0m\u001b[0;34m(\u001b[0m\u001b[0mself\u001b[0m\u001b[0;34m)\u001b[0m\u001b[0;34m:\u001b[0m\u001b[0;34m\u001b[0m\u001b[0;34m\u001b[0m\u001b[0m\n\u001b[0;32m--> 257\u001b[0;31m         \u001b[0mline\u001b[0m \u001b[0;34m=\u001b[0m \u001b[0mstr\u001b[0m\u001b[0;34m(\u001b[0m\u001b[0mself\u001b[0m\u001b[0;34m.\u001b[0m\u001b[0mfp\u001b[0m\u001b[0;34m.\u001b[0m\u001b[0mreadline\u001b[0m\u001b[0;34m(\u001b[0m\u001b[0m_MAXLINE\u001b[0m \u001b[0;34m+\u001b[0m \u001b[0;36m1\u001b[0m\u001b[0;34m)\u001b[0m\u001b[0;34m,\u001b[0m \u001b[0;34m\"iso-8859-1\"\u001b[0m\u001b[0;34m)\u001b[0m\u001b[0;34m\u001b[0m\u001b[0;34m\u001b[0m\u001b[0m\n\u001b[0m\u001b[1;32m    258\u001b[0m         \u001b[0;32mif\u001b[0m \u001b[0mlen\u001b[0m\u001b[0;34m(\u001b[0m\u001b[0mline\u001b[0m\u001b[0;34m)\u001b[0m \u001b[0;34m>\u001b[0m \u001b[0m_MAXLINE\u001b[0m\u001b[0;34m:\u001b[0m\u001b[0;34m\u001b[0m\u001b[0;34m\u001b[0m\u001b[0m\n\u001b[1;32m    259\u001b[0m             \u001b[0;32mraise\u001b[0m \u001b[0mLineTooLong\u001b[0m\u001b[0;34m(\u001b[0m\u001b[0;34m\"status line\"\u001b[0m\u001b[0;34m)\u001b[0m\u001b[0;34m\u001b[0m\u001b[0;34m\u001b[0m\u001b[0m\n",
      "\u001b[0;32m//anaconda3/lib/python3.7/socket.py\u001b[0m in \u001b[0;36mreadinto\u001b[0;34m(self, b)\u001b[0m\n\u001b[1;32m    587\u001b[0m         \u001b[0;32mwhile\u001b[0m \u001b[0;32mTrue\u001b[0m\u001b[0;34m:\u001b[0m\u001b[0;34m\u001b[0m\u001b[0;34m\u001b[0m\u001b[0m\n\u001b[1;32m    588\u001b[0m             \u001b[0;32mtry\u001b[0m\u001b[0;34m:\u001b[0m\u001b[0;34m\u001b[0m\u001b[0;34m\u001b[0m\u001b[0m\n\u001b[0;32m--> 589\u001b[0;31m                 \u001b[0;32mreturn\u001b[0m \u001b[0mself\u001b[0m\u001b[0;34m.\u001b[0m\u001b[0m_sock\u001b[0m\u001b[0;34m.\u001b[0m\u001b[0mrecv_into\u001b[0m\u001b[0;34m(\u001b[0m\u001b[0mb\u001b[0m\u001b[0;34m)\u001b[0m\u001b[0;34m\u001b[0m\u001b[0;34m\u001b[0m\u001b[0m\n\u001b[0m\u001b[1;32m    590\u001b[0m             \u001b[0;32mexcept\u001b[0m \u001b[0mtimeout\u001b[0m\u001b[0;34m:\u001b[0m\u001b[0;34m\u001b[0m\u001b[0;34m\u001b[0m\u001b[0m\n\u001b[1;32m    591\u001b[0m                 \u001b[0mself\u001b[0m\u001b[0;34m.\u001b[0m\u001b[0m_timeout_occurred\u001b[0m \u001b[0;34m=\u001b[0m \u001b[0;32mTrue\u001b[0m\u001b[0;34m\u001b[0m\u001b[0;34m\u001b[0m\u001b[0m\n",
      "\u001b[0;32m//anaconda3/lib/python3.7/ssl.py\u001b[0m in \u001b[0;36mrecv_into\u001b[0;34m(self, buffer, nbytes, flags)\u001b[0m\n\u001b[1;32m   1050\u001b[0m                   \u001b[0;34m\"non-zero flags not allowed in calls to recv_into() on %s\"\u001b[0m \u001b[0;34m%\u001b[0m\u001b[0;34m\u001b[0m\u001b[0;34m\u001b[0m\u001b[0m\n\u001b[1;32m   1051\u001b[0m                   self.__class__)\n\u001b[0;32m-> 1052\u001b[0;31m             \u001b[0;32mreturn\u001b[0m \u001b[0mself\u001b[0m\u001b[0;34m.\u001b[0m\u001b[0mread\u001b[0m\u001b[0;34m(\u001b[0m\u001b[0mnbytes\u001b[0m\u001b[0;34m,\u001b[0m \u001b[0mbuffer\u001b[0m\u001b[0;34m)\u001b[0m\u001b[0;34m\u001b[0m\u001b[0;34m\u001b[0m\u001b[0m\n\u001b[0m\u001b[1;32m   1053\u001b[0m         \u001b[0;32melse\u001b[0m\u001b[0;34m:\u001b[0m\u001b[0;34m\u001b[0m\u001b[0;34m\u001b[0m\u001b[0m\n\u001b[1;32m   1054\u001b[0m             \u001b[0;32mreturn\u001b[0m \u001b[0msuper\u001b[0m\u001b[0;34m(\u001b[0m\u001b[0;34m)\u001b[0m\u001b[0;34m.\u001b[0m\u001b[0mrecv_into\u001b[0m\u001b[0;34m(\u001b[0m\u001b[0mbuffer\u001b[0m\u001b[0;34m,\u001b[0m \u001b[0mnbytes\u001b[0m\u001b[0;34m,\u001b[0m \u001b[0mflags\u001b[0m\u001b[0;34m)\u001b[0m\u001b[0;34m\u001b[0m\u001b[0;34m\u001b[0m\u001b[0m\n",
      "\u001b[0;32m//anaconda3/lib/python3.7/ssl.py\u001b[0m in \u001b[0;36mread\u001b[0;34m(self, len, buffer)\u001b[0m\n\u001b[1;32m    909\u001b[0m         \u001b[0;32mtry\u001b[0m\u001b[0;34m:\u001b[0m\u001b[0;34m\u001b[0m\u001b[0;34m\u001b[0m\u001b[0m\n\u001b[1;32m    910\u001b[0m             \u001b[0;32mif\u001b[0m \u001b[0mbuffer\u001b[0m \u001b[0;32mis\u001b[0m \u001b[0;32mnot\u001b[0m \u001b[0;32mNone\u001b[0m\u001b[0;34m:\u001b[0m\u001b[0;34m\u001b[0m\u001b[0;34m\u001b[0m\u001b[0m\n\u001b[0;32m--> 911\u001b[0;31m                 \u001b[0;32mreturn\u001b[0m \u001b[0mself\u001b[0m\u001b[0;34m.\u001b[0m\u001b[0m_sslobj\u001b[0m\u001b[0;34m.\u001b[0m\u001b[0mread\u001b[0m\u001b[0;34m(\u001b[0m\u001b[0mlen\u001b[0m\u001b[0;34m,\u001b[0m \u001b[0mbuffer\u001b[0m\u001b[0;34m)\u001b[0m\u001b[0;34m\u001b[0m\u001b[0;34m\u001b[0m\u001b[0m\n\u001b[0m\u001b[1;32m    912\u001b[0m             \u001b[0;32melse\u001b[0m\u001b[0;34m:\u001b[0m\u001b[0;34m\u001b[0m\u001b[0;34m\u001b[0m\u001b[0m\n\u001b[1;32m    913\u001b[0m                 \u001b[0;32mreturn\u001b[0m \u001b[0mself\u001b[0m\u001b[0;34m.\u001b[0m\u001b[0m_sslobj\u001b[0m\u001b[0;34m.\u001b[0m\u001b[0mread\u001b[0m\u001b[0;34m(\u001b[0m\u001b[0mlen\u001b[0m\u001b[0;34m)\u001b[0m\u001b[0;34m\u001b[0m\u001b[0;34m\u001b[0m\u001b[0m\n",
      "\u001b[0;31mKeyboardInterrupt\u001b[0m: "
     ]
    }
   ],
   "source": [
    "tab_final = pandas.DataFrame(columns = ['Kcalories', 'Glucides', 'Protéines', 'Lipides']) #On crée un dataframe vide avec uniquement les colonnes\n",
    "for link in list_food : \n",
    "    if str(requests.get(link)) != '<Response [404]>':\n",
    "        string = re.sub(\"https://www.yazio.com/fr/aliments/|\\.html\",\"\",link) #on crée un bon titre\n",
    "        df_nutri= pandas.DataFrame(nutri_link(link),columns = ['Kcalories', 'Glucides', 'Protéines', 'Lipides'], index=[string])\n",
    "        tab_final = tab_final.append(df_nutri) #on ajoute au dataframe\n",
    "\n"
   ]
  },
  {
   "cell_type": "code",
   "execution_count": 80,
   "metadata": {},
   "outputs": [
    {
     "data": {
      "text/html": [
       "<div>\n",
       "<style scoped>\n",
       "    .dataframe tbody tr th:only-of-type {\n",
       "        vertical-align: middle;\n",
       "    }\n",
       "\n",
       "    .dataframe tbody tr th {\n",
       "        vertical-align: top;\n",
       "    }\n",
       "\n",
       "    .dataframe thead th {\n",
       "        text-align: right;\n",
       "    }\n",
       "</style>\n",
       "<table border=\"1\" class=\"dataframe\">\n",
       "  <thead>\n",
       "    <tr style=\"text-align: right;\">\n",
       "      <th></th>\n",
       "      <th>Kcalories</th>\n",
       "      <th>Glucides</th>\n",
       "      <th>Protéines</th>\n",
       "      <th>Lipides</th>\n",
       "    </tr>\n",
       "  </thead>\n",
       "  <tbody>\n",
       "    <tr>\n",
       "      <th>lait-de-poule</th>\n",
       "      <td>88</td>\n",
       "      <td>8.05</td>\n",
       "      <td>4.55</td>\n",
       "      <td>4.19</td>\n",
       "    </tr>\n",
       "    <tr>\n",
       "      <th>champagne-champagne-brut</th>\n",
       "      <td>70</td>\n",
       "      <td>15</td>\n",
       "      <td>0</td>\n",
       "      <td>0</td>\n",
       "    </tr>\n",
       "  </tbody>\n",
       "</table>\n",
       "</div>"
      ],
      "text/plain": [
       "                         Kcalories Glucides Protéines Lipides\n",
       "lait-de-poule                   88     8.05      4.55    4.19\n",
       "champagne-champagne-brut        70       15         0       0"
      ]
     },
     "execution_count": 80,
     "metadata": {},
     "output_type": "execute_result"
    }
   ],
   "source": [
    "tab_final.head(5)"
   ]
  },
  {
   "cell_type": "markdown",
   "metadata": {},
   "source": [
    "On crée le fichier csv 'tab_final.csv' contenant ce dataframe final. "
   ]
  },
  {
   "cell_type": "code",
   "execution_count": 81,
   "metadata": {},
   "outputs": [],
   "source": [
    "import csv\n",
    "tab_final.to_csv('tab_final.csv')"
   ]
  },
  {
   "cell_type": "markdown",
   "metadata": {},
   "source": [
    "Nous terminons ainsi la création de notre database contenant les macro nutriments de plus de 1000 aliments. "
   ]
  },
  {
   "cell_type": "code",
   "execution_count": null,
   "metadata": {},
   "outputs": [],
   "source": []
  }
 ],
 "metadata": {
  "kernelspec": {
   "display_name": "Python 3",
   "language": "python",
   "name": "python3"
  },
  "language_info": {
   "codemirror_mode": {
    "name": "ipython",
    "version": 3
   },
   "file_extension": ".py",
   "mimetype": "text/x-python",
   "name": "python",
   "nbconvert_exporter": "python",
   "pygments_lexer": "ipython3",
   "version": "3.7.3"
  }
 },
 "nbformat": 4,
 "nbformat_minor": 2
}
