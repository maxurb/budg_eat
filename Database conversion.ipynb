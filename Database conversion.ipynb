{
 "cells": [
  {
   "cell_type": "markdown",
   "metadata": {},
   "source": [
    "## Database de conversion unité/poids\n",
    "\n",
    "L'objectif de ce notebook est de créer une database contenant les poids de certains aliments afin de permettre à notre utilisateur d'entrer ses aliments en unités plutôt qu'en poids. \n",
    "Par exemple, s'il réalise une bolognaise, il va entrer le nombre de tomates et non le poids de tomates dans sa recette. \n",
    "\n",
    "Pour cela, nous allons scrapper une page internet qui contient un tableau les poids de différents fruits et légumes. \n",
    "\n",
    "Nous allons nous servir de cette database comme point de départ et nous pourrons plus tard ajouter à notre database les aliments que nous jugeons pertinents (par exemple le poids d'un oeuf). "
   ]
  },
  {
   "cell_type": "code",
   "execution_count": 5,
   "metadata": {},
   "outputs": [],
   "source": [
    "import urllib\n",
    "import bs4\n",
    "import pandas\n",
    "import numpy as np\n",
    "from urllib import request\n",
    "import requests"
   ]
  },
  {
   "cell_type": "code",
   "execution_count": 6,
   "metadata": {},
   "outputs": [],
   "source": [
    "convert_page = requests.get(\"https://www.bloc-notes-culinaire.com/2019/09/poids-moyen-des-fruits-et-legumes.html#\")"
   ]
  },
  {
   "cell_type": "code",
   "execution_count": 7,
   "metadata": {},
   "outputs": [],
   "source": [
    "clean_convert_page = bs4.BeautifulSoup(convert_page.content, \"lxml\")"
   ]
  },
  {
   "cell_type": "code",
   "execution_count": 8,
   "metadata": {},
   "outputs": [],
   "source": [
    "elem = clean_convert_page.findAll(\"table\",{\"class\": \"innerTable\"})"
   ]
  },
  {
   "cell_type": "markdown",
   "metadata": {},
   "source": [
    "On retraite complètement le résultat du scrapping pour garder uniquement le nom des légumes. "
   ]
  },
  {
   "cell_type": "code",
   "execution_count": 20,
   "metadata": {},
   "outputs": [],
   "source": [
    "legumes = []\n",
    "for element in elem[0]: \n",
    "    word_element = \"'%s'\"%element\n",
    "    legumes.append(word_element)\n",
    "legumes\n",
    "#print(legumes, len(legumes))\n",
    "legumes = list(filter((\"'\\n'\").__ne__, legumes))\n",
    "legumes = list(filter((\"'<tr><th>Variété</th><th>Poids moyen (kg)</th></tr>'\").__ne__, legumes))"
   ]
  },
  {
   "cell_type": "code",
   "execution_count": 26,
   "metadata": {},
   "outputs": [
    {
     "data": {
      "text/html": [
       "<div>\n",
       "<style scoped>\n",
       "    .dataframe tbody tr th:only-of-type {\n",
       "        vertical-align: middle;\n",
       "    }\n",
       "\n",
       "    .dataframe tbody tr th {\n",
       "        vertical-align: top;\n",
       "    }\n",
       "\n",
       "    .dataframe thead th {\n",
       "        text-align: right;\n",
       "    }\n",
       "</style>\n",
       "<table border=\"1\" class=\"dataframe\">\n",
       "  <thead>\n",
       "    <tr style=\"text-align: right;\">\n",
       "      <th></th>\n",
       "      <th>Aliment</th>\n",
       "      <th>Poids</th>\n",
       "    </tr>\n",
       "  </thead>\n",
       "  <tbody>\n",
       "    <tr>\n",
       "      <th>0</th>\n",
       "      <td>'Ail tête'</td>\n",
       "      <td>0,080</td>\n",
       "    </tr>\n",
       "    <tr>\n",
       "      <th>0</th>\n",
       "      <td>'Ail gousse'</td>\n",
       "      <td>0,007</td>\n",
       "    </tr>\n",
       "    <tr>\n",
       "      <th>0</th>\n",
       "      <td>'Artichaut Camus'</td>\n",
       "      <td>0,350</td>\n",
       "    </tr>\n",
       "    <tr>\n",
       "      <th>0</th>\n",
       "      <td>'Artichaut Castel'</td>\n",
       "      <td>0,500</td>\n",
       "    </tr>\n",
       "    <tr>\n",
       "      <th>0</th>\n",
       "      <td>'Artichaut Poivrade'</td>\n",
       "      <td>0,060</td>\n",
       "    </tr>\n",
       "  </tbody>\n",
       "</table>\n",
       "</div>"
      ],
      "text/plain": [
       "                Aliment  Poids\n",
       "0            'Ail tête'  0,080\n",
       "0          'Ail gousse'  0,007\n",
       "0     'Artichaut Camus'  0,350\n",
       "0    'Artichaut Castel'  0,500\n",
       "0  'Artichaut Poivrade'  0,060"
      ]
     },
     "metadata": {},
     "output_type": "display_data"
    }
   ],
   "source": [
    "import re\n",
    "data_convert = pandas.DataFrame(columns = ['Aliment','Poids'])\n",
    "for element in legumes: \n",
    "    aliment = re.sub('<tr><td>|</td></tr>|</td><td>|0|1|2|3|4|5|6|7|8|9|,','',element)\n",
    "    gramme = re.sub('[^0123456789,]', '',element)\n",
    "    vect = [aliment,gramme]\n",
    "    df = pandas.DataFrame([vect], columns = ['Aliment','Poids'])\n",
    "    data_convert = data_convert.append(df)\n",
    "\n",
    "display(data_convert.head())"
   ]
  },
  {
   "cell_type": "markdown",
   "metadata": {},
   "source": [
    "### On ajoute l'ingrédient Oeuf\n",
    "On pourrait en faire de même pour de nombreux autres ingrédients pour encore plus affiner la qualité de notre application"
   ]
  },
  {
   "cell_type": "code",
   "execution_count": 24,
   "metadata": {},
   "outputs": [],
   "source": [
    "vect_oeuf = [\"'Oeuf'\",'0,060']\n",
    "df_oeuf = pandas.DataFrame([vect_oeuf], columns = ['Aliment','Poids'])\n",
    "data_convert = data_convert.append(df_oeuf)"
   ]
  },
  {
   "cell_type": "code",
   "execution_count": 25,
   "metadata": {},
   "outputs": [
    {
     "data": {
      "text/html": [
       "<div>\n",
       "<style scoped>\n",
       "    .dataframe tbody tr th:only-of-type {\n",
       "        vertical-align: middle;\n",
       "    }\n",
       "\n",
       "    .dataframe tbody tr th {\n",
       "        vertical-align: top;\n",
       "    }\n",
       "\n",
       "    .dataframe thead th {\n",
       "        text-align: right;\n",
       "    }\n",
       "</style>\n",
       "<table border=\"1\" class=\"dataframe\">\n",
       "  <thead>\n",
       "    <tr style=\"text-align: right;\">\n",
       "      <th></th>\n",
       "      <th>Aliment</th>\n",
       "      <th>Poids</th>\n",
       "    </tr>\n",
       "  </thead>\n",
       "  <tbody>\n",
       "    <tr>\n",
       "      <th>0</th>\n",
       "      <td>'Pomme de terre M'</td>\n",
       "      <td>0,120</td>\n",
       "    </tr>\n",
       "    <tr>\n",
       "      <th>0</th>\n",
       "      <td>'Pomme de terre P'</td>\n",
       "      <td>0,080</td>\n",
       "    </tr>\n",
       "    <tr>\n",
       "      <th>0</th>\n",
       "      <td>'Tomate G'</td>\n",
       "      <td>0,200</td>\n",
       "    </tr>\n",
       "    <tr>\n",
       "      <th>0</th>\n",
       "      <td>'Tomate P'</td>\n",
       "      <td>0,075</td>\n",
       "    </tr>\n",
       "    <tr>\n",
       "      <th>0</th>\n",
       "      <td>'Oeuf'</td>\n",
       "      <td>0,060</td>\n",
       "    </tr>\n",
       "  </tbody>\n",
       "</table>\n",
       "</div>"
      ],
      "text/plain": [
       "              Aliment  Poids\n",
       "0  'Pomme de terre M'  0,120\n",
       "0  'Pomme de terre P'  0,080\n",
       "0          'Tomate G'  0,200\n",
       "0          'Tomate P'  0,075\n",
       "0              'Oeuf'  0,060"
      ]
     },
     "metadata": {},
     "output_type": "display_data"
    }
   ],
   "source": [
    "display(data_convert.tail())"
   ]
  },
  {
   "cell_type": "markdown",
   "metadata": {},
   "source": [
    "### On crée le fichier csv pour stocker cette database"
   ]
  },
  {
   "cell_type": "code",
   "execution_count": 20,
   "metadata": {},
   "outputs": [],
   "source": [
    "import csv\n",
    "data_convert.to_csv('data_convert.csv')"
   ]
  }
 ],
 "metadata": {
  "kernelspec": {
   "display_name": "Python 3",
   "language": "python",
   "name": "python3"
  },
  "language_info": {
   "codemirror_mode": {
    "name": "ipython",
    "version": 3
   },
   "file_extension": ".py",
   "mimetype": "text/x-python",
   "name": "python",
   "nbconvert_exporter": "python",
   "pygments_lexer": "ipython3",
   "version": "3.7.3"
  }
 },
 "nbformat": 4,
 "nbformat_minor": 2
}
